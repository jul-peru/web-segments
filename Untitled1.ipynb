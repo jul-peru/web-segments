{
 "cells": [
  {
   "cell_type": "code",
   "execution_count": 4,
   "id": "882b06d4-2dd1-4610-b97b-ccb64ec38ab1",
   "metadata": {},
   "outputs": [],
   "source": [
    "import pandas as pd\n",
    "import numpy as np\n",
    "from lightfm import LightFM\n",
    "# import umap.umap_ as umap\n",
    "import matplotlib.pyplot as plt\n",
    "import scipy.sparse as ss\n",
    "from sklearn.cluster import MiniBatchKMeans\n",
    "from sklearn.preprocessing import StandardScaler\n",
    "from sklearn.metrics.pairwise import pairwise_distances_argmin"
   ]
  },
  {
   "cell_type": "code",
   "execution_count": 5,
   "id": "2e13ebc6-1cba-4bad-94df-731da9855018",
   "metadata": {},
   "outputs": [
    {
     "data": {
      "text/plain": [
       "'2023-04-20_AUG'"
      ]
     },
     "execution_count": 5,
     "metadata": {},
     "output_type": "execute_result"
    }
   ],
   "source": [
    "from datetime import datetime\n",
    "from datetime import date\n",
    "date = date.today()\n",
    "period = \"AUG\"\n",
    "run = f\"{date}_{period}\"\n",
    "run"
   ]
  },
  {
   "cell_type": "code",
   "execution_count": 5,
   "id": "e716ff57-3a54-4f09-a771-129672553349",
   "metadata": {},
   "outputs": [
    {
     "data": {
      "application/vnd.jupyter.widget-view+json": {
       "model_id": "7b060cf321de439b878da0dda80f14de",
       "version_major": 2,
       "version_minor": 0
      },
      "text/plain": [
       "Query is running:   0%|          |"
      ]
     },
     "metadata": {},
     "output_type": "display_data"
    },
    {
     "data": {
      "application/vnd.jupyter.widget-view+json": {
       "model_id": "a13641570c784ad4a5cf7275a9cd72f2",
       "version_major": 2,
       "version_minor": 0
      },
      "text/plain": [
       "Downloading:   0%|          |"
      ]
     },
     "metadata": {},
     "output_type": "display_data"
    }
   ],
   "source": [
    "%%bigquery users_tags\n",
    "\n",
    "\n",
    "select event_date, event_timestamp,\n",
    "    client_id, event_params\n",
    "from `vertex-ai-sandbox-380023.feature_prep.watch_tags`\n"
   ]
  },
  {
   "cell_type": "code",
   "execution_count": 7,
   "id": "422f205f-ce55-404c-84d2-545339269ed0",
   "metadata": {},
   "outputs": [],
   "source": [
    "# this I did to check what kind of design events are available\n",
    "\n",
    "event_design = users_tags[users_tags[\"event_params\"].str.contains(\"saved design\")][[\"event_timestamp\", \"event_params\"]]\n",
    "event_design[\"event_params\"] = event_design[\"event_params\"].str.replace(\"saved design:\", \"\")\n",
    "\n",
    "# list(event_design[\"event_params\"].str.split(\"-\").explode().unique())"
   ]
  },
  {
   "cell_type": "code",
   "execution_count": 8,
   "id": "0c52668d-af90-404f-8411-932ee870d5d5",
   "metadata": {},
   "outputs": [
    {
     "name": "stderr",
     "output_type": "stream",
     "text": [
      "/opt/conda/lib/python3.7/site-packages/ipykernel_launcher.py:11: SettingWithCopyWarning: \n",
      "A value is trying to be set on a copy of a slice from a DataFrame.\n",
      "Try using .loc[row_indexer,col_indexer] = value instead\n",
      "\n",
      "See the caveats in the documentation: https://pandas.pydata.org/pandas-docs/stable/user_guide/indexing.html#returning-a-view-versus-a-copy\n",
      "  # This is added back by InteractiveShellApp.init_path()\n"
     ]
    }
   ],
   "source": [
    "users_tags[\"event_params\"] = users_tags[\"event_params\"].str.lower()\n",
    "\n",
    "tags_for_features = users_tags.copy()\n",
    "list_of_tags = list(event_design[\"event_params\"].str.split(\"-\").explode().unique())\n",
    "\n",
    "for watch_tag in list_of_tags:\n",
    "    tags_for_features = tags_for_features[~((tags_for_features[\"event_params\"].str.contains(watch_tag))\\\n",
    "                                            & (tags_for_features[\"event_params\"].str.contains(\"saved design\")))]\n",
    "    users_tags_temp = users_tags[((users_tags[\"event_params\"].str.contains(watch_tag))\\\n",
    "                                            & (users_tags[\"event_params\"].str.contains(\"saved design\")))]\n",
    "    users_tags_temp[\"event_params\"] = f\"saved design:{watch_tag}\"\n",
    "    tags_for_features = pd.concat([tags_for_features, users_tags_temp])\n",
    "    del users_tags_temp\n",
    "\n",
    "del users_tags"
   ]
  },
  {
   "cell_type": "code",
   "execution_count": 9,
   "id": "454a875c-644f-4dbe-adee-47966d27af4b",
   "metadata": {},
   "outputs": [],
   "source": [
    "tags_for_features.loc[((~tags_for_features[\"event_params\"].str.contains(\"trade-in:no\"))\\\n",
    "                    & tags_for_features[\"event_params\"].str.contains(\"trade-in\")), \"event_params\"] = \"trade-in\"\n",
    "\n",
    "tags_for_features.loc\\\n",
    "    [(tags_for_features[\"event_params\"].str.contains(\"search history\") &\\\n",
    "     tags_for_features[\"event_params\"].str.contains(\"watch\")), \"event_params\"] = \"search history:watch\"\n",
    "\n",
    "tags_for_features.loc\\\n",
    "    [(tags_for_features[\"event_params\"].str.contains(\"search history\") &\\\n",
    "     ~tags_for_features[\"event_params\"].str.contains(\"watch\")), \"event_params\"] = \"search history:not watch\"\n",
    "\n",
    "tags_for_features.loc\\\n",
    "    [tags_for_features[\"event_params\"].str.contains(\"manuals and downloads\"), \"event_params\"] = \"manuals and downloads\"\n",
    "\n",
    "tags_for_features.loc\\\n",
    "    [tags_for_features[\"event_params\"].str.contains(\"vacuum cleaner\"), \"event_params\"] = \"vacuum cleaner\"\n",
    "\n",
    "tags_for_features.loc\\\n",
    "    [tags_for_features[\"event_params\"].str.contains(\"buds2\"), \"event_params\"] = \"buds2\"\n",
    "\n",
    "tags_for_features.loc\\\n",
    "    [(tags_for_features[\"event_params\"].str.contains(\"buds\") &\\\n",
    "      ~tags_for_features[\"event_params\"].str.contains(\"2\")), \"event_params\"] = \"buds\"\n",
    "\n",
    "tags_for_features.loc\\\n",
    "    [tags_for_features[\"event_params\"].str.contains(\"availability\"), \"event_params\"] = \"availability\"\n",
    "\n",
    "tags_for_features.loc\\\n",
    "    [tags_for_features[\"event_params\"].str.contains(\"home appliances\"), \"event_params\"] = \"home appliances\"\n",
    "\n",
    "tags_for_features.loc\\\n",
    "    [tags_for_features[\"event_params\"].str.contains(\"gaming\"), \"event_params\"] = \"gaming\"\n",
    "\n",
    "tags_for_features.loc\\\n",
    "    [tags_for_features[\"event_params\"].str.contains(\"compare\"), \"event_params\"] = \"compare\"\n",
    "\n",
    "tags_for_features.loc\\\n",
    "    [tags_for_features[\"event_params\"].str.contains(\"dispenser\"), \"event_params\"] = \"dispenser\"\n",
    "\n",
    "tags_for_features = tags_for_features[~tags_for_features[\"event_params\"].str.contains(\"result\")]\n",
    "\n",
    "remove_tags = [\"tab:all\", \"gnb:close\", \"tab:products\", \"sticky bar:continue\"]\n",
    "tags_for_features = tags_for_features[~tags_for_features[\"event_params\"].isin(remove_tags)]\n",
    "\n",
    "tags_for_features.loc[tags_for_features[\"event_params\"].str.contains(\"stock alert\"), \"event_params\"] = \"stock alert\""
   ]
  },
  {
   "cell_type": "code",
   "execution_count": null,
   "id": "dc0ba398-7bec-45a1-a2a6-cc92043d7449",
   "metadata": {},
   "outputs": [],
   "source": []
  },
  {
   "cell_type": "code",
   "execution_count": 10,
   "id": "3cb8b8b4-a027-4bf9-baa2-c94b1319b08f",
   "metadata": {},
   "outputs": [
    {
     "data": {
      "text/html": [
       "<div>\n",
       "<style scoped>\n",
       "    .dataframe tbody tr th:only-of-type {\n",
       "        vertical-align: middle;\n",
       "    }\n",
       "\n",
       "    .dataframe tbody tr th {\n",
       "        vertical-align: top;\n",
       "    }\n",
       "\n",
       "    .dataframe thead th {\n",
       "        text-align: right;\n",
       "    }\n",
       "</style>\n",
       "<table border=\"1\" class=\"dataframe\">\n",
       "  <thead>\n",
       "    <tr style=\"text-align: right;\">\n",
       "      <th></th>\n",
       "      <th>event_params</th>\n",
       "      <th>event_timestamp</th>\n",
       "    </tr>\n",
       "  </thead>\n",
       "  <tbody>\n",
       "    <tr>\n",
       "      <th>62</th>\n",
       "      <td>colour:graphite</td>\n",
       "      <td>61884</td>\n",
       "    </tr>\n",
       "    <tr>\n",
       "      <th>125</th>\n",
       "      <td>colour:silver</td>\n",
       "      <td>45439</td>\n",
       "    </tr>\n",
       "    <tr>\n",
       "      <th>64</th>\n",
       "      <td>colour:gray titanium</td>\n",
       "      <td>30230</td>\n",
       "    </tr>\n",
       "    <tr>\n",
       "      <th>14</th>\n",
       "      <td>colour:black</td>\n",
       "      <td>25472</td>\n",
       "    </tr>\n",
       "    <tr>\n",
       "      <th>17</th>\n",
       "      <td>colour:black titanium</td>\n",
       "      <td>16003</td>\n",
       "    </tr>\n",
       "    <tr>\n",
       "      <th>...</th>\n",
       "      <td>...</td>\n",
       "      <td>...</td>\n",
       "    </tr>\n",
       "    <tr>\n",
       "      <th>132</th>\n",
       "      <td>colour:turquoise green</td>\n",
       "      <td>1</td>\n",
       "    </tr>\n",
       "    <tr>\n",
       "      <th>58</th>\n",
       "      <td>colour:flamingo pink</td>\n",
       "      <td>1</td>\n",
       "    </tr>\n",
       "    <tr>\n",
       "      <th>1</th>\n",
       "      <td>accordion:what do the led notification light c...</td>\n",
       "      <td>1</td>\n",
       "    </tr>\n",
       "    <tr>\n",
       "      <th>80</th>\n",
       "      <td>colour:metallic blue</td>\n",
       "      <td>1</td>\n",
       "    </tr>\n",
       "    <tr>\n",
       "      <th>149</th>\n",
       "      <td>tab:all colours</td>\n",
       "      <td>1</td>\n",
       "    </tr>\n",
       "  </tbody>\n",
       "</table>\n",
       "<p>150 rows × 2 columns</p>\n",
       "</div>"
      ],
      "text/plain": [
       "                                          event_params  event_timestamp\n",
       "62                                     colour:graphite            61884\n",
       "125                                      colour:silver            45439\n",
       "64                                colour:gray titanium            30230\n",
       "14                                        colour:black            25472\n",
       "17                               colour:black titanium            16003\n",
       "..                                                 ...              ...\n",
       "132                             colour:turquoise green                1\n",
       "58                                colour:flamingo pink                1\n",
       "1    accordion:what do the led notification light c...                1\n",
       "80                                colour:metallic blue                1\n",
       "149                                    tab:all colours                1\n",
       "\n",
       "[150 rows x 2 columns]"
      ]
     },
     "execution_count": 10,
     "metadata": {},
     "output_type": "execute_result"
    }
   ],
   "source": [
    "clrs = tags_for_features[tags_for_features[\"event_params\"].str.contains(\"colour\")]\n",
    "clrs.groupby([\"event_params\"]).event_timestamp.count().reset_index().sort_values(by=\"event_timestamp\", ascending=False)"
   ]
  },
  {
   "cell_type": "code",
   "execution_count": 11,
   "id": "cae91c5a-c50f-4501-85dc-6b619839ccb9",
   "metadata": {},
   "outputs": [],
   "source": [
    "tags_gr = tags_for_features.groupby([\"event_params\"])\\\n",
    "    .event_timestamp.count()\\\n",
    "    .reset_index()\\\n",
    "    .sort_values(by=\"event_timestamp\", ascending=False)\n"
   ]
  },
  {
   "cell_type": "code",
   "execution_count": 12,
   "id": "d13b0f8e-85ad-4f3e-a171-a043d09a6a2a",
   "metadata": {},
   "outputs": [
    {
     "data": {
      "text/plain": [
       "642"
      ]
     },
     "execution_count": 12,
     "metadata": {},
     "output_type": "execute_result"
    }
   ],
   "source": [
    "short_tags_list = list(tags_gr[tags_gr[\"event_timestamp\"] > 1000][\"event_params\"])\n",
    "# len(short_tags_list)\n",
    "tags_for_features_short = tags_for_features[tags_for_features[\"event_params\"].isin(short_tags_list)]\n",
    "tags_for_features_short.event_params.nunique()"
   ]
  },
  {
   "cell_type": "code",
   "execution_count": 13,
   "id": "fa478403-d197-4632-84d5-d79da9b5a24f",
   "metadata": {},
   "outputs": [],
   "source": [
    "# preparing features for tags\n",
    "tags_to_pivot = tags_for_features_short[[\"client_id\", \"event_timestamp\", \"event_params\"]].drop_duplicates()\\\n",
    "    .reset_index(drop=True)\n",
    "\n",
    "del tags_for_features_short"
   ]
  },
  {
   "cell_type": "code",
   "execution_count": 14,
   "id": "a928bc69-54cb-4618-a272-59244dbdc1e3",
   "metadata": {},
   "outputs": [],
   "source": [
    "# preparing features for tags\n",
    "\n",
    "pivot_tags = pd.pivot_table(tags_to_pivot, index=[\"client_id\"],\n",
    "                            columns=[\"event_params\"], values=\"event_timestamp\",\n",
    "                            aggfunc=\"count\", fill_value=0).reset_index()\n",
    "\n",
    "del tags_to_pivot"
   ]
  },
  {
   "cell_type": "code",
   "execution_count": 15,
   "id": "98dd89eb-3c6a-4905-bc89-d4bf11015cf5",
   "metadata": {},
   "outputs": [],
   "source": [
    "pivot_tags.to_parquet(\"AUG_tags_per_user.pq\")"
   ]
  },
  {
   "cell_type": "code",
   "execution_count": 13,
   "id": "75f36ca5-3550-4f25-a3d0-d65c181a7efc",
   "metadata": {},
   "outputs": [
    {
     "data": {
      "text/plain": [
       "(326197, 643)"
      ]
     },
     "execution_count": 13,
     "metadata": {},
     "output_type": "execute_result"
    }
   ],
   "source": [
    "pivot_tags = pd.read_parquet(\"AUG_tags_per_user.pq\")\n",
    "pivot_tags.shape"
   ]
  },
  {
   "cell_type": "code",
   "execution_count": 4,
   "id": "764b2722-4fb9-4e2f-8459-1b906e3928b0",
   "metadata": {},
   "outputs": [
    {
     "data": {
      "text/plain": [
       "<326197x642 sparse matrix of type '<class 'numpy.int64'>'\n",
       "\twith 3155261 stored elements in Compressed Sparse Row format>"
      ]
     },
     "execution_count": 4,
     "metadata": {},
     "output_type": "execute_result"
    }
   ],
   "source": [
    "sparse_tags = ss.csr_matrix(pivot_tags.drop(columns=[\"client_id\"]).values)\n",
    "sparse_tags"
   ]
  },
  {
   "cell_type": "code",
   "execution_count": 5,
   "id": "e5d1ccf3-e7eb-4ffa-ab91-d319494aa6ff",
   "metadata": {},
   "outputs": [],
   "source": [
    "if \"model_tags\" in locals():\n",
    "    del model_tags\n",
    "n_comp = 25\n",
    "model_tags = LightFM(loss='warp', random_state=42, no_components=n_comp)\n",
    "model_tags.fit(sparse_tags, epochs=100, num_threads=1)\n",
    "user_emb_tags = model_tags.user_embeddings"
   ]
  },
  {
   "cell_type": "code",
   "execution_count": 6,
   "id": "5564e824-6abb-4483-a433-025f2229f03e",
   "metadata": {},
   "outputs": [],
   "source": [
    "emb_tags = pd.DataFrame(user_emb_tags)\n",
    "for col in emb_tags.columns:\n",
    "    emb_tags = emb_tags.rename(columns={col: f\"col_{col}\"})"
   ]
  },
  {
   "cell_type": "code",
   "execution_count": 7,
   "id": "6ce5c429-e0b2-4e52-bcf8-94a94507c180",
   "metadata": {},
   "outputs": [],
   "source": [
    "emb_tags.to_parquet(f\"emb_tags_{n_comp}.pq\")"
   ]
  },
  {
   "cell_type": "code",
   "execution_count": 11,
   "id": "b916462a-025d-4808-8f76-371ea5c165fc",
   "metadata": {},
   "outputs": [],
   "source": [
    "n_comp = 25\n",
    "emb_tags_25 = pd.read_parquet(f\"emb_tags_{n_comp}.pq\").values"
   ]
  },
  {
   "cell_type": "code",
   "execution_count": 12,
   "id": "21c18c50-f443-4418-b8a6-af6dee417d87",
   "metadata": {},
   "outputs": [
    {
     "data": {
      "text/plain": [
       "array([[-0.0147962 , -0.39761937, -0.26960868, ...,  0.1258422 ,\n",
       "        -0.16644514, -0.31131908],\n",
       "       [ 0.33503792, -0.19317514, -0.21924737, ...,  0.04283247,\n",
       "         0.21233997,  0.04810783],\n",
       "       [ 0.11598038,  0.19888817, -0.508257  , ...,  0.64314544,\n",
       "         0.6212508 , -0.00304114],\n",
       "       ...,\n",
       "       [-0.43279177,  0.21961479,  0.01257806, ..., -0.08636177,\n",
       "         0.34774768,  0.03724869],\n",
       "       [ 0.08224156, -0.03003123,  0.1159418 , ..., -0.24202669,\n",
       "         0.36805233,  0.1645947 ],\n",
       "       [ 0.18292034, -0.3916358 ,  0.6435098 , ...,  0.36850867,\n",
       "         0.2953449 ,  0.3049081 ]], dtype=float32)"
      ]
     },
     "execution_count": 12,
     "metadata": {},
     "output_type": "execute_result"
    }
   ],
   "source": [
    "emb_tags_25"
   ]
  },
  {
   "cell_type": "code",
   "execution_count": 14,
   "id": "7f6e196f-cbb6-45a7-aed9-877990652b3c",
   "metadata": {},
   "outputs": [],
   "source": [
    "import umap.umap_ as umap\n",
    "\n",
    "if \"umap_model\" in locals():\n",
    "    del umap_model\n",
    "\n",
    "# defining the UMAP model\n",
    "umap_model = umap.UMAP(n_components=2, random_state=21, metric='manhattan', n_neighbors=30)"
   ]
  },
  {
   "cell_type": "code",
   "execution_count": null,
   "id": "15c0e355-76f7-421f-8d24-7386ab52bc0a",
   "metadata": {},
   "outputs": [],
   "source": [
    "\n",
    "embedding = umap_model.fit_transform(emb_tags_25)\n",
    "\n",
    "# plotting\n",
    "# plt.scatter(embedding[:, 0], embedding[:, 1])\n",
    "# plt.show()"
   ]
  },
  {
   "cell_type": "code",
   "execution_count": 11,
   "id": "e2620acb-34ba-46b6-8156-fa8a73f859a8",
   "metadata": {},
   "outputs": [],
   "source": [
    "user_emb_page = pd.read_parquet(\"emb_page_ev_15.pq\").values\n",
    "user_emb_tags = pd.read_parquet(\"emb_tags_25.pq\").values\n",
    "user_emb_dev = pd.read_parquet(\"emb_devices_7.pq\").values"
   ]
  },
  {
   "cell_type": "code",
   "execution_count": 14,
   "id": "0239fa1c-a634-4bdf-9b01-c5e83908dcb5",
   "metadata": {},
   "outputs": [],
   "source": [
    "embedded_tags = pd.concat([pivot_tags[[\"client_id\"]], pd.DataFrame(user_emb_tags)], axis=1)\n",
    "tag_columns = list()\n",
    "tag_columns.append(\"client_id\")\n",
    "for i in range(embedded_tags.shape[1]-1):\n",
    "    new_entry = f\"embed_tag_{i}\"\n",
    "    tag_columns.append(new_entry)\n",
    "embedded_tags.columns = tag_columns"
   ]
  },
  {
   "cell_type": "code",
   "execution_count": 22,
   "id": "30e472c2-b00e-4405-bd83-7a731f8d4415",
   "metadata": {},
   "outputs": [],
   "source": [
    "embedded_tags.to_parquet(\"embed_tags_25.pq\")"
   ]
  },
  {
   "cell_type": "code",
   "execution_count": 15,
   "id": "a20113d2-f7e3-486a-91b7-3d5495833e68",
   "metadata": {},
   "outputs": [],
   "source": [
    "events_pages = pd.read_parquet(\"3m_events_pages_features.pq\")\n",
    "# user_emb_page = pd.read_parquet(\"emb_page.pq\").values"
   ]
  },
  {
   "cell_type": "code",
   "execution_count": 16,
   "id": "d0b90de4-4195-4444-a6f4-1af55118707b",
   "metadata": {},
   "outputs": [],
   "source": [
    "embedded_page = pd.concat([events_pages[[\"client_id\"]], pd.DataFrame(user_emb_page)], axis=1)\n",
    "page_columns = list()\n",
    "page_columns.append(\"client_id\")\n",
    "for i in range(embedded_page.shape[1]-1):\n",
    "    new_entry = f\"embed_page_{i}\"\n",
    "    page_columns.append(new_entry)\n",
    "embedded_page.columns = page_columns"
   ]
  },
  {
   "cell_type": "code",
   "execution_count": 17,
   "id": "e6bb3e89-49e8-404c-9b10-0dff5e9e948c",
   "metadata": {},
   "outputs": [],
   "source": [
    "# user_emb_dev = pd.read_parquet(\"dev_emb.pq\").values\n",
    "user_device_features = pd.read_parquet(f\"users_device_features_{run}.pq\")"
   ]
  },
  {
   "cell_type": "code",
   "execution_count": 18,
   "id": "156c0b4f-80ed-49f5-8430-4f382c4456e2",
   "metadata": {},
   "outputs": [],
   "source": [
    "embedded_dev = pd.concat([user_device_features[[\"client_id\"]], pd.DataFrame(user_emb_dev)], axis=1)\n",
    "dev_columns = list()\n",
    "dev_columns.append(\"client_id\")\n",
    "for i in range(embedded_dev.shape[1]-1):\n",
    "    new_entry = f\"embed_dev_{i}\"\n",
    "    dev_columns.append(new_entry)\n",
    "embedded_dev.columns = dev_columns"
   ]
  },
  {
   "cell_type": "code",
   "execution_count": 19,
   "id": "adcabfa9-2d71-40fa-a3a5-2d72d200c262",
   "metadata": {},
   "outputs": [],
   "source": [
    "user_embeddings_full = embedded_dev.merge(embedded_page, on=\"client_id\", how=\"outer\")\\\n",
    "    .merge(embedded_tags, on=\"client_id\", how=\"outer\")\\\n",
    "    .fillna(0)\n"
   ]
  },
  {
   "cell_type": "code",
   "execution_count": 20,
   "id": "78306759-6d9e-4ef9-b86e-3016ff7ca467",
   "metadata": {},
   "outputs": [],
   "source": [
    "users_num = pd.read_parquet(f\"users_numerical_activity_{run}.pq\")"
   ]
  },
  {
   "cell_type": "code",
   "execution_count": 21,
   "id": "285a2f5d-5726-42cf-ae51-4d38f0930ea5",
   "metadata": {},
   "outputs": [],
   "source": [
    "user_embed_cat_num = users_num.merge(user_embeddings_full, on=\"client_id\", how=\"inner\")"
   ]
  },
  {
   "cell_type": "code",
   "execution_count": 22,
   "id": "8cc5c4fc-da2d-434e-a886-6dcfb22a92af",
   "metadata": {},
   "outputs": [],
   "source": [
    "user_embed_cat_num.to_parquet(f\"{run}_hyp_embeddings_with_num.pq\")"
   ]
  },
  {
   "cell_type": "code",
   "execution_count": 7,
   "id": "0620fa8d-f218-4c92-b342-c9eb832b1087",
   "metadata": {},
   "outputs": [],
   "source": [
    "user_embed_cat_num = pd.read_parquet(f\"{run}_embeddings_with_num.pq\")"
   ]
  },
  {
   "cell_type": "code",
   "execution_count": 23,
   "id": "71adac11-c157-4f7c-9c15-1150728ce1db",
   "metadata": {},
   "outputs": [],
   "source": [
    "F = user_embed_cat_num.drop(columns=\"client_id\")\n",
    "F = StandardScaler().fit_transform(F)"
   ]
  },
  {
   "cell_type": "code",
   "execution_count": null,
   "id": "f1afee3c-a37a-439c-b8de-ba5a0f527891",
   "metadata": {},
   "outputs": [],
   "source": []
  },
  {
   "cell_type": "code",
   "execution_count": null,
   "id": "26a9e655-0435-41f1-b3c1-b9648dccceb2",
   "metadata": {},
   "outputs": [],
   "source": [
    "user_emb_dev_7\n",
    "emb_page_ev_15\n",
    "user_emb_tags_25"
   ]
  },
  {
   "cell_type": "code",
   "execution_count": null,
   "id": "75225d14-1ea7-4eeb-97d8-2489a0abefaa",
   "metadata": {},
   "outputs": [],
   "source": []
  },
  {
   "cell_type": "code",
   "execution_count": null,
   "id": "be6eabad-c4d4-4b83-b392-c9e0b7ba4a69",
   "metadata": {},
   "outputs": [],
   "source": []
  },
  {
   "cell_type": "code",
   "execution_count": 24,
   "id": "faadfe3a-a2bf-4117-8623-f4ad09bc1729",
   "metadata": {},
   "outputs": [
    {
     "name": "stdout",
     "output_type": "stream",
     "text": [
      "running 2 number of clusters\n",
      "For n_clusters = 2, the average calinski_harabasz score is 951.87\n",
      "For n_clusters = 2, the average davies_bouldin score is 3.54\n",
      "running 3 number of clusters\n",
      "For n_clusters = 3, the average calinski_harabasz score is 18933.57\n",
      "For n_clusters = 3, the average davies_bouldin score is 4.03\n",
      "running 4 number of clusters\n",
      "For n_clusters = 4, the average calinski_harabasz score is 17945.50\n",
      "For n_clusters = 4, the average davies_bouldin score is 4.15\n",
      "running 5 number of clusters\n",
      "For n_clusters = 5, the average calinski_harabasz score is 16272.99\n",
      "For n_clusters = 5, the average davies_bouldin score is 3.63\n",
      "running 6 number of clusters\n",
      "For n_clusters = 6, the average calinski_harabasz score is 14865.96\n",
      "For n_clusters = 6, the average davies_bouldin score is 3.64\n",
      "running 7 number of clusters\n",
      "For n_clusters = 7, the average calinski_harabasz score is 14586.73\n",
      "For n_clusters = 7, the average davies_bouldin score is 3.52\n",
      "running 8 number of clusters\n",
      "For n_clusters = 8, the average calinski_harabasz score is 12239.82\n",
      "For n_clusters = 8, the average davies_bouldin score is 3.48\n",
      "running 9 number of clusters\n",
      "For n_clusters = 9, the average calinski_harabasz score is 12168.00\n",
      "For n_clusters = 9, the average davies_bouldin score is 3.43\n",
      "running 10 number of clusters\n",
      "For n_clusters = 10, the average calinski_harabasz score is 11920.43\n",
      "For n_clusters = 10, the average davies_bouldin score is 3.47\n",
      "running 11 number of clusters\n",
      "For n_clusters = 11, the average calinski_harabasz score is 11907.05\n",
      "For n_clusters = 11, the average davies_bouldin score is 3.14\n",
      "running 12 number of clusters\n",
      "For n_clusters = 12, the average calinski_harabasz score is 11271.06\n",
      "For n_clusters = 12, the average davies_bouldin score is 3.11\n",
      "running 13 number of clusters\n",
      "For n_clusters = 13, the average calinski_harabasz score is 10332.44\n",
      "For n_clusters = 13, the average davies_bouldin score is 3.39\n",
      "running 14 number of clusters\n",
      "For n_clusters = 14, the average calinski_harabasz score is 9838.26\n",
      "For n_clusters = 14, the average davies_bouldin score is 3.37\n"
     ]
    }
   ],
   "source": [
    "from sklearn.metrics import silhouette_score, calinski_harabasz_score, davies_bouldin_score\n",
    "if \"mbk_new\" in locals():\n",
    "    del mbk_new\n",
    "    \n",
    "for n_clusters in range(2, 15):\n",
    "    print(f\"running {n_clusters} number of clusters\")\n",
    "    mbk_new = MiniBatchKMeans(n_clusters=n_clusters, random_state=42, n_init=10, batch_size=512)\n",
    "    cluster_labels = mbk_new.fit_predict(F)\n",
    "    # silhouette_avg = silhouette_score(F, cluster_labels)\n",
    "    # print(\"For n_clusters = {}, the average silhouette score is {:.2f}\".format(n_clusters, silhouette_avg))\n",
    "    ch_score = calinski_harabasz_score(F, cluster_labels)\n",
    "    db_score = davies_bouldin_score(F, cluster_labels)\n",
    "    print(\"For n_clusters = {}, the average calinski_harabasz score is {:.2f}\".format(n_clusters, ch_score))\n",
    "    print(\"For n_clusters = {}, the average davies_bouldin score is {:.2f}\".format(n_clusters, db_score))"
   ]
  },
  {
   "cell_type": "code",
   "execution_count": 26,
   "id": "29476dd1-8012-4bee-b805-22af34077c54",
   "metadata": {},
   "outputs": [],
   "source": [
    "if \"mbk\" in locals():\n",
    "    del mbk\n",
    "\n",
    "# sample_df = user_embeddings_full.sample(frac=0.5, random_state=1)\n",
    "F = user_embed_cat_num.drop(columns=\"client_id\")\n",
    "F = StandardScaler().fit_transform(F)\n",
    "\n",
    "n_clusters = 4\n",
    "batch_size = 256\n",
    "\n",
    "mbk = MiniBatchKMeans(n_clusters=n_clusters, random_state=42, n_init=10, batch_size=batch_size)\n",
    "mbk.fit(F) \n",
    "mbk_means_cluster_centers = np.sort(mbk.cluster_centers_, axis = 0) \n",
    "mbk_means_labels = pairwise_distances_argmin(F, mbk_means_cluster_centers) \n",
    "yhat_4 = mbk.predict(F)\n",
    "\n",
    "# plt.figure(figsize=(12,8))\n",
    "# plt.scatter(embedding[:, 0], embedding[:, 1], c=yhat_7)\n",
    "# plt.title(f\"Amount of clusters is {n_clusters}, batch size is {batch_size}\")\n",
    "# plt.colorbar()\n",
    "# plt.show()"
   ]
  },
  {
   "cell_type": "code",
   "execution_count": 27,
   "id": "0805c795-54b5-4730-9af7-e5e891ad4bf6",
   "metadata": {},
   "outputs": [],
   "source": [
    "data = user_embed_cat_num.copy()"
   ]
  },
  {
   "cell_type": "code",
   "execution_count": 28,
   "id": "25ce51f4-18e5-4cb9-ac26-6f42fc7de795",
   "metadata": {},
   "outputs": [],
   "source": [
    "data[\"cluster_4\"] = yhat_4\n",
    "data.to_parquet(\"clustered.pq\")"
   ]
  },
  {
   "cell_type": "code",
   "execution_count": 29,
   "id": "b16e93e1-ff04-4e95-a9da-c26d0da41f0a",
   "metadata": {},
   "outputs": [
    {
     "ename": "NameError",
     "evalue": "name 'umap' is not defined",
     "output_type": "error",
     "traceback": [
      "\u001b[0;31m---------------------------------------------------------------------------\u001b[0m",
      "\u001b[0;31mNameError\u001b[0m                                 Traceback (most recent call last)",
      "\u001b[0;32m/var/tmp/ipykernel_1422/45225232.py\u001b[0m in \u001b[0;36m<module>\u001b[0;34m\u001b[0m\n\u001b[1;32m      2\u001b[0m     \u001b[0;32mdel\u001b[0m \u001b[0mumap_minikmeans\u001b[0m\u001b[0;34m\u001b[0m\u001b[0;34m\u001b[0m\u001b[0m\n\u001b[1;32m      3\u001b[0m \u001b[0;34m\u001b[0m\u001b[0m\n\u001b[0;32m----> 4\u001b[0;31m \u001b[0mumap_minikmeans\u001b[0m \u001b[0;34m=\u001b[0m \u001b[0mumap\u001b[0m\u001b[0;34m.\u001b[0m\u001b[0mUMAP\u001b[0m\u001b[0;34m(\u001b[0m\u001b[0mn_components\u001b[0m\u001b[0;34m=\u001b[0m\u001b[0;36m2\u001b[0m\u001b[0;34m,\u001b[0m \u001b[0mrandom_state\u001b[0m\u001b[0;34m=\u001b[0m\u001b[0;36m1\u001b[0m\u001b[0;34m,\u001b[0m \u001b[0mmetric\u001b[0m\u001b[0;34m=\u001b[0m\u001b[0;34m\"manhattan\"\u001b[0m\u001b[0;34m,\u001b[0m \u001b[0mn_neighbors\u001b[0m\u001b[0;34m=\u001b[0m\u001b[0;36m10\u001b[0m\u001b[0;34m)\u001b[0m\u001b[0;34m\u001b[0m\u001b[0;34m\u001b[0m\u001b[0m\n\u001b[0m\u001b[1;32m      5\u001b[0m \u001b[0membedding\u001b[0m \u001b[0;34m=\u001b[0m \u001b[0mumap_minikmeans\u001b[0m\u001b[0;34m.\u001b[0m\u001b[0mfit_transform\u001b[0m\u001b[0;34m(\u001b[0m\u001b[0mF\u001b[0m\u001b[0;34m)\u001b[0m\u001b[0;34m\u001b[0m\u001b[0;34m\u001b[0m\u001b[0m\n\u001b[1;32m      6\u001b[0m \u001b[0;34m\u001b[0m\u001b[0m\n",
      "\u001b[0;31mNameError\u001b[0m: name 'umap' is not defined"
     ]
    }
   ],
   "source": [
    "if \"umap_minikmeans\" in locals():\n",
    "    del umap_minikmeans\n",
    "\n",
    "umap_minikmeans = umap.UMAP(n_components=2, random_state=1, metric=\"manhattan\", n_neighbors=10)\n",
    "embedding = umap_minikmeans.fit_transform(F)\n",
    "\n",
    "plt.figure(figsize=(15,10))\n",
    "plt.scatter(embedding[:, 0], embedding[:, 1], c=yhat_4)\n",
    "plt.colorbar()\n",
    "plt.show()"
   ]
  },
  {
   "cell_type": "code",
   "execution_count": null,
   "id": "e3865435-6d8c-43e1-9ff8-45bfa1b58748",
   "metadata": {},
   "outputs": [],
   "source": []
  }
 ],
 "metadata": {
  "environment": {
   "kernel": "python3",
   "name": "common-cpu.m107",
   "type": "gcloud",
   "uri": "gcr.io/deeplearning-platform-release/base-cpu:m107"
  },
  "kernelspec": {
   "display_name": "Python 3",
   "language": "python",
   "name": "python3"
  },
  "language_info": {
   "codemirror_mode": {
    "name": "ipython",
    "version": 3
   },
   "file_extension": ".py",
   "mimetype": "text/x-python",
   "name": "python",
   "nbconvert_exporter": "python",
   "pygments_lexer": "ipython3",
   "version": "3.7.12"
  }
 },
 "nbformat": 4,
 "nbformat_minor": 5
}
