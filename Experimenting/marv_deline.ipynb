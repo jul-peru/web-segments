{
 "cells": [
  {
   "cell_type": "code",
   "execution_count": null,
   "id": "d57ed1c5-205c-4dcf-9411-de8461ec74e5",
   "metadata": {},
   "outputs": [],
   "source": [
    "%%bigquery users_devices\n",
    "SELECT event_date, event_timestamp, user_pseudo_id, user_id, device.category as device_type,\n",
    "    device.mobile_brand_name as device_brand,\n",
    "    device.mobile_model_name as device_model,\n",
    "    device.mobile_marketing_name as device_name,\n",
    "    device.operating_system as device_os,\n",
    "    device.operating_system_version as device_os_version,\n",
    "    h.key as key,\n",
    "    h.value.string_value as client_id,\n",
    "    ev.key as event_key,\n",
    "    ev.value.string_value as event_params\n",
    "FROM `vertex-ai-sandbox-380023.analytics_250000498.events_20230327` \n",
    "left join unnest(user_properties) as h\n",
    "left join unnest(event_params) as ev\n",
    "where h.key = \"client_id\"\n",
    "    and (ev.key = \"page_title\" or ev.key = \"page_track\")\n",
    "    and event_date between format_date(\"%Y%m%d\", date_sub(current_date(), interval 2 week))\n",
    "    and format_date(\"%Y%m%d\", date_sub(current_date(), interval 1 day))"
   ]
  },
  {
   "cell_type": "code",
   "execution_count": null,
   "id": "199fe21a-09f7-42e8-b7ce-3a090565b093",
   "metadata": {},
   "outputs": [],
   "source": [
    "# inst\n",
    "# pip install bokeh, prince, lightfm, umap-learn"
   ]
  },
  {
   "cell_type": "code",
   "execution_count": null,
   "id": "a1e8ff7b-dd23-40b2-9c51-e698d5335c85",
   "metadata": {},
   "outputs": [],
   "source": [
    "import pandas as pd\n",
    "import numpy as np\n",
    "import prince\n",
    "from lightfm import LightFM\n",
    "from tqdm import tqdm \n",
    "import umap.umap_ as umap\n",
    "import matplotlib.pyplot as plt\n",
    "from datetime import datetime\n",
    "from sklearn.cluster import KMeans\n",
    "from kmodes.kprototypes import KPrototypes\n",
    "import plotly.graph_objects as go\n",
    "from sklearn.manifold import TSNE\n",
    "from sklearn.preprocessing import PowerTransformer"
   ]
  },
  {
   "cell_type": "code",
   "execution_count": null,
   "id": "bd5bcb33-655a-4aa2-a090-fec68d6364c7",
   "metadata": {},
   "outputs": [],
   "source": [
    "print(users_devices.shape)\n",
    "print(users_devices.drop_duplicates().shape)"
   ]
  },
  {
   "cell_type": "code",
   "execution_count": null,
   "id": "45aea891-64e3-4823-a6f2-3c0cbc8c42b1",
   "metadata": {},
   "outputs": [],
   "source": [
    "users = users_devices[~users_devices[\"client_id\"].isna()].drop_duplicates()"
   ]
  },
  {
   "cell_type": "code",
   "execution_count": null,
   "id": "ec09b35b-8570-4aeb-ac43-f992ec4e25b8",
   "metadata": {},
   "outputs": [],
   "source": [
    "non_use_mask = users[\"user_id\"].isna()\n",
    "non_users = users[non_use_mask].copy()\n",
    "non_users[\"is_user\"] = 0\n",
    "users_1 = users[~non_use_mask].copy()\n",
    "users_1[\"is_user\"] = 1\n",
    "size_df = users.shape[0]\n",
    "print(\"prep_df was: \", size_df, \"events\")\n",
    "del users\n",
    "users = pd.concat([non_users, users_1])\n",
    "if size_df == users.shape[0]:\n",
    "    print(\"new prep_df size is correct and equals\", size_df)\n",
    "else:\n",
    "    print(\"there is an error, new size is\", size_df-prep_df.shape[0], \"entries smaller\")"
   ]
  },
  {
   "cell_type": "code",
   "execution_count": null,
   "id": "efce054f-08fa-46c2-b86c-bc52698de8f8",
   "metadata": {},
   "outputs": [],
   "source": [
    "users_s = users.drop(columns=[\"key\", \"user_id\", \"user_pseudo_id\", \"device_name\"])"
   ]
  },
  {
   "cell_type": "code",
   "execution_count": null,
   "id": "1cf3b832-f3f9-4694-b4af-699347a96100",
   "metadata": {},
   "outputs": [],
   "source": [
    "users_s[\"key\"] = users_s[\"event_timestamp\"].astype(\"str\") + users_s[\"client_id\"]"
   ]
  },
  {
   "cell_type": "code",
   "execution_count": null,
   "id": "e0925e03-221d-40f4-ab52-febcf14e0df8",
   "metadata": {},
   "outputs": [],
   "source": [
    "users_s.isna().sum()"
   ]
  },
  {
   "cell_type": "code",
   "execution_count": null,
   "id": "7921881c-706c-45f8-9725-1ecd9c4011d9",
   "metadata": {},
   "outputs": [],
   "source": [
    "# it is better to use PIVOT, however there is some issue with duplicating indecies: adding key, reseting index doesn't help\n",
    "users_columns = users_s[users_s.drop(columns=[\"event_key\", \"event_params\"]).columns]\\\n",
    "    .copy().drop_duplicates().reset_index(drop=True)\n",
    "users_for_pivot = users_s[[\"key\", \"event_key\", \"event_params\"]].copy().drop_duplicates().reset_index(drop=True)\n",
    "users_title = users_for_pivot[users_for_pivot[\"event_key\"] == \"page_title\"].drop_duplicates()\n",
    "users_track = users_for_pivot[users_for_pivot[\"event_key\"] == \"page_track\"].drop_duplicates()\n",
    "# users_for_pivot = users_s[[\"key\", \"event_key\", \"event_params\"]].drop_duplicates().reset_index(drop=True)"
   ]
  },
  {
   "cell_type": "code",
   "execution_count": null,
   "id": "aa27384f-892c-481b-afb4-8cdf58f21190",
   "metadata": {},
   "outputs": [],
   "source": [
    "users_title = users_title.rename(columns={\"event_params\": \"page_title\"}).drop(columns=[\"event_key\"])\n",
    "users_track = users_track.rename(columns={\"event_params\": \"page_track\"}).drop(columns=[\"event_key\"])"
   ]
  },
  {
   "cell_type": "code",
   "execution_count": null,
   "id": "28a0c764-7765-4fa5-b5e3-3fb2e72178e7",
   "metadata": {},
   "outputs": [],
   "source": [
    "print(users_title.shape, users_track.shape)\n",
    "print(users_title.drop_duplicates().shape, users_track.drop_duplicates().shape)"
   ]
  },
  {
   "cell_type": "code",
   "execution_count": null,
   "id": "dc210fd1-6c9a-4b31-992f-9f863784a2b4",
   "metadata": {},
   "outputs": [],
   "source": [
    "users_clean_title = users_columns.reset_index(drop=True)\\\n",
    "    .merge(users_title, on=\"key\", how=\"left\")\n",
    "users_clean = users_clean_title\\\n",
    "    .merge(users_track, on=\"key\", how=\"left\")\\\n",
    "    .drop_duplicates(subset=\"key\")\\\n",
    "    .drop(columns=[\"key\"])\n",
    "\n",
    "# print(f\"the shape before merge is {users_columns.shape}, and the shape after merge is {users_clean.shape}\")\n",
    "users_clean.head(3)"
   ]
  },
  {
   "cell_type": "code",
   "execution_count": null,
   "id": "40ef53b7-d642-4020-98f8-619cffe830c7",
   "metadata": {},
   "outputs": [],
   "source": [
    "users_clean[users_clean[\"page_title\"].isna()]"
   ]
  },
  {
   "cell_type": "code",
   "execution_count": null,
   "id": "8b9cd744-ae74-4159-aacb-8bda344a9242",
   "metadata": {},
   "outputs": [],
   "source": [
    "users_clean[users_clean[\"page_track\"] == \"shop cart\"].drop_duplicates(subset=[\"page_title\", \"page_track\"])"
   ]
  },
  {
   "cell_type": "code",
   "execution_count": null,
   "id": "b8327c82-87d5-4262-b01b-c5acb0e1eb16",
   "metadata": {},
   "outputs": [],
   "source": [
    "users_clean[\"device_os_version\"] = users_clean[\"device_os_version\"]\\\n",
    "    .str.split(\".\").str[0]\\\n",
    "    .str.strip(\" \")"
   ]
  },
  {
   "cell_type": "code",
   "execution_count": null,
   "id": "bb845139-12d1-41ce-89b2-95592fc962ad",
   "metadata": {},
   "outputs": [],
   "source": [
    "users_clean[\"ts\"] = round(users_clean[\"event_timestamp\"]/1000000, 0).astype(\"int\")\n",
    "users_clean = users_clean.drop(columns=[\"event_timestamp\", \"event_date\"])"
   ]
  },
  {
   "cell_type": "code",
   "execution_count": null,
   "id": "d1b3823c-c4c2-4319-9a16-f6aa962b045f",
   "metadata": {},
   "outputs": [],
   "source": [
    "users_clean.columns"
   ]
  },
  {
   "cell_type": "code",
   "execution_count": null,
   "id": "b5e471f4-4f21-460a-a8c1-f8027f9fd637",
   "metadata": {},
   "outputs": [],
   "source": [
    "users_clean_prep = users_clean\\\n",
    "    .groupby([\"client_id\", \"is_user\", \"device_type\",\n",
    "              \"device_os\", \"device_os_version\",\n",
    "              \"device_model\", \"device_brand\",\n",
    "              \"page_title\", \"page_track\"])\\\n",
    "    .agg({\"ts\": [pd.Series.min, pd.Series.count]})\\\n",
    "    .reset_index()\n",
    "\n",
    "# changing columns names\n",
    "list_of_columns = list(users_clean_prep.columns.get_level_values(0)[:-2])\n",
    "list_of_columns.append(\"start_second\")\n",
    "list_of_columns.append(\"hits_amount\")\n",
    "\n",
    "users_clean_prep.columns = list_of_columns"
   ]
  },
  {
   "cell_type": "code",
   "execution_count": null,
   "id": "6bc69581-becc-4498-a70e-8da939c15f56",
   "metadata": {},
   "outputs": [],
   "source": [
    "users_clean_prep.head(3)"
   ]
  },
  {
   "cell_type": "code",
   "execution_count": null,
   "id": "cec3a859-3b5c-4caf-8eec-6c2215162f31",
   "metadata": {},
   "outputs": [],
   "source": [
    "users_clean.to_parquet(\"users_clean.pq\")"
   ]
  },
  {
   "cell_type": "code",
   "execution_count": null,
   "id": "3a7901de-30f0-4024-92f6-8c827a14afc4",
   "metadata": {},
   "outputs": [],
   "source": [
    "users_clean = pd.read_parquet(\"users_clean.pq\")"
   ]
  },
  {
   "cell_type": "code",
   "execution_count": null,
   "id": "a4d2915e-73ef-41a0-a21f-427f8abbdb0c",
   "metadata": {},
   "outputs": [],
   "source": [
    "users_clean"
   ]
  },
  {
   "cell_type": "code",
   "execution_count": null,
   "id": "52ac9e8f-69fc-43c7-acff-2885de419744",
   "metadata": {},
   "outputs": [],
   "source": [
    "users_clean.page_title.nunique()"
   ]
  },
  {
   "cell_type": "code",
   "execution_count": null,
   "id": "6d6556e1-262c-44b5-83bb-603ba6e6cdc5",
   "metadata": {},
   "outputs": [],
   "source": [
    "X_num_df = users_clean.drop(columns=[\"client_id\"]).select_dtypes(exclude='object')\n",
    "# X_cat_df = users_clean.drop(columns=[\"client_id\", \"page_title\", \"device_model\"]).select_dtypes(include='object')\n",
    "X_cat_df = users_clean.drop(columns=[\"client_id\", \"page_title\"]).select_dtypes(include='object')\n",
    "\n",
    "del users_clean, X_num_df"
   ]
  },
  {
   "cell_type": "code",
   "execution_count": null,
   "id": "243fc4a4-0f1e-4614-9591-e24923d2172e",
   "metadata": {},
   "outputs": [],
   "source": [
    "id_ = users_clean[[\"client_id\"]]\n",
    "X_df = users_clean.drop(columns=[\"client_id\", \"page_title\", \"device_model\"])"
   ]
  },
  {
   "cell_type": "code",
   "execution_count": null,
   "id": "66c923f8-6528-4dfb-b149-f5016ed6c706",
   "metadata": {},
   "outputs": [],
   "source": [
    "# try to use everything for emb\n",
    "X_full_df = users_clean.drop(columns=[\"client_id\"])"
   ]
  },
  {
   "cell_type": "code",
   "execution_count": null,
   "id": "2a8a0974-b17a-451b-8e73-fd497a469080",
   "metadata": {},
   "outputs": [],
   "source": [
    "categorical_device = pd.get_dummies(users_clean[[\"device_type\", \"device_os\", \"device_os_version\"]].copy())"
   ]
  },
  {
   "cell_type": "code",
   "execution_count": null,
   "id": "0e8bd366-8c24-4cfc-8dfb-711b9a1f2621",
   "metadata": {},
   "outputs": [],
   "source": [
    "categorical = pd.get_dummies(X_cat_df).values\n",
    "del X_cat_df"
   ]
  },
  {
   "cell_type": "code",
   "execution_count": null,
   "id": "514e73d9-f1f9-4c97-a3ea-2a8716fffa59",
   "metadata": {},
   "outputs": [],
   "source": [
    "del categorical"
   ]
  },
  {
   "cell_type": "code",
   "execution_count": null,
   "id": "86315253-f883-4da1-9396-78cc2e3c9215",
   "metadata": {},
   "outputs": [],
   "source": [
    "# decided not to proceed with MCA\n",
    "# mca = prince.MCA(n_components=2)\n",
    "# mca = mca.fit(categorical_device)\n",
    "# new_cat = mca.transform(categorical_device)\n",
    "# print(mca)"
   ]
  },
  {
   "cell_type": "code",
   "execution_count": null,
   "id": "6bd781a3-4026-46a4-afe8-bf6ef637193f",
   "metadata": {},
   "outputs": [],
   "source": [
    "# fig, ax = plt.subplots()\n",
    "\n",
    "# mca.plot_coordinates(X=categorical_device, ax=ax)\n",
    "# ax.set_xlabel('Component 1', fontsize=16)\n",
    "# ax.set_ylabel('Component 2', fontsize=16)"
   ]
  },
  {
   "cell_type": "code",
   "execution_count": null,
   "id": "f71fa9a8-1107-421b-80db-34f9dc7c6a01",
   "metadata": {},
   "outputs": [],
   "source": [
    "# rows, row_pos = np.unique(users_clean.client_id, return_inverse=True)"
   ]
  },
  {
   "cell_type": "code",
   "execution_count": null,
   "id": "0f89c21e-e98a-4c1f-9cef-3142961845c3",
   "metadata": {},
   "outputs": [],
   "source": [
    "# users_clean.reset_index()[users_clean.reset_index()[\"client_id\"] == 'GA1000000852.1679513883'].head(3)"
   ]
  },
  {
   "cell_type": "code",
   "execution_count": null,
   "id": "b86586fd-11f7-440a-a56f-fd1bdbd698ee",
   "metadata": {},
   "outputs": [],
   "source": [
    "num_and_cat = pd.get_dummies(X_full_df.copy())\n",
    "del X_full_df\n",
    "num_and_cat.replace(np.nan, -1, inplace=True)"
   ]
  },
  {
   "cell_type": "code",
   "execution_count": null,
   "id": "c9631c13-2525-40b2-8ec1-09c5a91e3776",
   "metadata": {},
   "outputs": [],
   "source": [
    "categorical.replace(np.nan, -1, inplace=True)"
   ]
  },
  {
   "cell_type": "code",
   "execution_count": null,
   "id": "1ca1cb50-b67b-429b-ab6b-7c657a5c7b1b",
   "metadata": {},
   "outputs": [],
   "source": [
    "rows"
   ]
  },
  {
   "cell_type": "code",
   "execution_count": null,
   "id": "709cc174-c340-430c-842a-093509f33d09",
   "metadata": {},
   "outputs": [],
   "source": [
    "import scipy.sparse as ss\n",
    "sparse_mat = ss.csr_matrix((categorical.values))\n",
    "sparse_mat"
   ]
  },
  {
   "cell_type": "code",
   "execution_count": null,
   "id": "ea1948bf-8451-40b4-a2d5-d6cac8e6e2f7",
   "metadata": {},
   "outputs": [],
   "source": [
    "# import scipy.sparse as ss\n",
    "# sparse_mat = ss.csr_matrix((categorical.values))\n",
    "\n",
    "# rows, row_pos = np.unique(aggs.UID, return_inverse=True)\n",
    "# cols, col_pos = np.unique(aggs.ContentUnitID, return_inverse=True)\n",
    "\n",
    "# matrix = ss.coo_matrix((aggs.duration, (row_pos, col_pos)), shape=(len(rows), len(cols)))\n",
    "# np.savez('data/interactions', matrix=matrix, uid=rows, content=cols, rows=row_pos, cols=col_pos)\n",
    "\n",
    "model = LightFM(loss='warp', random_state=21, no_components=7)\n",
    "model.fit(sparse_mat, epochs=20, num_threads=1)\n",
    "user_emb = model.user_embeddings"
   ]
  },
  {
   "cell_type": "code",
   "execution_count": null,
   "id": "576d5cdb-4f90-4599-817b-e665125b0316",
   "metadata": {},
   "outputs": [],
   "source": [
    "user_emb.shape"
   ]
  },
  {
   "cell_type": "code",
   "execution_count": null,
   "id": "f274e492-3c31-4da4-89a1-03bc7bf1efa6",
   "metadata": {},
   "outputs": [],
   "source": [
    "from sklearn.manifold import TSNE\n",
    "\n",
    "from bokeh.plotting import figure, save, output_file\n",
    "from bokeh.models import ColumnDataSource\n",
    "from bokeh.transform import factor_cmap\n",
    "from bokeh.palettes import Category20c"
   ]
  },
  {
   "cell_type": "code",
   "execution_count": null,
   "id": "e3167106-6749-4f69-a7b4-de932642cc69",
   "metadata": {},
   "outputs": [],
   "source": [
    "def bokeh_plot(X: np.ndarray, meta: pd.DataFrame, name: str, TOOLTIPS: list):\n",
    "    \n",
    "    print(\"started bokeh\")\n",
    "    color_codes = {v: f'color_{i % 20}' for i, v in enumerate(meta['series'].unique())}\n",
    "    meta.loc[:, 'color_code'] = meta['series'].map(color_codes)\n",
    "    meta.loc[:, 'x'] = X[:, 0]\n",
    "    meta.loc[:, 'y'] = X[:, 1]\n",
    "    \n",
    "    print(\"meta dataset prepared\")\n",
    "    source = ColumnDataSource(data=meta)\n",
    "    COLORS = sorted(set(color_codes.values()))\n",
    "    print(\"colors set\")\n",
    "\n",
    "    p = figure(width=600,\n",
    "               height=600,\n",
    "               tools='pan,wheel_zoom,save,reset,tap',\n",
    "               active_scroll='wheel_zoom',\n",
    "               tooltips=TOOLTIPS,\n",
    "               title=\"User embeddings\")\n",
    "\n",
    "    p.circle('x', 'y', color=factor_cmap('color_code', Category20c[20], COLORS), source=source)\n",
    "    save(p)\n",
    "    print(\"draw_plot\")\n",
    "    plt.scatter(X[:, 0], X[:, 1], s=2, c=meta.series.astype('category').cat.codes.to_numpy(), cmap='tab20c')\n",
    "    plt.tight_layout()\n",
    "    plt.xticks([])\n",
    "    plt.yticks([])\n",
    "    plt.savefig(f'{name}.png')"
   ]
  },
  {
   "cell_type": "code",
   "execution_count": null,
   "id": "bd8ef233-482a-4d34-828e-c1ede9f72c1d",
   "metadata": {},
   "outputs": [],
   "source": [
    "mapper = TSNE(n_components=2, metric='cosine', perplexity=10, learning_rate=100)"
   ]
  },
  {
   "cell_type": "code",
   "execution_count": null,
   "id": "263cb76e-5e68-4920-a9c6-b422bde6555a",
   "metadata": {},
   "outputs": [],
   "source": [
    "del mapper"
   ]
  },
  {
   "cell_type": "code",
   "execution_count": null,
   "id": "ab903039-4a76-4879-adb1-3d363b1a13b3",
   "metadata": {},
   "outputs": [],
   "source": [
    "user_emb.shape"
   ]
  },
  {
   "cell_type": "code",
   "execution_count": null,
   "id": "854f9f0c-ee5e-41b8-a970-77501d0763f1",
   "metadata": {},
   "outputs": [],
   "source": [
    "sampled_indices = np.random.choice(user_emb.shape[0], size=round(user_emb.shape[0]*0.1), replace=False)\n",
    "sampled_values = user_emb[sampled_indices, :]"
   ]
  },
  {
   "cell_type": "code",
   "execution_count": null,
   "id": "500adfe5-a894-4659-a3c6-3bae13d1beb6",
   "metadata": {},
   "outputs": [],
   "source": [
    "sampled_values"
   ]
  },
  {
   "cell_type": "code",
   "execution_count": null,
   "id": "5b9bbda1-369c-40fc-9fe1-fddac9e3189a",
   "metadata": {},
   "outputs": [],
   "source": [
    "sampled_values.shape"
   ]
  },
  {
   "cell_type": "code",
   "execution_count": null,
   "id": "8aa8e6f9-9e5f-46ea-806c-82dcf91f7f04",
   "metadata": {},
   "outputs": [],
   "source": [
    "X = mapper.fit_transform(sampled_values)"
   ]
  },
  {
   "cell_type": "code",
   "execution_count": null,
   "id": "ed138245-a05e-4fce-be15-015a1e8f1000",
   "metadata": {},
   "outputs": [],
   "source": []
  },
  {
   "cell_type": "code",
   "execution_count": null,
   "id": "e33e9215-ff29-4c84-811b-076db9a6bc0c",
   "metadata": {},
   "outputs": [],
   "source": [
    "# from mlem.api import load\n",
    "\n",
    "\n",
    "\n",
    "embs = user_emb\n",
    "# cols = X_df.columns\n",
    "\n",
    "mapper = TSNE(n_components=2, init='pca', metric='cosine', learning_rate='auto')\n",
    "X = mapper.fit_transform(embs)\n",
    "\n",
    "TOOLTIPS = [\n",
    "        (\"series\", \"@series\"),\n",
    "        (\"is_series\", \"@is_series\"),\n",
    "        (\"rars\", \"@rars\"),\n",
    "        (\"(x,y)\", \"($x, $y)\")\n",
    "    ]\n",
    "\n",
    "bokeh_plot(X, X_df, 'user_emb', TOOLTIPS)\n",
    "\n",
    "# embs = pd.read_parquet('data/user_embs.pq')[::5]\n",
    "# rows = np.load('data/interactions.npz', allow_pickle=True)['uid']\n",
    "# df = pd.read_parquet('data/wink_aggs.pq')\n",
    "\n",
    "# mapper = pd.DataFrame()\n",
    "# mapper.loc[:, 'ContentUnitID'] = cols\n",
    "# mapper.loc[:, 'series'] = hover.series\n",
    "# mapper.loc[:, 'rars'] = hover.rars\n",
    "\n",
    "# df = df.merge(mapper, on='ContentUnitID')\n",
    "# df = df.merge(df.sort_values(['UID', 'duration'], ascending=False).groupby('UID') \\\n",
    "#        .apply(lambda x: ','.join(x.series.unique())).rename('serieses').reset_index(), on='UID')\n",
    "# df = df.sort_values(['UID', 'duration'], ascending=False).groupby('UID').first().reset_index()\n",
    "\n",
    "# embs = embs.merge(df, on='UID')\n",
    "# hover = embs[['series', 'serieses', 'rars']]\n",
    "# embs = embs.drop(['UID', 'series', 'serieses', 'rars', 'ContentUnitID', 'duration'], axis=1).to_numpy()\n",
    "\n",
    "# mapper = TSNE(n_components=2, init='pca', metric='cosine', learning_rate='auto')\n",
    "# X = mapper.fit_transform(embs)\n",
    "\n",
    "# TOOLTIPS = [\n",
    "#         (\"series\", \"@series\"),\n",
    "#         (\"serieses\", \"@serieses\"),\n",
    "#         (\"rars\", \"@rars\"),\n",
    "#         (\"(x,y)\", \"($x, $y)\")\n",
    "#     ]\n",
    "\n",
    "# bokeh_plot(X, hover, 'user_embs', TOOLTIPS)"
   ]
  },
  {
   "cell_type": "code",
   "execution_count": null,
   "id": "128d69e8-cceb-4da4-b5f6-449b90955b60",
   "metadata": {},
   "outputs": [],
   "source": [
    "ax = mca.plot_coordinates(\n",
    "     X=X,\n",
    "     ax=None,\n",
    "     figsize=(6, 6),\n",
    "     show_row_points=True,\n",
    "     row_points_size=10,\n",
    "     show_row_labels=False,\n",
    "     show_column_points=True,\n",
    "     column_points_size=30,\n",
    "     show_column_labels=False,\n",
    "     legend_n_cols=1\n",
    "     )\n",
    "\n",
    "ax.get_figure().savefig('images/mca_coordinates.svg')"
   ]
  },
  {
   "cell_type": "code",
   "execution_count": null,
   "id": "d5089ae5-34ba-48fe-bc67-d00a90940bde",
   "metadata": {},
   "outputs": [],
   "source": []
  },
  {
   "cell_type": "code",
   "execution_count": null,
   "id": "5210503a-a532-4c24-a528-b95ac7ff6e11",
   "metadata": {},
   "outputs": [],
   "source": [
    "import numpy as np\n",
    "from sklearn.decomposition import PCA\n",
    "pca = PCA(n_components=0.95)\n",
    "pca.fit(categorical_device)\n",
    "PCA(n_components=2)\n",
    "print(pca.explained_variance_ratio_)\n",
    "print(pca.singular_values_)"
   ]
  },
  {
   "cell_type": "code",
   "execution_count": null,
   "id": "f4b8d997-355e-4a50-ad18-62b5f707f521",
   "metadata": {},
   "outputs": [],
   "source": [
    "del X_cat_df"
   ]
  },
  {
   "cell_type": "code",
   "execution_count": null,
   "id": "3fdea626-9606-4f3b-82ee-93a62b5f0dbc",
   "metadata": {},
   "outputs": [],
   "source": [
    "X_num_df"
   ]
  },
  {
   "cell_type": "code",
   "execution_count": null,
   "id": "4a527e1f-d838-413d-9108-03064cfea7f9",
   "metadata": {},
   "outputs": [],
   "source": [
    "categorical"
   ]
  },
  {
   "cell_type": "code",
   "execution_count": null,
   "id": "13c811a9-a54d-49c2-92b1-e54cf03b2c13",
   "metadata": {},
   "outputs": [],
   "source": [
    "# seeding\n",
    "np.random.seed(0)\n",
    "\n",
    "# preprocessing numerical\n",
    "# for c in X_num_df.columns:\n",
    "#     pt = PowerTransformer()\n",
    "#     X_num_df.loc[:, c] = pt.fit_transform(np.array(X_num_df[c]).reshape(-1, 1))\n",
    "\n",
    "# print(\"numerical preped\")\n",
    "# preprocessing categorical\n",
    "# categorical = pd.get_dummies(X_cat_df.copy())\n",
    "\n",
    "# print(\"categorical preped\")\n",
    "\n",
    "# percentage of columns which are categorical is used as weight parameter in embeddings later\n",
    "categorical_weight = len(X_df.select_dtypes(include=\"object\").columns) / X_df.shape[1]\n",
    "\n",
    "print(\"weights preped\")\n",
    "\n",
    "# embedding numerical & categorical\n",
    "fit1 = umap.UMAP(metric='l2').fit(X_num_df)\n",
    "fit2 = umap.UMAP(metric='dice').fit(categorical)\n",
    "\n",
    "intersection = umap.general_simplicial_set_intersection(fit1.graph_, fit2.graph_, weight=categorical_weight)\n",
    "intersection = umap.reset_local_connectivity(intersection)\n",
    "embedding = umap.simplicial_set_embedding(fit1._raw_data, intersection, fit1.n_components, \n",
    "                                                fit1._initial_alpha, fit1._a, fit1._b, \n",
    "                                                fit1.repulsion_strength, fit1.negative_sample_rate, \n",
    "                                                200, 'random', np.random, fit1.metric, \n",
    "                                                fit1._metric_kwds, densmap=False, densmap_kwds={},\n",
    "                                                output_dens=False)\n",
    "\n",
    "plt.figure(figsize=(20, 10))\n",
    "plt.scatter(*embedding[0].T, s=2, cmap='Spectral', alpha=1.0)\n",
    "plt.show()"
   ]
  },
  {
   "cell_type": "code",
   "execution_count": null,
   "id": "20200203-a5ae-4446-8e9e-21df091c6b21",
   "metadata": {},
   "outputs": [],
   "source": [
    "\n",
    "# Define the UMAP model\n",
    "umap_model = umap.UMAP(n_components=2, metric='cosine', n_neighbors=30)\n",
    "\n",
    "# Fit the model to the data\n",
    "embedding = umap_model.fit_transform(sampled_values)\n",
    "\n",
    "# Plot the embedding\n",
    "plt.scatter(embedding[:, 0], embedding[:, 1])\n",
    "plt.show()"
   ]
  },
  {
   "cell_type": "code",
   "execution_count": null,
   "id": "0e476ed9-7887-4a8d-a61a-be55090bb5c2",
   "metadata": {},
   "outputs": [],
   "source": [
    "users_clean[users_clean[\"key\"] == \"1679871619185232GA1311602352.1679836177\"]"
   ]
  },
  {
   "cell_type": "code",
   "execution_count": null,
   "id": "c5432d45-4a1b-4b8e-81fb-9942aa286a5e",
   "metadata": {},
   "outputs": [],
   "source": [
    "users_clean[users_clean.duplicated(subset=[\"key\"])].sort_values(by=\"key\")"
   ]
  },
  {
   "cell_type": "code",
   "execution_count": null,
   "id": "687ba5a1-0e9b-4c2b-bf07-7244debd8b9f",
   "metadata": {},
   "outputs": [],
   "source": [
    "print(users_clean.shape)\n",
    "print(users_clean.drop_duplicates(subset=\"key\").shape)"
   ]
  },
  {
   "cell_type": "code",
   "execution_count": null,
   "id": "f24a19dd-09ee-48e7-832e-e394ab3f7f4f",
   "metadata": {},
   "outputs": [],
   "source": [
    "users_clean.isna().sum()"
   ]
  },
  {
   "cell_type": "code",
   "execution_count": null,
   "id": "a94f0cc2-9a1c-4551-8c1c-3a1234684e7f",
   "metadata": {},
   "outputs": [],
   "source": [
    "users_pivot = users_for_pivot.pivot(index=\"key\",\n",
    "                          columns=\"event_key\",\n",
    "                          values=\"event_params\")\n",
    "users_pivot.head(3)"
   ]
  }
 ],
 "metadata": {
  "environment": {
   "kernel": "python3",
   "name": "common-cpu.m104",
   "type": "gcloud",
   "uri": "gcr.io/deeplearning-platform-release/base-cpu:m104"
  },
  "kernelspec": {
   "display_name": "Python 3",
   "language": "python",
   "name": "python3"
  },
  "language_info": {
   "codemirror_mode": {
    "name": "ipython",
    "version": 3
   },
   "file_extension": ".py",
   "mimetype": "text/x-python",
   "name": "python",
   "nbconvert_exporter": "python",
   "pygments_lexer": "ipython3",
   "version": "3.7.12"
  }
 },
 "nbformat": 4,
 "nbformat_minor": 5
}
