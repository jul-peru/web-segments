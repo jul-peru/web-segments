{
 "cells": [
  {
   "cell_type": "code",
   "execution_count": 1,
   "id": "c3a52f15-0225-41c9-bf84-53ee2cf216a4",
   "metadata": {},
   "outputs": [
    {
     "data": {
      "application/vnd.jupyter.widget-view+json": {
       "model_id": "7e2f617af7b74469aed600f7e86c0033",
       "version_major": 2,
       "version_minor": 0
      },
      "text/plain": [
       "Query is running:   0%|          |"
      ]
     },
     "metadata": {},
     "output_type": "display_data"
    },
    {
     "data": {
      "application/vnd.jupyter.widget-view+json": {
       "model_id": "eb3b2b331b5d4705a7744306b6a2e209",
       "version_major": 2,
       "version_minor": 0
      },
      "text/plain": [
       "Downloading:   0%|          |"
      ]
     },
     "metadata": {},
     "output_type": "display_data"
    }
   ],
   "source": [
    "%%bigquery test\n",
    "SELECT *\n",
    "FROM `vertex-ai-sandbox-380023`.159092699.INFORMATION_SCHEMA.COLUMNS\n",
    "where table_name=\"ga_sessions_20230327\""
   ]
  },
  {
   "cell_type": "code",
   "execution_count": 5,
   "id": "954a6c01-c6f7-4628-a838-6641389739ae",
   "metadata": {},
   "outputs": [
    {
     "data": {
      "application/vnd.jupyter.widget-view+json": {
       "model_id": "ff79411fb7734135b0d948bbfc82b5ad",
       "version_major": 2,
       "version_minor": 0
      },
      "text/plain": [
       "Query is running:   0%|          |"
      ]
     },
     "metadata": {},
     "output_type": "display_data"
    },
    {
     "data": {
      "application/vnd.jupyter.widget-view+json": {
       "model_id": "0ce57e20d91f4545b4d0facb41767476",
       "version_major": 2,
       "version_minor": 0
      },
      "text/plain": [
       "Downloading:   0%|          |"
      ]
     },
     "metadata": {},
     "output_type": "display_data"
    }
   ],
   "source": [
    "%%bigquery users_events_20230327\n",
    "SELECT event_date, user_pseudo_id, count(event_timestamp) as unique_events\n",
    "FROM `vertex-ai-sandbox-380023.analytics_250000498.events_20230327`\n",
    "GROUP BY event_date, user_pseudo_id\n",
    "order by event_date"
   ]
  },
  {
   "cell_type": "code",
   "execution_count": 32,
   "id": "54b69876-7fc9-413c-9ad9-d894f511fd0c",
   "metadata": {},
   "outputs": [
    {
     "data": {
      "application/vnd.jupyter.widget-view+json": {
       "model_id": "0fc367c2453c4c85b59a19f8622a7c37",
       "version_major": 2,
       "version_minor": 0
      },
      "text/plain": [
       "Query is running:   0%|          |"
      ]
     },
     "metadata": {},
     "output_type": "display_data"
    },
    {
     "data": {
      "application/vnd.jupyter.widget-view+json": {
       "model_id": "9916df625bc1498cb12260b23454f526",
       "version_major": 2,
       "version_minor": 0
      },
      "text/plain": [
       "Downloading:   0%|          |"
      ]
     },
     "metadata": {},
     "output_type": "display_data"
    }
   ],
   "source": [
    "%%bigquery users_events_20230326\n",
    "SELECT event_date, user_pseudo_id, count(event_timestamp) as unique_events\n",
    "FROM `vertex-ai-sandbox-380023.analytics_250000498.events_20230326`\n",
    "GROUP BY event_date, user_pseudo_id\n",
    "order by event_date"
   ]
  },
  {
   "cell_type": "code",
   "execution_count": 15,
   "id": "c9061420-ba39-4e0e-9651-f23b1e445080",
   "metadata": {},
   "outputs": [],
   "source": [
    "import pandas as pd\n",
    "import numpy as np\n",
    "import matplotlib.pyplot as plt"
   ]
  },
  {
   "cell_type": "code",
   "execution_count": 6,
   "id": "7c84db04-052e-489d-9495-3cdcc43b2ba5",
   "metadata": {},
   "outputs": [
    {
     "data": {
      "text/html": [
       "<div>\n",
       "<style scoped>\n",
       "    .dataframe tbody tr th:only-of-type {\n",
       "        vertical-align: middle;\n",
       "    }\n",
       "\n",
       "    .dataframe tbody tr th {\n",
       "        vertical-align: top;\n",
       "    }\n",
       "\n",
       "    .dataframe thead th {\n",
       "        text-align: right;\n",
       "    }\n",
       "</style>\n",
       "<table border=\"1\" class=\"dataframe\">\n",
       "  <thead>\n",
       "    <tr style=\"text-align: right;\">\n",
       "      <th></th>\n",
       "      <th>event_date</th>\n",
       "      <th>user_pseudo_id</th>\n",
       "      <th>unique_events</th>\n",
       "    </tr>\n",
       "  </thead>\n",
       "  <tbody>\n",
       "    <tr>\n",
       "      <th>0</th>\n",
       "      <td>20230327</td>\n",
       "      <td>2072153368.1679348309</td>\n",
       "      <td>138</td>\n",
       "    </tr>\n",
       "    <tr>\n",
       "      <th>1</th>\n",
       "      <td>20230327</td>\n",
       "      <td>287160822.1679931978</td>\n",
       "      <td>47</td>\n",
       "    </tr>\n",
       "    <tr>\n",
       "      <th>2</th>\n",
       "      <td>20230327</td>\n",
       "      <td>452962893.1679912799</td>\n",
       "      <td>22</td>\n",
       "    </tr>\n",
       "    <tr>\n",
       "      <th>3</th>\n",
       "      <td>20230327</td>\n",
       "      <td>1047644544.1679952232</td>\n",
       "      <td>241</td>\n",
       "    </tr>\n",
       "    <tr>\n",
       "      <th>4</th>\n",
       "      <td>20230327</td>\n",
       "      <td>335392859.1679951786</td>\n",
       "      <td>33</td>\n",
       "    </tr>\n",
       "  </tbody>\n",
       "</table>\n",
       "</div>"
      ],
      "text/plain": [
       "  event_date         user_pseudo_id  unique_events\n",
       "0   20230327  2072153368.1679348309            138\n",
       "1   20230327   287160822.1679931978             47\n",
       "2   20230327   452962893.1679912799             22\n",
       "3   20230327  1047644544.1679952232            241\n",
       "4   20230327   335392859.1679951786             33"
      ]
     },
     "execution_count": 6,
     "metadata": {},
     "output_type": "execute_result"
    }
   ],
   "source": [
    "users_events.head()"
   ]
  },
  {
   "cell_type": "code",
   "execution_count": 33,
   "id": "65b4d0f3-3079-4294-9cf1-413a76564299",
   "metadata": {},
   "outputs": [],
   "source": [
    "users_events_20230327 = users_events.copy()"
   ]
  },
  {
   "cell_type": "code",
   "execution_count": 36,
   "id": "01876a5d-a892-43bd-82a4-c768b7194941",
   "metadata": {},
   "outputs": [],
   "source": [
    "events_per_user = users_events_20230327.unique_events\n",
    "events_per_user_26 = users_events_20230326.unique_events"
   ]
  },
  {
   "cell_type": "code",
   "execution_count": 35,
   "id": "95742801-d984-41f7-a3b0-8f2927aff15e",
   "metadata": {},
   "outputs": [
    {
     "data": {
      "text/plain": [
       "0         138.0\n",
       "1          47.0\n",
       "2          22.0\n",
       "3         241.0\n",
       "4          33.0\n",
       "          ...  \n",
       "593902      1.0\n",
       "593903      1.0\n",
       "593904      1.0\n",
       "593905      1.0\n",
       "593906      1.0\n",
       "Name: unique_events, Length: 593907, dtype: Float64"
      ]
     },
     "execution_count": 35,
     "metadata": {},
     "output_type": "execute_result"
    }
   ],
   "source": [
    "events_per_user/np.ones(events_per_user.shape[0])"
   ]
  },
  {
   "cell_type": "code",
   "execution_count": 38,
   "id": "bdb6d914-9084-47e9-8544-2e48c359039b",
   "metadata": {},
   "outputs": [
    {
     "data": {
      "image/png": "[encoded data removed]",
      "text/plain": [
       "<Figure size 640x480 with 1 Axes>"
      ]
     },
     "metadata": {},
     "output_type": "display_data"
    }
   ],
   "source": [
    "_, bins, _ = plt.hist(events_per_user.clip(upper=50), bins=30, label=\"2023-03-27\", weights=np.ones(events_per_user.shape[0])/events_per_user.shape[0])\n",
    "plt.hist(events_per_user_26.clip(upper=50), bins=bins, label=\"2023-03-26\", weights=np.ones(events_per_user_26.shape[0])/events_per_user_26.shape[0])\n",
    "plt.xlabel(\"hits amount per user\")\n",
    "plt.ylabel(\"ratio\")\n",
    "plt.title(\"user hits distribution\")\n",
    "plt.legend()\n",
    "plt.show()"
   ]
  },
  {
   "cell_type": "code",
   "execution_count": 30,
   "id": "99a574c2-348c-4f2d-88e8-cb675c427e59",
   "metadata": {},
   "outputs": [
    {
     "data": {
      "text/plain": [
       "593907"
      ]
     },
     "execution_count": 30,
     "metadata": {},
     "output_type": "execute_result"
    }
   ],
   "source": [
    "# amount of unique users per day\n",
    "\n",
    "users_events.shape[0]"
   ]
  },
  {
   "cell_type": "code",
   "execution_count": 31,
   "id": "53a235e5-174a-4ff4-a2bd-3b22303191e3",
   "metadata": {},
   "outputs": [
    {
     "data": {
      "text/plain": [
       "1.7504424093334476"
      ]
     },
     "execution_count": 31,
     "metadata": {},
     "output_type": "execute_result"
    }
   ],
   "source": [
    "# of users who has more than 50 hits per day\n",
    "\n",
    "users_events[users_events[\"unique_events\"] > 50].shape[0]/users_events.shape[0]*100"
   ]
  },
  {
   "cell_type": "code",
   "execution_count": 42,
   "id": "de25b7a9-c0e4-4a49-a61a-c581f0c8c3f1",
   "metadata": {},
   "outputs": [],
   "source": [
    "ratio_27 = round(users_events[users_events[\"unique_events\"] > 50].shape[0]/users_events.shape[0]*100, 2)\n",
    "ratio_26 = round(users_events_20230326[users_events_20230326[\"unique_events\"] > 50].shape[0]/users_events_20230326.shape[0]*100, 2)"
   ]
  },
  {
   "cell_type": "code",
   "execution_count": 43,
   "id": "43777fcd-ae26-4d0c-9866-0e848bb0890d",
   "metadata": {},
   "outputs": [
    {
     "name": "stdout",
     "output_type": "stream",
     "text": [
      "1.74% users have more than 50 hits per day on 2023-03-26.\n",
      "1.75% users have more than 50 hits per day on 2023-03-27.\n"
     ]
    }
   ],
   "source": [
    "print(f\"{ratio_26}% users have more than 50 hits per day on 2023-03-26.\")\n",
    "print(f\"{ratio_27}% users have more than 50 hits per day on 2023-03-27.\")"
   ]
  },
  {
   "cell_type": "code",
   "execution_count": 49,
   "id": "dab919b0-5f98-419c-9cf6-1558ac7578dc",
   "metadata": {},
   "outputs": [
    {
     "data": {
      "image/png": "[encoded data removed]",
      "text/plain": [
       "<Figure size 640x480 with 1 Axes>"
      ]
     },
     "metadata": {},
     "output_type": "display_data"
    }
   ],
   "source": [
    "plt.boxplot(events_per_user_26[~users_events_20230326[\"user_pseudo_id\"].isna()])\n",
    "plt.show()"
   ]
  },
  {
   "cell_type": "code",
   "execution_count": 51,
   "id": "8e2dc1eb-0df8-42e1-ab09-9741bcac450c",
   "metadata": {},
   "outputs": [
    {
     "data": {
      "image/png": "[encoded data removed]",
      "text/plain": [
       "<Figure size 640x480 with 1 Axes>"
      ]
     },
     "metadata": {},
     "output_type": "display_data"
    }
   ],
   "source": [
    "plt.boxplot(events_per_user[~users_events_20230327[\"user_pseudo_id\"].isna()])\n",
    "plt.show()"
   ]
  },
  {
   "cell_type": "code",
   "execution_count": 46,
   "id": "40e1935f-51c2-4bcf-8e14-848a48aafb0b",
   "metadata": {},
   "outputs": [
    {
     "data": {
      "text/html": [
       "<div>\n",
       "<style scoped>\n",
       "    .dataframe tbody tr th:only-of-type {\n",
       "        vertical-align: middle;\n",
       "    }\n",
       "\n",
       "    .dataframe tbody tr th {\n",
       "        vertical-align: top;\n",
       "    }\n",
       "\n",
       "    .dataframe thead th {\n",
       "        text-align: right;\n",
       "    }\n",
       "</style>\n",
       "<table border=\"1\" class=\"dataframe\">\n",
       "  <thead>\n",
       "    <tr style=\"text-align: right;\">\n",
       "      <th></th>\n",
       "      <th>event_date</th>\n",
       "      <th>user_pseudo_id</th>\n",
       "      <th>unique_events</th>\n",
       "    </tr>\n",
       "  </thead>\n",
       "  <tbody>\n",
       "    <tr>\n",
       "      <th>84102</th>\n",
       "      <td>20230326</td>\n",
       "      <td>None</td>\n",
       "      <td>48875</td>\n",
       "    </tr>\n",
       "  </tbody>\n",
       "</table>\n",
       "</div>"
      ],
      "text/plain": [
       "      event_date user_pseudo_id  unique_events\n",
       "84102   20230326           None          48875"
      ]
     },
     "execution_count": 46,
     "metadata": {},
     "output_type": "execute_result"
    }
   ],
   "source": [
    "users_events_20230326[users_events_20230326[\"unique_events\"] > 10000]"
   ]
  },
  {
   "cell_type": "code",
   "execution_count": 48,
   "id": "afbb8f8c-7bc2-43fc-b6b3-f8c0033e50f4",
   "metadata": {},
   "outputs": [
    {
     "data": {
      "text/html": [
       "<div>\n",
       "<style scoped>\n",
       "    .dataframe tbody tr th:only-of-type {\n",
       "        vertical-align: middle;\n",
       "    }\n",
       "\n",
       "    .dataframe tbody tr th {\n",
       "        vertical-align: top;\n",
       "    }\n",
       "\n",
       "    .dataframe thead th {\n",
       "        text-align: right;\n",
       "    }\n",
       "</style>\n",
       "<table border=\"1\" class=\"dataframe\">\n",
       "  <thead>\n",
       "    <tr style=\"text-align: right;\">\n",
       "      <th></th>\n",
       "      <th>event_date</th>\n",
       "      <th>user_pseudo_id</th>\n",
       "      <th>unique_events</th>\n",
       "    </tr>\n",
       "  </thead>\n",
       "  <tbody>\n",
       "    <tr>\n",
       "      <th>508966</th>\n",
       "      <td>20230327</td>\n",
       "      <td>None</td>\n",
       "      <td>50167</td>\n",
       "    </tr>\n",
       "    <tr>\n",
       "      <th>509017</th>\n",
       "      <td>20230327</td>\n",
       "      <td>957203704.1679873467</td>\n",
       "      <td>16736</td>\n",
       "    </tr>\n",
       "  </tbody>\n",
       "</table>\n",
       "</div>"
      ],
      "text/plain": [
       "       event_date        user_pseudo_id  unique_events\n",
       "508966   20230327                  None          50167\n",
       "509017   20230327  957203704.1679873467          16736"
      ]
     },
     "execution_count": 48,
     "metadata": {},
     "output_type": "execute_result"
    }
   ],
   "source": [
    "users_events[users_events[\"unique_events\"] > 5000]"
   ]
  }
 ],
 "metadata": {
  "environment": {
   "kernel": "python3",
   "name": "common-cpu.m104",
   "type": "gcloud",
   "uri": "gcr.io/deeplearning-platform-release/base-cpu:m104"
  },
  "kernelspec": {
   "display_name": "Python 3",
   "language": "python",
   "name": "python3"
  },
  "language_info": {
   "codemirror_mode": {
    "name": "ipython",
    "version": 3
   },
   "file_extension": ".py",
   "mimetype": "text/x-python",
   "name": "python",
   "nbconvert_exporter": "python",
   "pygments_lexer": "ipython3",
   "version": "3.7.12"
  }
 },
 "nbformat": 4,
 "nbformat_minor": 5
}
