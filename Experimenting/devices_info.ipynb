{
 "cells": [
  {
   "cell_type": "code",
   "execution_count": 22,
   "id": "bb549219-cace-4550-99ec-3864009cd42c",
   "metadata": {},
   "outputs": [
    {
     "data": {
      "application/vnd.jupyter.widget-view+json": {
       "model_id": "5a55f9956c8840c2b3f2b7e544b0f2a9",
       "version_major": 2,
       "version_minor": 0
      },
      "text/plain": [
       "Query is running:   0%|          |"
      ]
     },
     "metadata": {},
     "output_type": "display_data"
    },
    {
     "data": {
      "application/vnd.jupyter.widget-view+json": {
       "model_id": "1797919b9f1e490db46f5cb238234007",
       "version_major": 2,
       "version_minor": 0
      },
      "text/plain": [
       "Downloading:   0%|          |"
      ]
     },
     "metadata": {},
     "output_type": "display_data"
    }
   ],
   "source": [
    "%%bigquery users_devices_20230327\n",
    "SELECT event_date, user_pseudo_id, user_id, device.category as device_type,\n",
    "    device.mobile_brand_name as device_brand,\n",
    "    device.mobile_model_name as device_model,\n",
    "    device.mobile_marketing_name as device_name,\n",
    "    device.operating_system as device_os,\n",
    "    device.operating_system_version as device_os_version,\n",
    "    h.key as key,\n",
    "    h.value.string_value as client_id,\n",
    "FROM `vertex-ai-sandbox-380023.analytics_250000498.events_20230327` \n",
    "left join unnest(user_properties) as h\n",
    "where key = \"client_id\"\n",
    "# where user_properties.key = \"client_id\""
   ]
  },
  {
   "cell_type": "code",
   "execution_count": 6,
   "id": "b95d3e1c-26e1-45cc-9288-ed2b4c612611",
   "metadata": {},
   "outputs": [],
   "source": [
    "import pandas as pd\n",
    "import numpy as np\n",
    "import matplotlib.pyplot as plt"
   ]
  },
  {
   "cell_type": "code",
   "execution_count": null,
   "id": "9fb46f87-8b32-4834-8f8c-d386fc583f4e",
   "metadata": {},
   "outputs": [],
   "source": [
    "has_uid = users_devices_20230327[~users_devices_20230327[\"user_id\"].isna()]"
   ]
  },
  {
   "cell_type": "code",
   "execution_count": 25,
   "id": "0d99d6cf-8e79-41cd-8e00-30ac1579145b",
   "metadata": {},
   "outputs": [
    {
     "data": {
      "text/plain": [
       "0.20051023445703986"
      ]
     },
     "execution_count": 25,
     "metadata": {},
     "output_type": "execute_result"
    }
   ],
   "source": [
    "# ratio_no_clientid\n",
    "users_devices_20230327[users_devices_20230327[\"client_id\"].isna()].shape[0]\\\n",
    "    /users_devices_20230327.shape[0]"
   ]
  },
  {
   "cell_type": "code",
   "execution_count": null,
   "id": "05f8c25c-ad5f-46b4-b9d0-5482ca8420f5",
   "metadata": {},
   "outputs": [],
   "source": []
  },
  {
   "cell_type": "code",
   "execution_count": null,
   "id": "e2f35498-dfa2-40e9-98f7-c4301c637462",
   "metadata": {},
   "outputs": [],
   "source": [
    "has_uid_no_pseudo = users_devices_20230327[(~users_devices_20230327[\"user_id\"].isna()) & (users_devices_20230327[\"user_pseudo_id\"].isna())]\n",
    "has_uid_no_pseudo"
   ]
  },
  {
   "cell_type": "code",
   "execution_count": 23,
   "id": "aab174ae-d2b2-4a6d-b336-7f01361cfa3b",
   "metadata": {},
   "outputs": [],
   "source": [
    "has_uid_no_pseudo_hits = has_uid_no_pseudo.groupby([\"user_id\"])\\\n",
    "    .device_type.count()\\\n",
    "    .reset_index()\\\n",
    "    .rename(columns={\"device_type\": \"hits\"})"
   ]
  },
  {
   "cell_type": "code",
   "execution_count": 27,
   "id": "d49301bd-afac-4a88-b4f0-f8c6d67785db",
   "metadata": {},
   "outputs": [
    {
     "data": {
      "text/plain": [
       "0.04125231939061064"
      ]
     },
     "execution_count": 27,
     "metadata": {},
     "output_type": "execute_result"
    }
   ],
   "source": [
    "has_uid_no_pseudo_hits.shape[0]/users_devices_20230327.groupby([\"user_pseudo_id\"]).device_type.count().shape[0] *100"
   ]
  },
  {
   "cell_type": "code",
   "execution_count": 28,
   "id": "32498b73-51a2-47da-9d7b-abeec845d2f4",
   "metadata": {},
   "outputs": [
    {
     "data": {
      "image/png": "[encoded data removed]",
      "text/plain": [
       "<Figure size 640x480 with 1 Axes>"
      ]
     },
     "metadata": {},
     "output_type": "display_data"
    }
   ],
   "source": [
    "plt.hist(has_uid_no_pseudo_hits.hits, weights=np.ones(has_uid_no_pseudo_hits.hits.shape[0])/has_uid_no_pseudo_hits.hits.shape[0])\n",
    "plt.xlabel(\"hits per user\")\n",
    "plt.ylabel(\"ratio\")\n",
    "plt.show()"
   ]
  },
  {
   "cell_type": "code",
   "execution_count": 14,
   "id": "b49d10ab-b1b6-44fd-be22-56e8e9d20b58",
   "metadata": {},
   "outputs": [
    {
     "name": "stdout",
     "output_type": "stream",
     "text": [
      "(77674, 9)\n"
     ]
    }
   ],
   "source": [
    "print(has_uid.shape)\n",
    "users = has_uid.groupby([\"user_id\"]).user_pseudo_id.count().reset_index()"
   ]
  },
  {
   "cell_type": "code",
   "execution_count": 13,
   "id": "973cb0c6-68a3-4265-aa02-297cad8d7a8e",
   "metadata": {},
   "outputs": [
    {
     "data": {
      "text/plain": [
       "1.358464134054884"
      ]
     },
     "execution_count": 13,
     "metadata": {},
     "output_type": "execute_result"
    }
   ],
   "source": [
    "users.shape[0]/users_devices_20230327.groupby([\"user_pseudo_id\"]).device_type.count().shape[0] *100"
   ]
  },
  {
   "cell_type": "code",
   "execution_count": 17,
   "id": "aed379ea-dfb8-45d7-8b4c-c6fc48c5a9ec",
   "metadata": {},
   "outputs": [
    {
     "data": {
      "text/html": [
       "<div>\n",
       "<style scoped>\n",
       "    .dataframe tbody tr th:only-of-type {\n",
       "        vertical-align: middle;\n",
       "    }\n",
       "\n",
       "    .dataframe tbody tr th {\n",
       "        vertical-align: top;\n",
       "    }\n",
       "\n",
       "    .dataframe thead th {\n",
       "        text-align: right;\n",
       "    }\n",
       "</style>\n",
       "<table border=\"1\" class=\"dataframe\">\n",
       "  <thead>\n",
       "    <tr style=\"text-align: right;\">\n",
       "      <th></th>\n",
       "      <th>user_pseudo_id</th>\n",
       "    </tr>\n",
       "  </thead>\n",
       "  <tbody>\n",
       "    <tr>\n",
       "      <th>count</th>\n",
       "      <td>8068.000000</td>\n",
       "    </tr>\n",
       "    <tr>\n",
       "      <th>mean</th>\n",
       "      <td>9.522682</td>\n",
       "    </tr>\n",
       "    <tr>\n",
       "      <th>std</th>\n",
       "      <td>195.731202</td>\n",
       "    </tr>\n",
       "    <tr>\n",
       "      <th>min</th>\n",
       "      <td>0.000000</td>\n",
       "    </tr>\n",
       "    <tr>\n",
       "      <th>25%</th>\n",
       "      <td>4.000000</td>\n",
       "    </tr>\n",
       "    <tr>\n",
       "      <th>50%</th>\n",
       "      <td>6.000000</td>\n",
       "    </tr>\n",
       "    <tr>\n",
       "      <th>75%</th>\n",
       "      <td>8.000000</td>\n",
       "    </tr>\n",
       "    <tr>\n",
       "      <th>max</th>\n",
       "      <td>17577.000000</td>\n",
       "    </tr>\n",
       "  </tbody>\n",
       "</table>\n",
       "</div>"
      ],
      "text/plain": [
       "       user_pseudo_id\n",
       "count     8068.000000\n",
       "mean         9.522682\n",
       "std        195.731202\n",
       "min          0.000000\n",
       "25%          4.000000\n",
       "50%          6.000000\n",
       "75%          8.000000\n",
       "max      17577.000000"
      ]
     },
     "execution_count": 17,
     "metadata": {},
     "output_type": "execute_result"
    }
   ],
   "source": [
    "users[users[\"user_id\"] != \".\"].describe()"
   ]
  },
  {
   "cell_type": "code",
   "execution_count": 52,
   "id": "6219a602-cd09-46cf-bec4-77860bc78606",
   "metadata": {},
   "outputs": [
    {
     "data": {
      "text/plain": [
       "(594450, 2)"
      ]
     },
     "execution_count": 52,
     "metadata": {},
     "output_type": "execute_result"
    }
   ],
   "source": [
    "unique_types = users_devices_20230327[[\"user_pseudo_id\", \"device_type\"]].drop_duplicates()\n",
    "unique_types.shape"
   ]
  },
  {
   "cell_type": "code",
   "execution_count": null,
   "id": "e4a415f5-73ec-4bff-863f-6c6787b3b03a",
   "metadata": {},
   "outputs": [],
   "source": [
    "unique_types.groupby([\"user_pseudo_id\"]).device_type.count().reset_index().sort_values(by=\"device_type\", ascending=False)"
   ]
  },
  {
   "cell_type": "code",
   "execution_count": null,
   "id": "18ae84c6-6e5e-4e63-bc33-7e7ffa40dcfc",
   "metadata": {},
   "outputs": [],
   "source": [
    "users_devices_20230327[users_devices_20230327[\"user_pseudo_id\"] == \"1504432482.1679738554\"]"
   ]
  },
  {
   "cell_type": "code",
   "execution_count": null,
   "id": "9c6b0fa7-af94-40a6-ac99-3a4588c9591e",
   "metadata": {},
   "outputs": [],
   "source": [
    "users_devices_20230327[users_devices_20230327[\"user_pseudo_id\"] == \"2121784584.1679884593\"]\n"
   ]
  },
  {
   "cell_type": "code",
   "execution_count": 4,
   "id": "30373b9a-05f6-47a7-86a1-e1525654aeb6",
   "metadata": {},
   "outputs": [
    {
     "data": {
      "text/plain": [
       "(4012928, 8)"
      ]
     },
     "execution_count": 4,
     "metadata": {},
     "output_type": "execute_result"
    }
   ],
   "source": [
    "users_devices_20230327.shape"
   ]
  },
  {
   "cell_type": "code",
   "execution_count": 29,
   "id": "a9095b66-dee8-40c2-b4c2-d37a8deb3cf1",
   "metadata": {},
   "outputs": [
    {
     "data": {
      "text/plain": [
       "Index(['event_date', 'user_pseudo_id', 'user_id', 'device_type',\n",
       "       'device_brand', 'device_model', 'device_name', 'device_os',\n",
       "       'device_os_version'],\n",
       "      dtype='object')"
      ]
     },
     "execution_count": 29,
     "metadata": {},
     "output_type": "execute_result"
    }
   ],
   "source": [
    "users_devices_20230327.columns"
   ]
  },
  {
   "cell_type": "code",
   "execution_count": 48,
   "id": "65dc3f01-68a5-47c5-a6e1-e07729e26f64",
   "metadata": {},
   "outputs": [
    {
     "data": {
      "text/html": [
       "<div>\n",
       "<style scoped>\n",
       "    .dataframe tbody tr th:only-of-type {\n",
       "        vertical-align: middle;\n",
       "    }\n",
       "\n",
       "    .dataframe tbody tr th {\n",
       "        vertical-align: top;\n",
       "    }\n",
       "\n",
       "    .dataframe thead tr th {\n",
       "        text-align: left;\n",
       "    }\n",
       "</style>\n",
       "<table border=\"1\" class=\"dataframe\">\n",
       "  <thead>\n",
       "    <tr>\n",
       "      <th></th>\n",
       "      <th>event_date</th>\n",
       "      <th>device_type</th>\n",
       "      <th>device_brand</th>\n",
       "      <th>device_model</th>\n",
       "      <th>device_name</th>\n",
       "      <th>device_os</th>\n",
       "      <th>device_os_version</th>\n",
       "      <th colspan=\"2\" halign=\"left\">user_pseudo_id</th>\n",
       "    </tr>\n",
       "    <tr>\n",
       "      <th></th>\n",
       "      <th></th>\n",
       "      <th></th>\n",
       "      <th></th>\n",
       "      <th></th>\n",
       "      <th></th>\n",
       "      <th></th>\n",
       "      <th></th>\n",
       "      <th>nunique</th>\n",
       "      <th>count</th>\n",
       "    </tr>\n",
       "  </thead>\n",
       "  <tbody>\n",
       "    <tr>\n",
       "      <th>0</th>\n",
       "      <td>20230327</td>\n",
       "      <td>desktop</td>\n",
       "      <td>AT&amp;T</td>\n",
       "      <td>U102AA</td>\n",
       "      <td>Cingular Flip IV</td>\n",
       "      <td>OS/2</td>\n",
       "      <td>OS/2</td>\n",
       "      <td>1</td>\n",
       "      <td>5</td>\n",
       "    </tr>\n",
       "    <tr>\n",
       "      <th>1</th>\n",
       "      <td>20230327</td>\n",
       "      <td>mobile</td>\n",
       "      <td>AT&amp;T</td>\n",
       "      <td>EA211002</td>\n",
       "      <td>Motivate 2</td>\n",
       "      <td>Android</td>\n",
       "      <td>Android 11.0.0</td>\n",
       "      <td>1</td>\n",
       "      <td>4</td>\n",
       "    </tr>\n",
       "    <tr>\n",
       "      <th>2</th>\n",
       "      <td>20230327</td>\n",
       "      <td>mobile</td>\n",
       "      <td>AT&amp;T</td>\n",
       "      <td>U202AA</td>\n",
       "      <td>Maestro</td>\n",
       "      <td>Android</td>\n",
       "      <td>Android 9.0.0</td>\n",
       "      <td>1</td>\n",
       "      <td>5</td>\n",
       "    </tr>\n",
       "  </tbody>\n",
       "</table>\n",
       "</div>"
      ],
      "text/plain": [
       "  event_date device_type device_brand device_model       device_name  \\\n",
       "                                                                       \n",
       "0   20230327     desktop         AT&T       U102AA  Cingular Flip IV   \n",
       "1   20230327      mobile         AT&T     EA211002        Motivate 2   \n",
       "2   20230327      mobile         AT&T       U202AA           Maestro   \n",
       "\n",
       "  device_os device_os_version user_pseudo_id        \n",
       "                                     nunique count  \n",
       "0      OS/2             OS/2               1     5  \n",
       "1   Android    Android 11.0.0              1     4  \n",
       "2   Android     Android 9.0.0              1     5  "
      ]
     },
     "execution_count": 48,
     "metadata": {},
     "output_type": "execute_result"
    }
   ],
   "source": [
    "devices_types_info_pseudo = users_devices_20230327\\\n",
    "    [~users_devices_20230327[\"user_pseudo_id\"].isna()]\\\n",
    "    .groupby([\"event_date\", 'device_type', 'device_brand', 'device_model',\\\n",
    "              'device_name', 'device_os', 'device_os_version'])\\\n",
    "    .agg({\"user_pseudo_id\": [pd.Series.nunique, pd.Series.count]})\\\n",
    "    .reset_index()\n",
    "devices_types_info_pseudo.head(3)"
   ]
  },
  {
   "cell_type": "code",
   "execution_count": 49,
   "id": "2bd47239-99e7-4e7d-bb1c-3ef3702227d3",
   "metadata": {},
   "outputs": [],
   "source": [
    "new_cols_list = list(devices_types_info_pseudo.columns.get_level_values(0)[:-2])\\\n",
    "    + list(devices_types_info_pseudo.columns.get_level_values(1)[-2:-1])\n",
    "new_cols_list.append(\"hits\")\n",
    "devices_types_info_pseudo.columns = new_cols_list"
   ]
  },
  {
   "cell_type": "code",
   "execution_count": 81,
   "id": "95a52de1-af36-401c-a76c-a28132d8b805",
   "metadata": {},
   "outputs": [],
   "source": [
    "# hits per user\n",
    "\n",
    "puid_types_info = users_devices_20230327\\\n",
    "    [~users_devices_20230327[\"user_pseudo_id\"].isna()]\\\n",
    "    .groupby([\"user_pseudo_id\", \"device\"])\\\n",
    "    .agg({\"event_date\": pd.Series.count})\\\n",
    "    .reset_index()\\\n",
    "    .rename(columns={\"event_date\": \"hits\"})"
   ]
  },
  {
   "cell_type": "code",
   "execution_count": 45,
   "id": "4aec7efe-0266-49db-8475-5b54ff47c5ef",
   "metadata": {},
   "outputs": [
    {
     "data": {
      "text/plain": [
       "MultiIndex([(    'event_date',        ''),\n",
       "            (        'device',        ''),\n",
       "            ('user_pseudo_id', 'nunique'),\n",
       "            ('user_pseudo_id',   'count')],\n",
       "           )"
      ]
     },
     "execution_count": 45,
     "metadata": {},
     "output_type": "execute_result"
    }
   ],
   "source": [
    "devices_types_info.columns"
   ]
  },
  {
   "cell_type": "code",
   "execution_count": 48,
   "id": "8b0e2f41-83a2-4058-a7a1-3d5c86d3c912",
   "metadata": {},
   "outputs": [],
   "source": [
    "devices_types_info_lvl = devices_types_info.copy()"
   ]
  },
  {
   "cell_type": "code",
   "execution_count": 47,
   "id": "edd41a57-288f-4c2a-bc85-e0d8d0910185",
   "metadata": {},
   "outputs": [],
   "source": [
    "# devices_types_info_lvl.columns = devices_types_info_lvl.columns.get_level_values(1)"
   ]
  },
  {
   "cell_type": "code",
   "execution_count": 49,
   "id": "53562739-0531-424f-b716-16dd856b599a",
   "metadata": {},
   "outputs": [
    {
     "data": {
      "text/plain": [
       "['event_date', 'device', 'nunique', 'count']"
      ]
     },
     "execution_count": 49,
     "metadata": {},
     "output_type": "execute_result"
    }
   ],
   "source": [
    "list(devices_types_info_lvl.columns.get_level_values(0)[:2]) + list(devices_types_info_lvl.columns.get_level_values(1)[2:])"
   ]
  },
  {
   "cell_type": "code",
   "execution_count": 50,
   "id": "eb1e37e9-2fec-4c2e-bc36-cbc514cea77c",
   "metadata": {},
   "outputs": [
    {
     "data": {
      "text/html": [
       "<div>\n",
       "<style scoped>\n",
       "    .dataframe tbody tr th:only-of-type {\n",
       "        vertical-align: middle;\n",
       "    }\n",
       "\n",
       "    .dataframe tbody tr th {\n",
       "        vertical-align: top;\n",
       "    }\n",
       "\n",
       "    .dataframe thead th {\n",
       "        text-align: right;\n",
       "    }\n",
       "</style>\n",
       "<table border=\"1\" class=\"dataframe\">\n",
       "  <thead>\n",
       "    <tr style=\"text-align: right;\">\n",
       "      <th></th>\n",
       "      <th>event_date</th>\n",
       "      <th>device</th>\n",
       "      <th>nunique</th>\n",
       "      <th>count</th>\n",
       "    </tr>\n",
       "  </thead>\n",
       "  <tbody>\n",
       "    <tr>\n",
       "      <th>0</th>\n",
       "      <td>20230327</td>\n",
       "      <td>desktop</td>\n",
       "      <td>336069</td>\n",
       "      <td>1551270</td>\n",
       "    </tr>\n",
       "    <tr>\n",
       "      <th>1</th>\n",
       "      <td>20230327</td>\n",
       "      <td>mobile</td>\n",
       "      <td>246490</td>\n",
       "      <td>2292501</td>\n",
       "    </tr>\n",
       "    <tr>\n",
       "      <th>2</th>\n",
       "      <td>20230327</td>\n",
       "      <td>smart tv</td>\n",
       "      <td>38</td>\n",
       "      <td>249</td>\n",
       "    </tr>\n",
       "    <tr>\n",
       "      <th>3</th>\n",
       "      <td>20230327</td>\n",
       "      <td>tablet</td>\n",
       "      <td>11849</td>\n",
       "      <td>118741</td>\n",
       "    </tr>\n",
       "  </tbody>\n",
       "</table>\n",
       "</div>"
      ],
      "text/plain": [
       "  event_date    device  nunique    count\n",
       "0   20230327   desktop   336069  1551270\n",
       "1   20230327    mobile   246490  2292501\n",
       "2   20230327  smart tv       38      249\n",
       "3   20230327    tablet    11849   118741"
      ]
     },
     "execution_count": 50,
     "metadata": {},
     "output_type": "execute_result"
    }
   ],
   "source": [
    "devices_types_info_lvl.columns = \\\n",
    "    (list(devices_types_info_lvl.columns.get_level_values(0)[:2])\\\n",
    "    + list(devices_types_info_lvl.columns.get_level_values(1)[2:]))\n",
    "\n",
    "devices_types_info_lvl"
   ]
  },
  {
   "cell_type": "code",
   "execution_count": 51,
   "id": "020073de-2f2c-41c3-9e78-299204034614",
   "metadata": {},
   "outputs": [],
   "source": [
    "devices_types_info_lvl[\"hits_per_puid\"] = round(\\\n",
    "                                                devices_types_info_lvl[\"count\"]/devices_types_info_lvl[\"nunique\"],\\\n",
    "                                                2)"
   ]
  },
  {
   "cell_type": "code",
   "execution_count": 54,
   "id": "6b7f1025-649f-497e-8d0c-162400c37788",
   "metadata": {},
   "outputs": [],
   "source": [
    "list_of_devices = list(devices_types_info_lvl.device.unique())"
   ]
  },
  {
   "cell_type": "code",
   "execution_count": null,
   "id": "2590dee2-0c9d-412b-9fe7-47025c5aff6d",
   "metadata": {},
   "outputs": [],
   "source": [
    "df_list = list()\n",
    "df_list.append(devices_types_info)\n",
    "df_list.append(devices_types_info_lvl)\n",
    "df_list"
   ]
  },
  {
   "cell_type": "code",
   "execution_count": 84,
   "id": "701046e3-998a-46dc-8ad4-e28549f84d50",
   "metadata": {},
   "outputs": [
    {
     "name": "stdout",
     "output_type": "stream",
     "text": [
      "(594446, 3)\n",
      "(336069, 3)\n",
      "(594446, 3)\n",
      "(246490, 3)\n",
      "(594446, 3)\n",
      "(38, 3)\n",
      "(594446, 3)\n",
      "(11849, 3)\n"
     ]
    }
   ],
   "source": [
    "df_list = list()\n",
    "name_list = list()\n",
    "for device in list_of_devices:\n",
    "    print(puid_types_info.shape)\n",
    "    device_filtered = puid_types_info[puid_types_info[\"device\"] == device]\n",
    "    print(device_filtered.shape)\n",
    "    name_list.append(device)\n",
    "    df_list.append(device_filtered)"
   ]
  },
  {
   "cell_type": "code",
   "execution_count": 69,
   "id": "94433b7e-fe93-4a9c-b006-cb9eb74bd947",
   "metadata": {},
   "outputs": [
    {
     "data": {
      "text/plain": [
       "[  event_date   device  nunique    count  hits_per_puid\n",
       " 0   20230327  desktop   336069  1551270           4.62,\n",
       "   event_date  device  nunique    count  hits_per_puid\n",
       " 1   20230327  mobile   246490  2292501            9.3,\n",
       "   event_date    device  nunique  count  hits_per_puid\n",
       " 2   20230327  smart tv       38    249           6.55,\n",
       "   event_date  device  nunique   count  hits_per_puid\n",
       " 3   20230327  tablet    11849  118741          10.02]"
      ]
     },
     "execution_count": 69,
     "metadata": {},
     "output_type": "execute_result"
    }
   ],
   "source": [
    "df_list"
   ]
  },
  {
   "cell_type": "code",
   "execution_count": 96,
   "id": "7f156bbf-a1d6-46a9-a88c-e9a2a01b3252",
   "metadata": {},
   "outputs": [
    {
     "data": {
      "image/png": "[encoded data removed]",
      "text/plain": [
       "<Figure size 1500x600 with 1 Axes>"
      ]
     },
     "metadata": {},
     "output_type": "display_data"
    }
   ],
   "source": [
    "upper_l = 50\n",
    "\n",
    "plt.figure(figsize=(15,6))\n",
    "_, bins, _ = plt.hist(df_list[0][\"hits\"].clip(upper=upper_l), bins=50, label=name_list[0], alpha=0.3, weights=np.ones(df_list[0].shape[0])/df_list[0].shape[0])\n",
    "plt.hist(df_list[1][\"hits\"].clip(upper=upper_l), bins=bins, label=name_list[1], alpha=0.3, weights=np.ones(df_list[1].shape[0])/df_list[1].shape[0])\n",
    "plt.hist(df_list[2][\"hits\"].clip(upper=upper_l), bins=bins, label=name_list[2], alpha=0.3, weights=np.ones(df_list[2].shape[0])/df_list[2].shape[0])\n",
    "plt.hist(df_list[3][\"hits\"].clip(upper=upper_l), bins=bins, label=name_list[3], color=\"purple\", alpha=0.3, weights=np.ones(df_list[3].shape[0])/df_list[3].shape[0])\n",
    "\n",
    "plt.xlabel(\"hits amount per puid\")\n",
    "plt.ylabel(\"ratio\")\n",
    "plt.title(\"user hits distribution\")\n",
    "plt.legend()\n",
    "plt.show()"
   ]
  }
 ],
 "metadata": {
  "environment": {
   "kernel": "python3",
   "name": "common-cpu.m104",
   "type": "gcloud",
   "uri": "gcr.io/deeplearning-platform-release/base-cpu:m104"
  },
  "kernelspec": {
   "display_name": "Python 3",
   "language": "python",
   "name": "python3"
  },
  "language_info": {
   "codemirror_mode": {
    "name": "ipython",
    "version": 3
   },
   "file_extension": ".py",
   "mimetype": "text/x-python",
   "name": "python",
   "nbconvert_exporter": "python",
   "pygments_lexer": "ipython3",
   "version": "3.7.12"
  }
 },
 "nbformat": 4,
 "nbformat_minor": 5
}
