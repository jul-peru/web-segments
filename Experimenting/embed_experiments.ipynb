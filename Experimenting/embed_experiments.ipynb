{
 "cells": [
  {
   "cell_type": "code",
   "execution_count": 4,
   "id": "eff690a6-cb05-457d-a017-9c22ddd7f5ac",
   "metadata": {},
   "outputs": [
    {
     "data": {
      "application/vnd.jupyter.widget-view+json": {
       "model_id": "e637f0e9769340868e7e62a32a9ae7af",
       "version_major": 2,
       "version_minor": 0
      },
      "text/plain": [
       "Query is running:   0%|          |"
      ]
     },
     "metadata": {},
     "output_type": "display_data"
    },
    {
     "data": {
      "application/vnd.jupyter.widget-view+json": {
       "model_id": "cb43c2919d354c2c877168fee5d1ffa3",
       "version_major": 2,
       "version_minor": 0
      },
      "text/plain": [
       "Downloading:   0%|          |"
      ]
     },
     "metadata": {},
     "output_type": "display_data"
    }
   ],
   "source": [
    "%%bigquery users_devices\n",
    "SELECT event_date, event_timestamp, user_pseudo_id, user_id, device.category as device_type,\n",
    "    device.mobile_brand_name as device_brand,\n",
    "    device.mobile_model_name as device_model,\n",
    "    device.mobile_marketing_name as device_name,\n",
    "    device.operating_system as device_os,\n",
    "    device.operating_system_version as device_os_version,\n",
    "    h.key as key,\n",
    "    h.value.string_value as client_id,\n",
    "    ev.key as event_key,\n",
    "    ev.value.string_value as event_params\n",
    "FROM `vertex-ai-sandbox-380023.analytics_250000498.events_20230327` \n",
    "left join unnest(user_properties) as h\n",
    "left join unnest(event_params) as ev\n",
    "where h.key = \"client_id\"\n",
    "    and (ev.key = \"an_la\" or ev.key = \"page_track\")\n",
    "    and event_date between format_date(\"%Y%m%d\", date_sub(current_date(), interval 2 week))\n",
    "    and format_date(\"%Y%m%d\", date_sub(current_date(), interval 1 day))"
   ]
  },
  {
   "cell_type": "code",
   "execution_count": 5,
   "id": "76405fd8-9ccb-4245-968a-ef9b8910efbd",
   "metadata": {},
   "outputs": [],
   "source": [
    "import pandas as pd\n",
    "import numpy as np\n",
    "import prince\n",
    "from lightfm import LightFM\n",
    "from tqdm import tqdm \n",
    "import umap.umap_ as umap\n",
    "import matplotlib.pyplot as plt\n",
    "from datetime import datetime\n",
    "from sklearn.cluster import KMeans\n",
    "from kmodes.kprototypes import KPrototypes\n",
    "import plotly.graph_objects as go\n",
    "from sklearn.manifold import TSNE\n",
    "from sklearn.preprocessing import PowerTransformer"
   ]
  },
  {
   "cell_type": "code",
   "execution_count": 3,
   "id": "87f0b0a8-968b-4c03-bfa8-9b950c1b3900",
   "metadata": {},
   "outputs": [],
   "source": [
    "users_clean = pd.read_parquet(\"users_clean.pq\")"
   ]
  },
  {
   "cell_type": "code",
   "execution_count": 6,
   "id": "b57fbe9f-fd1b-4f97-9bdb-a1e2d8c07a03",
   "metadata": {},
   "outputs": [
    {
     "name": "stdout",
     "output_type": "stream",
     "text": [
      "the shape of the DF is (2677822, 14)\n",
      "the shape of the DF after non client_id removal is (2163851, 14)\n"
     ]
    }
   ],
   "source": [
    "## cleaning data\n",
    "print(f\"the shape of the DF is {users_devices.shape}\")\n",
    "users = users_devices[~users_devices[\"client_id\"].isna()].drop_duplicates()\n",
    "print(f\"the shape of the DF after non client_id removal is {users.shape}\")"
   ]
  },
  {
   "cell_type": "code",
   "execution_count": 7,
   "id": "f52b36cf-bb2a-4447-b5a4-8db93c975fd8",
   "metadata": {},
   "outputs": [
    {
     "name": "stdout",
     "output_type": "stream",
     "text": [
      "prep_df was:  2163851 events\n",
      "new prep_df size is correct and equals 2163851\n"
     ]
    }
   ],
   "source": [
    "non_use_mask = users[\"user_id\"].isna()\n",
    "non_users = users[non_use_mask].copy()\n",
    "non_users[\"is_user\"] = 0\n",
    "users_1 = users[~non_use_mask].copy()\n",
    "users_1[\"is_user\"] = 1\n",
    "size_df = users.shape[0]\n",
    "print(\"prep_df was: \", size_df, \"events\")\n",
    "del users\n",
    "users = pd.concat([non_users, users_1])\n",
    "if size_df == users.shape[0]:\n",
    "    print(\"new prep_df size is correct and equals\", size_df)\n",
    "else:\n",
    "    print(\"there is an error, new size is\", size_df-prep_df.shape[0], \"entries smaller\")"
   ]
  },
  {
   "cell_type": "code",
   "execution_count": 11,
   "id": "e3545793-bc26-4b82-a95c-3a436db919bd",
   "metadata": {},
   "outputs": [],
   "source": [
    "users_s = users.drop(columns=[\"key\", \"user_id\", \"user_pseudo_id\", \"device_name\"])"
   ]
  },
  {
   "cell_type": "code",
   "execution_count": 12,
   "id": "e522a03e-09ac-4bf3-a47a-6aa624671c35",
   "metadata": {},
   "outputs": [],
   "source": [
    "# making a key to connect needed columns later\n",
    "users_s[\"key\"] = users_s[\"event_timestamp\"].astype(\"str\") + users_s[\"client_id\"]"
   ]
  },
  {
   "cell_type": "code",
   "execution_count": 13,
   "id": "1e12c435-a161-4c64-9940-3be0a4933ffe",
   "metadata": {},
   "outputs": [],
   "source": [
    "# it is better to use PIVOT, however there is some issue with duplicating indecies: adding key, reseting index doesn't help\n",
    "users_columns = users_s[users_s.drop(columns=[\"event_key\", \"event_params\"]).columns]\\\n",
    "    .copy().drop_duplicates().reset_index(drop=True)\n",
    "users_for_pivot = users_s[[\"key\", \"event_key\", \"event_params\"]].copy().drop_duplicates().reset_index(drop=True)\n",
    "users_title = users_for_pivot[users_for_pivot[\"event_key\"] == \"an_la\"].drop_duplicates()\n",
    "users_track = users_for_pivot[users_for_pivot[\"event_key\"] == \"page_track\"].drop_duplicates()\n"
   ]
  },
  {
   "cell_type": "code",
   "execution_count": 16,
   "id": "53c5f60d-9da5-4300-9c5f-0b095d6db6c4",
   "metadata": {},
   "outputs": [
    {
     "data": {
      "text/plain": [
       "array(['add-on:add item', 'get free galaxy buds2 worth gbp139:buy now',\n",
       "       'suggested searches:Screen protector', ...,\n",
       "       'home appliances:refrigerators:refrigeration buying guide',\n",
       "       'cheer together:watch video', 'search history:Watch pro 5'],\n",
       "      dtype=object)"
      ]
     },
     "execution_count": 16,
     "metadata": {},
     "output_type": "execute_result"
    }
   ],
   "source": [
    "users_title.event_params.unique()"
   ]
  },
  {
   "cell_type": "code",
   "execution_count": 20,
   "id": "a8a1df76-24c1-4f3d-a80e-54dcd22c4f7f",
   "metadata": {},
   "outputs": [],
   "source": [
    "tags = users_title.groupby([\"event_params\"]).count().reset_index().sort_values(by=\"key\", ascending=False)"
   ]
  },
  {
   "cell_type": "code",
   "execution_count": 25,
   "id": "0c920202-e015-43bf-a509-9f38d22cf776",
   "metadata": {},
   "outputs": [
    {
     "data": {
      "text/plain": [
       "0.17040313662410778"
      ]
     },
     "execution_count": 25,
     "metadata": {},
     "output_type": "execute_result"
    }
   ],
   "source": [
    "tags[tags[\"key\"] > 20].shape[0]/tags.shape[0]"
   ]
  }
 ],
 "metadata": {
  "environment": {
   "kernel": "python3",
   "name": "common-cpu.m104",
   "type": "gcloud",
   "uri": "gcr.io/deeplearning-platform-release/base-cpu:m104"
  },
  "kernelspec": {
   "display_name": "Python 3",
   "language": "python",
   "name": "python3"
  },
  "language_info": {
   "codemirror_mode": {
    "name": "ipython",
    "version": 3
   },
   "file_extension": ".py",
   "mimetype": "text/x-python",
   "name": "python",
   "nbconvert_exporter": "python",
   "pygments_lexer": "ipython3",
   "version": "3.7.12"
  }
 },
 "nbformat": 4,
 "nbformat_minor": 5
}
