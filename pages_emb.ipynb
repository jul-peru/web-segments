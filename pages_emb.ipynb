{
 "cells": [
  {
   "cell_type": "code",
   "execution_count": null,
   "id": "b7ea14b5-b331-448b-9931-e4602798a17d",
   "metadata": {},
   "outputs": [],
   "source": [
    "# Preparing pages embeddings"
   ]
  },
  {
   "cell_type": "code",
   "execution_count": null,
   "id": "f203244f-77d8-4e65-ba8f-b310b98ab1e6",
   "metadata": {},
   "outputs": [],
   "source": [
    "import pandas as pd\n",
    "import numpy as np\n",
    "from lightfm import LightFM\n",
    "import umap.umap_ as umap\n",
    "import matplotlib.pyplot as plt\n",
    "import scipy.sparse as ss\n",
    "from sklearn.cluster import MiniBatchKMeans\n",
    "from sklearn.preprocessing import StandardScaler\n",
    "from sklearn.metrics.pairwise import pairwise_distances_argmin"
   ]
  },
  {
   "cell_type": "code",
   "execution_count": null,
   "id": "62da2599-a1ea-4986-bdc5-20238a146bf5",
   "metadata": {},
   "outputs": [],
   "source": [
    "from datetime import datetime\n",
    "from datetime import date\n",
    "date = date.today()\n",
    "period = \"AUG\"\n",
    "run = f\"{date}_{period}\"\n",
    "run"
   ]
  },
  {
   "cell_type": "code",
   "execution_count": null,
   "id": "a4027c9f-a460-418c-ab36-c6fb3b67263a",
   "metadata": {},
   "outputs": [],
   "source": [
    "%%bigquery users_int_watch\n",
    "\n",
    "\n",
    "select event_date, event_timestamp,\n",
    "    client_id, event_params, event_name\n",
    "from `vertex-ai-sandbox-380023.feature_prep.watch_pages`\n"
   ]
  },
  {
   "cell_type": "code",
   "execution_count": null,
   "id": "ee04c13b-5473-41d5-9961-cb380df7646e",
   "metadata": {},
   "outputs": [],
   "source": [
    "users_page_loc = users_int_watch[[\"event_timestamp\", \"client_id\", \"event_params\"]].copy()\n",
    "events_to_pivot = users_int_watch[[\"client_id\", \"event_timestamp\", \"event_name\"]].drop_duplicates()\\\n",
    "    .reset_index(drop=True)\n",
    "events_to_pivot.to_parquet(\"events_to_pivot.pq\")\n",
    "del users_int_watch"
   ]
  },
  {
   "cell_type": "code",
   "execution_count": null,
   "id": "9cb231f0-240d-4fdc-a3b7-49df689f8317",
   "metadata": {},
   "outputs": [],
   "source": [
    "# users_page_loc = users_int_watch[[\"event_timestamp\", \"client_id\", \"event_params\"]].copy()\n",
    "users_page_loc[\"list_val\"] = users_page_loc[\"event_params\"]\\\n",
    "    .str.replace(\"https://www.samsung.com/uk/\", \"\")\\\n",
    "    .str.replace(\"https://shop.samsung.com/uk/\", \"\")\\\n",
    "    .str.split(\"/\")\n",
    "ar_of_vals = users_page_loc[[\"event_timestamp\", \"client_id\", \"list_val\"]].explode(\"list_val\")\n",
    "del users_page_loc\n"
   ]
  },
  {
   "cell_type": "code",
   "execution_count": null,
   "id": "282cf92a-e855-405a-be29-77ee9a90d9d0",
   "metadata": {},
   "outputs": [],
   "source": [
    "ar_of_vals_filt = ar_of_vals[ar_of_vals[\"list_val\"].str.len() < 30]\n",
    "del ar_of_vals\n",
    "\n",
    "ar_of_vals_filt[\"list_val\"] = ar_of_vals_filt[\"list_val\"].str.replace(\"%20\", \"-\").str.lstrip(\"?\")\\\n",
    "    .str.replace(\"searchvalue=\", \"\")\n",
    "\n"
   ]
  },
  {
   "cell_type": "code",
   "execution_count": null,
   "id": "08ae70d4-d0d9-4e9f-8219-c50667d55bc4",
   "metadata": {},
   "outputs": [],
   "source": [
    "ar_of_vals_filt[\"list_val\"] = ar_of_vals_filt[\"list_val\"].str.lower()\n",
    "ar_of_vals_filt = ar_of_vals_filt[ar_of_vals_filt[\"list_val\"] != \"careers-center\"]\n",
    "ar_of_vals_filt = ar_of_vals_filt[ar_of_vals_filt[\"list_val\"] != \"\"]\n",
    "ar_of_vals_filt[\"list_val\"] = ar_of_vals_filt[\"list_val\"].str.lstrip(\"modelCode=\")\n",
    "ar_of_vals_filt.loc[ar_of_vals_filt[\"list_val\"].str.contains(\"cashback\"), \"list_val\"] = \"cashback\"\n",
    "ar_of_vals_filt.loc[ar_of_vals_filt[\"list_val\"].str.contains(\"pro-5\"), \"list_val\"] = \"galaxy-watch5-pro\"\n",
    "\n",
    "values_for_features = ar_of_vals_filt.copy()\n",
    "\n",
    "# del ar_of_vals_filt"
   ]
  },
  {
   "cell_type": "code",
   "execution_count": null,
   "id": "2cbba7cd-9cba-4db9-a8d9-3273f8f1708f",
   "metadata": {},
   "outputs": [],
   "source": [
    "values_for_features.to_parquet(\"values_for_features.pq\")"
   ]
  },
  {
   "cell_type": "code",
   "execution_count": null,
   "id": "92f2b0e4-01e6-417e-bfd2-5b2e9decc102",
   "metadata": {},
   "outputs": [],
   "source": [
    "grouped = values_for_features.groupby([\"list_val\"]).event_timestamp.count()\\\n",
    "    .reset_index()\\\n",
    "    .sort_values(by=\"event_timestamp\", ascending=False)\n"
   ]
  },
  {
   "cell_type": "code",
   "execution_count": null,
   "id": "41f55da5-05e9-4401-a0ec-6665aea8b4b7",
   "metadata": {},
   "outputs": [],
   "source": [
    "# getting the list for features and selecting them in the dataset\n",
    "shorter_list = list(grouped[grouped[\"event_timestamp\"] > 250][\"list_val\"])\n",
    "# grouped_shorter = grouped[grouped[\"event_timestamp\"] > 38]\n",
    "values_for_features = values_for_features[values_for_features[\"list_val\"].isin(shorter_list)]\n",
    "values_for_features[\"list_val\"].nunique()"
   ]
  },
  {
   "cell_type": "code",
   "execution_count": null,
   "id": "ef75093e-76e3-4c51-9fe6-777eaf337826",
   "metadata": {},
   "outputs": [],
   "source": [
    "# preparing features for pages location\n",
    "\n",
    "pivot_pages = pd.pivot_table(values_for_features.drop_duplicates(), index=[\"client_id\"],\n",
    "                               columns=[\"list_val\"], values=\"event_timestamp\",\n",
    "                               aggfunc=\"count\", fill_value=0).reset_index()\n",
    "pivot_pages.head(3)"
   ]
  },
  {
   "cell_type": "code",
   "execution_count": null,
   "id": "8addb8f2-88c0-4662-99b8-c3e88a9ca982",
   "metadata": {},
   "outputs": [],
   "source": [
    "del values_for_features"
   ]
  },
  {
   "cell_type": "code",
   "execution_count": null,
   "id": "28a67517-6c78-46cb-8d3f-981b04156fa6",
   "metadata": {},
   "outputs": [],
   "source": [
    "events_to_pivot = pd.read_parquet(\"events_to_pivot.pq\")"
   ]
  },
  {
   "cell_type": "code",
   "execution_count": null,
   "id": "90b8bca4-8846-43ec-b300-f8ba6987419d",
   "metadata": {},
   "outputs": [],
   "source": [
    "# preparing features for event name\n",
    "\n",
    "\n",
    "pivot_events = pd.pivot_table(events_to_pivot, index=[\"client_id\"],\n",
    "                              columns=[\"event_name\"], values=\"event_timestamp\",\n",
    "                              aggfunc=\"count\", fill_value=0).reset_index()"
   ]
  },
  {
   "cell_type": "code",
   "execution_count": null,
   "id": "98fb449d-4cd7-4f4b-b2c3-545c1409ebe0",
   "metadata": {},
   "outputs": [],
   "source": [
    "events_pages = pivot_events.merge(pivot_pages, on=\"client_id\", how=\"outer\")\\\n",
    "    .reset_index(drop=True)\\\n",
    "    .fillna(0)"
   ]
  },
  {
   "cell_type": "code",
   "execution_count": null,
   "id": "962499d2-3f24-4d30-ac86-24e3d7414512",
   "metadata": {},
   "outputs": [],
   "source": [
    "pivot_pages.to_parquet(\"3m_pages_features.pq\")\n",
    "pivot_events.to_parquet(\"3m_events_features.pq\")\n",
    "events_pages.to_parquet(\"3m_events_pages_features.pq\")"
   ]
  },
  {
   "cell_type": "code",
   "execution_count": null,
   "id": "6e2bad23-61d8-4c9a-b381-ee97e4636d5d",
   "metadata": {},
   "outputs": [],
   "source": [
    "# pages with no events\n",
    "\n",
    "sparse_page = ss.csr_matrix(pivot_pages.drop(columns=[\"client_id\"]).values)\n",
    "sparse_page"
   ]
  },
  {
   "cell_type": "code",
   "execution_count": null,
   "id": "8d15a09c-80f6-42fa-bc7c-8e80fd7f9f3b",
   "metadata": {},
   "outputs": [],
   "source": [
    "if \"model_page\" in locals():\n",
    "    del model_page\n",
    "\n",
    "model_page = LightFM(loss='warp', random_state=42, no_components=10)\n",
    "model_page.fit(sparse_page, epochs=40, num_threads=1)\n",
    "user_emb_page = model_page.user_embeddings\n"
   ]
  },
  {
   "cell_type": "code",
   "execution_count": null,
   "id": "57eeaf42-cdc8-4aad-8179-c443fecb68c4",
   "metadata": {},
   "outputs": [],
   "source": [
    "emb_page = pd.DataFrame(user_emb_page)\n",
    "for col in emb_page.columns:\n",
    "    emb_page = emb_page.rename(columns={col: f\"col_{col}\"})"
   ]
  },
  {
   "cell_type": "code",
   "execution_count": null,
   "id": "27731dec-21c0-45ec-87d3-e4339d9aaa3c",
   "metadata": {},
   "outputs": [],
   "source": [
    "emb_page.to_parquet(\"emb_page.pq\")"
   ]
  },
  {
   "cell_type": "code",
   "execution_count": null,
   "id": "98cd0c9a-b503-43f3-a50d-c545aa3ad339",
   "metadata": {},
   "outputs": [],
   "source": [
    "emb_page = pd.read_parquet(\"emb_page.pq\")"
   ]
  },
  {
   "cell_type": "code",
   "execution_count": null,
   "id": "3a68a93d-97b6-4255-bace-d0d0f6d7eef8",
   "metadata": {},
   "outputs": [],
   "source": [
    "events_pages = pd.read_parquet(\"3m_events_pages_features.pq\")"
   ]
  },
  {
   "cell_type": "code",
   "execution_count": null,
   "id": "1d4a3b0d-e0f2-43ca-91c1-1d2b7ab793f7",
   "metadata": {},
   "outputs": [],
   "source": [
    "# pages with events\n",
    "\n",
    "sparse_page = ss.csr_matrix(events_pages.drop(columns=[\"client_id\"]).values)\n",
    "sparse_page"
   ]
  },
  {
   "cell_type": "code",
   "execution_count": null,
   "id": "0a5d6f65-2731-4174-a225-b29217d83cf4",
   "metadata": {},
   "outputs": [],
   "source": []
  },
  {
   "cell_type": "code",
   "execution_count": null,
   "id": "2d4d233f-bfd2-426e-a8d6-2653d27ee5b7",
   "metadata": {},
   "outputs": [],
   "source": [
    "if \"model_page_ev\" in locals():\n",
    "    del model_page_ev\n",
    "n_comp = 15\n",
    "model_page_ev = LightFM(loss='warp', random_state=42, no_components=n_comp)\n",
    "model_page_ev.fit(sparse_page, epochs=40, num_threads=1)\n",
    "user_emb_page = model_page_ev.user_embeddings\n"
   ]
  },
  {
   "cell_type": "code",
   "execution_count": null,
   "id": "799e0da8-89f1-4807-bc2a-ed7ade4b08cb",
   "metadata": {},
   "outputs": [],
   "source": []
  },
  {
   "cell_type": "code",
   "execution_count": null,
   "id": "f304a699-c8c4-4f3f-8556-126b91f470c3",
   "metadata": {},
   "outputs": [],
   "source": [
    "n_comp"
   ]
  },
  {
   "cell_type": "code",
   "execution_count": null,
   "id": "8493d6d7-cdbb-421d-b366-c8820badcc66",
   "metadata": {},
   "outputs": [],
   "source": [
    "if \"umap_model\" in locals():\n",
    "    del umap_model\n",
    "\n",
    "# defining the UMAP model\n",
    "umap_model = umap.UMAP(n_components=2, metric='manhattan', n_neighbors=30)\n",
    "\n",
    "# fitting\n",
    "embedding = umap_model.fit_transform(user_emb_page)\n",
    "\n",
    "# plotting\n",
    "plt.scatter(embedding[:, 0], embedding[:, 1])\n",
    "plt.show()"
   ]
  },
  {
   "cell_type": "code",
   "execution_count": null,
   "id": "ad8d3a60-1c11-4d4c-a164-08f584971d92",
   "metadata": {},
   "outputs": [],
   "source": []
  },
  {
   "cell_type": "code",
   "execution_count": null,
   "id": "fea65af9-9de7-4370-9e55-6c4b20a06602",
   "metadata": {},
   "outputs": [],
   "source": [
    "emb_page_ev = pd.DataFrame(user_emb_page)\n",
    "for col in emb_page_ev.columns:\n",
    "    emb_page_ev = emb_page_ev.rename(columns={col: f\"col_{col}\"})"
   ]
  },
  {
   "cell_type": "code",
   "execution_count": null,
   "id": "0ec03fc5-8925-42e7-bae8-1669aab266a4",
   "metadata": {},
   "outputs": [],
   "source": [
    "emb_page_ev.to_parquet(f\"emb_page_ev_{n_comp}.pq\")"
   ]
  },
  {
   "cell_type": "code",
   "execution_count": null,
   "id": "64e8d12b-9711-41e2-940a-4e71ed06e75c",
   "metadata": {},
   "outputs": [],
   "source": [
    "if \"model_page_ev\" in locals():\n",
    "    del model_page_ev\n",
    "n_comp = 20\n",
    "model_page_ev = LightFM(loss='warp', random_state=42, no_components=n_comp)\n",
    "model_page_ev.fit(sparse_page, epochs=40, num_threads=1)\n",
    "user_emb_page = model_page_ev.user_embeddings"
   ]
  },
  {
   "cell_type": "code",
   "execution_count": null,
   "id": "fc879215-e181-432e-b041-27dbd7a92d06",
   "metadata": {},
   "outputs": [],
   "source": [
    "emb_page_ev = pd.DataFrame(user_emb_page)\n",
    "for col in emb_page_ev.columns:\n",
    "    emb_page_ev = emb_page_ev.rename(columns={col: f\"col_{col}\"})"
   ]
  },
  {
   "cell_type": "code",
   "execution_count": null,
   "id": "bcdd011c-451b-4b51-b936-1cf905d2be7e",
   "metadata": {},
   "outputs": [],
   "source": [
    "emb_page_ev.to_parquet(f\"emb_page_ev_{n_comp}.pq\")"
   ]
  },
  {
   "cell_type": "code",
   "execution_count": null,
   "id": "9eeefc4b-f7b2-4b6e-8136-9d7f0bd612e0",
   "metadata": {},
   "outputs": [],
   "source": [
    "user_emb_page = pd.read_parquet(\"emb_page_ev.pq\").values"
   ]
  },
  {
   "cell_type": "code",
   "execution_count": null,
   "id": "61f0361a-b433-4249-9353-6c27eea1d51c",
   "metadata": {},
   "outputs": [],
   "source": [
    "user_emb_page"
   ]
  }
 ],
 "metadata": {
  "environment": {
   "kernel": "python3",
   "name": "common-cpu.m104",
   "type": "gcloud",
   "uri": "gcr.io/deeplearning-platform-release/base-cpu:m104"
  },
  "kernelspec": {
   "display_name": "Python 3",
   "language": "python",
   "name": "python3"
  },
  "language_info": {
   "codemirror_mode": {
    "name": "ipython",
    "version": 3
   },
   "file_extension": ".py",
   "mimetype": "text/x-python",
   "name": "python",
   "nbconvert_exporter": "python",
   "pygments_lexer": "ipython3",
   "version": "3.7.12"
  }
 },
 "nbformat": 4,
 "nbformat_minor": 5
}
