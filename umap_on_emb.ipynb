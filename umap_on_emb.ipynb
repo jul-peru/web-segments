{
 "cells": [
  {
   "cell_type": "code",
   "execution_count": null,
   "id": "ed76eb51-3615-45c7-bb97-ae88e4432c5a",
   "metadata": {},
   "outputs": [],
   "source": [
    "# Running UMAP on prepared embeddings"
   ]
  },
  {
   "cell_type": "code",
   "execution_count": 1,
   "id": "2f512b6f-55d6-41c1-af7c-7ff0cb7d67f7",
   "metadata": {},
   "outputs": [],
   "source": [
    "import pandas as pd\n",
    "import numpy as np\n",
    "import umap.umap_ as umap\n",
    "import matplotlib.pyplot as plt\n",
    "import scipy.sparse as ss\n",
    "from sklearn.preprocessing import StandardScaler\n"
   ]
  },
  {
   "cell_type": "code",
   "execution_count": 2,
   "id": "1921351a-91ad-4fd5-bb0d-2df95c4813ee",
   "metadata": {},
   "outputs": [],
   "source": [
    "n_comp = 25\n",
    "user_emb_tags = pd.read_parquet(f\"emb_tags_{n_comp}.pq\").values"
   ]
  },
  {
   "cell_type": "code",
   "execution_count": 3,
   "id": "2a8e1609-8c3f-4a5f-98bb-6d97521f47e2",
   "metadata": {},
   "outputs": [
    {
     "data": {
      "text/plain": [
       "array([[-0.0147962 , -0.39761937, -0.26960868, ...,  0.1258422 ,\n",
       "        -0.16644514, -0.31131908],\n",
       "       [ 0.33503792, -0.19317514, -0.21924737, ...,  0.04283247,\n",
       "         0.21233997,  0.04810783],\n",
       "       [ 0.11598038,  0.19888817, -0.508257  , ...,  0.64314544,\n",
       "         0.6212508 , -0.00304114],\n",
       "       ...,\n",
       "       [-0.43279177,  0.21961479,  0.01257806, ..., -0.08636177,\n",
       "         0.34774768,  0.03724869],\n",
       "       [ 0.08224156, -0.03003123,  0.1159418 , ..., -0.24202669,\n",
       "         0.36805233,  0.1645947 ],\n",
       "       [ 0.18292034, -0.3916358 ,  0.6435098 , ...,  0.36850867,\n",
       "         0.2953449 ,  0.3049081 ]], dtype=float32)"
      ]
     },
     "execution_count": 3,
     "metadata": {},
     "output_type": "execute_result"
    }
   ],
   "source": [
    "user_emb_tags"
   ]
  },
  {
   "cell_type": "code",
   "execution_count": null,
   "id": "32dfa221-a276-4db5-86ff-35cf0ba829f1",
   "metadata": {},
   "outputs": [],
   "source": [
    "if \"umap_model\" in locals():\n",
    "    del umap_model\n",
    "\n",
    "# defining the UMAP model\n",
    "umap_model = umap.UMAP(n_components=2, random_state=21, metric='euclidean', n_neighbors=30)\n",
    "\n",
    "# fitting\n",
    "embedding = umap_model.fit_transform(user_emb_tags)\n",
    "\n",
    "# plotting\n",
    "plt.scatter(embedding[:, 0], embedding[:, 1])\n",
    "plt.title(f\"{n_comp}_embeddings_number\")\n",
    "plt.show()"
   ]
  }
 ],
 "metadata": {
  "environment": {
   "kernel": "python3",
   "name": "common-cpu.m104",
   "type": "gcloud",
   "uri": "gcr.io/deeplearning-platform-release/base-cpu:m104"
  },
  "kernelspec": {
   "display_name": "Python 3",
   "language": "python",
   "name": "python3"
  },
  "language_info": {
   "codemirror_mode": {
    "name": "ipython",
    "version": 3
   },
   "file_extension": ".py",
   "mimetype": "text/x-python",
   "name": "python",
   "nbconvert_exporter": "python",
   "pygments_lexer": "ipython3",
   "version": "3.7.12"
  }
 },
 "nbformat": 4,
 "nbformat_minor": 5
}
