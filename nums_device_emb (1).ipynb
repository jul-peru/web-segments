{
 "cells": [
  {
   "cell_type": "code",
   "execution_count": 6,
   "id": "8bd520d0-340c-47f5-9121-ae7a32d40271",
   "metadata": {},
   "outputs": [
    {
     "name": "stdout",
     "output_type": "stream",
     "text": [
      "Requirement already satisfied: umap-learn in /opt/conda/lib/python3.7/site-packages (0.5.3)\n",
      "Requirement already satisfied: scikit-learn>=0.22 in /opt/conda/lib/python3.7/site-packages (from umap-learn) (1.0.2)\n",
      "Requirement already satisfied: pynndescent>=0.5 in /opt/conda/lib/python3.7/site-packages (from umap-learn) (0.5.9)\n",
      "Requirement already satisfied: tqdm in /opt/conda/lib/python3.7/site-packages (from umap-learn) (4.64.1)\n",
      "Requirement already satisfied: scipy>=1.0 in /opt/conda/lib/python3.7/site-packages (from umap-learn) (1.7.3)\n",
      "Requirement already satisfied: numpy>=1.17 in /opt/conda/lib/python3.7/site-packages (from umap-learn) (1.21.6)\n",
      "Requirement already satisfied: numba>=0.49 in /opt/conda/lib/python3.7/site-packages (from umap-learn) (0.56.4)\n",
      "Requirement already satisfied: setuptools in /opt/conda/lib/python3.7/site-packages (from numba>=0.49->umap-learn) (67.6.1)\n",
      "Requirement already satisfied: importlib-metadata in /opt/conda/lib/python3.7/site-packages (from numba>=0.49->umap-learn) (6.0.1)\n",
      "Requirement already satisfied: llvmlite<0.40,>=0.39.0dev0 in /opt/conda/lib/python3.7/site-packages (from numba>=0.49->umap-learn) (0.39.1)\n",
      "Requirement already satisfied: joblib>=0.11 in /opt/conda/lib/python3.7/site-packages (from pynndescent>=0.5->umap-learn) (1.2.0)\n",
      "Requirement already satisfied: threadpoolctl>=2.0.0 in /opt/conda/lib/python3.7/site-packages (from scikit-learn>=0.22->umap-learn) (3.1.0)\n",
      "Requirement already satisfied: typing-extensions>=3.6.4 in /opt/conda/lib/python3.7/site-packages (from importlib-metadata->numba>=0.49->umap-learn) (4.5.0)\n",
      "Requirement already satisfied: zipp>=0.5 in /opt/conda/lib/python3.7/site-packages (from importlib-metadata->numba>=0.49->umap-learn) (3.15.0)\n",
      "Note: you may need to restart the kernel to use updated packages.\n"
     ]
    }
   ],
   "source": [
    "pip install umap-learn"
   ]
  },
  {
   "cell_type": "code",
   "execution_count": 1,
   "id": "ffe08313-0cbe-4735-aedd-f923aa99efa3",
   "metadata": {},
   "outputs": [],
   "source": [
    "import pandas as pd\n",
    "import numpy as np\n",
    "from lightfm import LightFM\n",
    "import umap.umap_ as umap\n",
    "import matplotlib.pyplot as plt\n",
    "import scipy.sparse as ss\n",
    "from sklearn.cluster import MiniBatchKMeans\n",
    "from sklearn.preprocessing import StandardScaler\n",
    "from sklearn.metrics.pairwise import pairwise_distances_argmin"
   ]
  },
  {
   "cell_type": "code",
   "execution_count": 2,
   "id": "3036ae9e-30ed-4dbc-93e4-f8ae802713b7",
   "metadata": {},
   "outputs": [
    {
     "data": {
      "text/plain": [
       "'2023-04-20_AUG'"
      ]
     },
     "execution_count": 2,
     "metadata": {},
     "output_type": "execute_result"
    }
   ],
   "source": [
    "from datetime import datetime\n",
    "from datetime import date\n",
    "date = date.today()\n",
    "period = \"AUG\"\n",
    "run = f\"{date}_{period}\"\n",
    "run"
   ]
  },
  {
   "cell_type": "code",
   "execution_count": 3,
   "id": "cc5c0dcd-d698-4011-8d6a-df29bb9c84f6",
   "metadata": {},
   "outputs": [
    {
     "data": {
      "application/vnd.jupyter.widget-view+json": {
       "model_id": "c54a5e83bbdf4702b4ff24a3a656f41f",
       "version_major": 2,
       "version_minor": 0
      },
      "text/plain": [
       "Query is running:   0%|          |"
      ]
     },
     "metadata": {},
     "output_type": "display_data"
    },
    {
     "data": {
      "application/vnd.jupyter.widget-view+json": {
       "model_id": "4755d9b893f340adbcf292a61576b4fd",
       "version_major": 2,
       "version_minor": 0
      },
      "text/plain": [
       "Downloading:   0%|          |"
      ]
     },
     "metadata": {},
     "output_type": "display_data"
    }
   ],
   "source": [
    "# %%bigquery users_int_watch\n",
    "# select event_date, event_timestamp, user_id, device.category as device_type,\n",
    "#     device.mobile_brand_name as device_brand,\n",
    "#     device.mobile_model_name as device_model,\n",
    "#     device.operating_system as device_os,\n",
    "#     device.operating_system_version as device_os_version,\n",
    "#     h.key as key,\n",
    "#     h.value.string_value as client_id,\n",
    "#     ev.key as event_key,\n",
    "#     ev.value.string_value as event_params,\n",
    "#     event_name\n",
    "# from `vertex-ai-sandbox-380023.analytics_250000498.events_*` \n",
    "# left join unnest(user_properties) as h\n",
    "# left join unnest(event_params) as ev\n",
    "# where h.key = \"client_id\"\n",
    "#     and ev.key = \"page_location\"\n",
    "#     and h.value.string_value in (\n",
    "#         SELECT distinct(h.value.string_value) as client_id,\n",
    "#         FROM `vertex-ai-sandbox-380023.analytics_250000498.events_*` \n",
    "#         left join unnest(user_properties) as h\n",
    "#         left join unnest(event_params) as ev\n",
    "#         where h.key = \"client_id\"\n",
    "#             and ev.key = \"page_location\"\n",
    "#             and ev.value.string_value like '%watch%'\n",
    "#             and h.value.string_value is not null\n",
    "#             and event_date between format_date(\"%Y%m%d\", date_sub(date_sub(current_date(), interval 49 day), interval 3 month))\n",
    "#             and format_date(\"%Y%m%d\", date_sub(current_date(), interval 49 day)))\n",
    "#     and event_date between format_date(\"%Y%m%d\", date_sub(date_sub(current_date(), interval 49 day), interval 3 month))\n",
    "#     and format_date(\"%Y%m%d\", date_sub(current_date(), interval 49 day))"
   ]
  },
  {
   "cell_type": "code",
   "execution_count": null,
   "id": "55e85f66-4738-4c4b-91fa-5fddb989f8e9",
   "metadata": {},
   "outputs": [
    {
     "data": {
      "application/vnd.jupyter.widget-view+json": {
       "model_id": "f86056917d0e417ea5feacf4cc6b6acc",
       "version_major": 2,
       "version_minor": 0
      },
      "text/plain": [
       "Query is running:   0%|          |"
      ]
     },
     "metadata": {},
     "output_type": "display_data"
    },
    {
     "data": {
      "application/vnd.jupyter.widget-view+json": {
       "model_id": "603544e53e254dbe9746c81dac98c248",
       "version_major": 2,
       "version_minor": 0
      },
      "text/plain": [
       "Downloading:   0%|          |"
      ]
     },
     "metadata": {},
     "output_type": "display_data"
    }
   ],
   "source": [
    "%%bigquery users_int_watch\n",
    "select event_date, event_timestamp, user_id, device.category as device_type,\n",
    "    device.mobile_brand_name as device_brand,\n",
    "    device.mobile_model_name as device_model,\n",
    "    device.operating_system as device_os,\n",
    "    device.operating_system_version as device_os_version,\n",
    "    h.key as key,\n",
    "    h.value.string_value as client_id,\n",
    "    ev.key as event_key,\n",
    "    ev.value.string_value as event_params,\n",
    "    event_name\n",
    "from `vertex-ai-sandbox-380023.analytics_250000498.events_*` \n",
    "left join unnest(user_properties) as h\n",
    "left join unnest(event_params) as ev\n",
    "where h.key = \"client_id\"\n",
    "    and ev.key = \"page_location\"\n",
    "    and h.value.string_value in (\n",
    "        SELECT distinct(h.value.string_value) as client_id,\n",
    "        FROM `vertex-ai-sandbox-380023.analytics_250000498.events_*` \n",
    "        left join unnest(user_properties) as h\n",
    "        left join unnest(event_params) as ev\n",
    "        where h.key = \"client_id\"\n",
    "            and ev.key = \"page_location\"\n",
    "            and ev.value.string_value like '%watch%'\n",
    "            and h.value.string_value is not null\n",
    "            and event_date between \"20220810\"\n",
    "            and \"20220930\")\n",
    "     and event_date between \"20220810\" and \"20220930\""
   ]
  },
  {
   "cell_type": "code",
   "execution_count": 1,
   "id": "b532f91c-6084-42a1-ab3b-1aac5db40214",
   "metadata": {},
   "outputs": [
    {
     "data": {
      "application/vnd.jupyter.widget-view+json": {
       "model_id": "37abb82636c949c3ab0e7f0df32976d0",
       "version_major": 2,
       "version_minor": 0
      },
      "text/plain": [
       "Query is running:   0%|          |"
      ]
     },
     "metadata": {},
     "output_type": "display_data"
    },
    {
     "data": {
      "application/vnd.jupyter.widget-view+json": {
       "model_id": "0f5f4137c669402ebe1a4618a377e83d",
       "version_major": 2,
       "version_minor": 0
      },
      "text/plain": [
       "Downloading:   0%|          |"
      ]
     },
     "metadata": {},
     "output_type": "display_data"
    }
   ],
   "source": [
    "%%bigquery users_int_watch\n",
    "\n",
    "\n",
    "select event_date, event_timestamp, user_id, device_type,\n",
    "    device_brand,\n",
    "    device_os,\n",
    "    client_id, event_params\n",
    "from `vertex-ai-sandbox-380023.feature_prep.watch_watchers`"
   ]
  },
  {
   "cell_type": "code",
   "execution_count": 5,
   "id": "0c60113e-47b4-415d-80e9-2ac2da4f0e5f",
   "metadata": {},
   "outputs": [],
   "source": [
    "users_int_watch.to_parquet(\"users_watches_AUG.pq\")"
   ]
  },
  {
   "cell_type": "code",
   "execution_count": 10,
   "id": "05582021-8181-4116-b48a-a08a718b77be",
   "metadata": {},
   "outputs": [],
   "source": [
    "users = users_int_watch.groupby([\"client_id\"]).user_id.count().reset_index()\n",
    "users = users.rename(columns={\"user_id\": \"is_user\"})\n",
    "users.loc[users[\"is_user\"] > 0, \"is_user\"] = 1"
   ]
  },
  {
   "cell_type": "code",
   "execution_count": null,
   "id": "54bcda81-d9cb-497b-b46c-f33fb874c2e8",
   "metadata": {},
   "outputs": [],
   "source": [
    "# non_use_mask = users_int_watch[\"user_id\"].isna()\n",
    "# non_users = users_int_watch[non_use_mask].copy()\n",
    "# non_users[\"is_user\"] = 0\n",
    "# users = users_int_watch[~non_use_mask].copy()\n",
    "# users[\"is_user\"] = 1\n",
    "# size_df = users_int_watch.shape[0]\n",
    "# print(\"users_int_watch was: \", users_int_watch.shape[0], \"events\")\n",
    "# del users_int_watch\n",
    "# users_int_watch = pd.concat([non_users, users])\n",
    "# del non_users, users\n",
    "# if size_df == users_int_watch.shape[0]:\n",
    "#     print(\"new prep_df size is correct and equals\", size_df)\n",
    "# else:\n",
    "#     print(\"there is an error, new size is\", size_df-users_int_watch.shape[0], \"entries smaller\")"
   ]
  },
  {
   "cell_type": "code",
   "execution_count": null,
   "id": "e9e6bcb5-201a-4200-b748-2210893833aa",
   "metadata": {},
   "outputs": [],
   "source": [
    "# users_or_non = users_int_watch[[\"client_id\", \"is_user\"]].drop_duplicates()\n",
    "# df_of_dup = users_or_non.groupby([\"client_id\"]).is_user.count().reset_index().sort_values(by=\"is_user\", ascending=False)\n",
    "# list_of_dup = list(df_of_dup[df_of_dup[\"is_user\"] == 2][\"client_id\"])\n",
    "# users_or_non = users_or_non.drop_duplicates(subset=\"client_id\")\n",
    "# users_or_non.loc[users_or_non[\"client_id\"].isin(list_of_dup), \"is_user\"] = 1\n",
    "\n",
    "# del df_of_dup, list_of_dup"
   ]
  },
  {
   "cell_type": "code",
   "execution_count": null,
   "id": "839019fa-89d0-4378-a2d2-4d3b7dd9b347",
   "metadata": {},
   "outputs": [],
   "source": []
  },
  {
   "cell_type": "code",
   "execution_count": 11,
   "id": "33c70614-4911-42a1-8435-86de51df2a3e",
   "metadata": {},
   "outputs": [],
   "source": [
    "user_hits = users_int_watch[[\"event_timestamp\", \"client_id\"]]\\\n",
    "    .groupby([\"client_id\"]).event_timestamp.count()\\\n",
    "    .reset_index()\n",
    "users_watches = users_int_watch[users_int_watch[\"event_params\"].str.contains(\"watch\")]\n",
    "users_watches_hits = users_watches[[\"event_timestamp\", \"client_id\"]]\\\n",
    "    .groupby([\"client_id\"]).event_timestamp.count()\\\n",
    "    .reset_index()\n",
    "user_hits = user_hits.rename(columns={\"event_timestamp\": \"hits\"})\n",
    "users_watches_hits = users_watches_hits.rename(columns={\"event_timestamp\": \"hits_watches\"})\n",
    "user_hits_full = user_hits.merge(users_watches_hits, on=\"client_id\", how=\"inner\")\n",
    "\n",
    "users_active = users_int_watch[[\"client_id\", \"event_date\"]].groupby([\"client_id\"])\\\n",
    "    .agg({\"event_date\": pd.Series.nunique})\\\n",
    "    .reset_index()"
   ]
  },
  {
   "cell_type": "code",
   "execution_count": 12,
   "id": "1f6f74d1-d6ea-407e-9065-f4bd1c4b21e4",
   "metadata": {},
   "outputs": [],
   "source": [
    "users_active = users_active.rename(columns={\"event_date\": \"days_active\"})\n",
    "users_num = users.merge(user_hits_full, on=\"client_id\", how=\"inner\")\\\n",
    "    .merge(users_active, on=\"client_id\", how=\"inner\")"
   ]
  },
  {
   "cell_type": "code",
   "execution_count": 13,
   "id": "d4968419-5b76-4745-95dd-73efacd9c1a0",
   "metadata": {},
   "outputs": [
    {
     "data": {
      "text/plain": [
       "'2023-04-20_AUG'"
      ]
     },
     "execution_count": 13,
     "metadata": {},
     "output_type": "execute_result"
    }
   ],
   "source": [
    "run"
   ]
  },
  {
   "cell_type": "code",
   "execution_count": 14,
   "id": "2a89d166-a755-4a78-a4b7-c8725e0cef52",
   "metadata": {},
   "outputs": [],
   "source": [
    "users_num.to_parquet(f\"art/users_numerical_activity_{run}.pq\")"
   ]
  },
  {
   "cell_type": "code",
   "execution_count": 15,
   "id": "969d13fe-88aa-4a67-adab-3b6958bc7324",
   "metadata": {},
   "outputs": [],
   "source": [
    "users_device_brand_watch = users_int_watch[[\"client_id\", \"device_brand\", \"event_timestamp\"]].copy()\n",
    "users_device_brand_watch[\"device_brand\"] = users_device_brand_watch[\"device_brand\"].replace(\"\", \"brand_unknown\")\n",
    "\n",
    "# collecting device brand to features\n",
    "users_int_watch_devices = users_int_watch[[\"client_id\", \"device_brand\", \"event_timestamp\"]].drop_duplicates()\n",
    "pivot_brand = pd.pivot_table(users_int_watch_devices, index=[\"client_id\"],\n",
    "                             columns=[\"device_brand\"], values=\"event_timestamp\",\n",
    "                             aggfunc=\"count\", fill_value=0).reset_index()\n",
    "del users_device_brand_watch\n"
   ]
  },
  {
   "cell_type": "code",
   "execution_count": 16,
   "id": "8b929896-4b4f-40d9-a65c-7f372f5193b3",
   "metadata": {},
   "outputs": [],
   "source": [
    "# collecting device type\n",
    "users_int_watch_devices = users_int_watch[[\"client_id\", \"device_type\", \"event_timestamp\"]].drop_duplicates()\n",
    "pivot_devices = pd.pivot_table(users_int_watch_devices, index=[\"client_id\"],\n",
    "                               columns=[\"device_type\"], values=\"event_timestamp\",\n",
    "                               aggfunc=\"count\", fill_value=0).reset_index()\n",
    "\n",
    "del users_int_watch_devices"
   ]
  },
  {
   "cell_type": "code",
   "execution_count": 17,
   "id": "2d7c6157-795e-4397-b963-4724173c85a9",
   "metadata": {},
   "outputs": [],
   "source": [
    "pivot_devices.to_parquet(f\"art/activity/cid_device_type_{run}.pq\")\n",
    "pivot_brand.to_parquet(f\"art/activity/cid_device_brand_{run}.pq\")"
   ]
  },
  {
   "cell_type": "code",
   "execution_count": 18,
   "id": "82ce0fec-341b-4a9e-8e22-906b3ddb7b7c",
   "metadata": {},
   "outputs": [],
   "source": [
    "# collecting device related features together\n",
    "\n",
    "user_device_features = pivot_devices\\\n",
    "    .merge(pivot_brand, on=\"client_id\", how=\"outer\")\\\n",
    "    .reset_index(drop=True)\\\n",
    "    .fillna(0)\n",
    "\n",
    "for col in user_device_features.drop(columns=[\"client_id\"]).columns:\n",
    "    user_device_features[col] = user_device_features[col].astype(\"int\")\n",
    "\n",
    "del users_int_watch"
   ]
  },
  {
   "cell_type": "code",
   "execution_count": 19,
   "id": "1f309f01-96ff-4934-83fd-88cd6b8f033e",
   "metadata": {},
   "outputs": [],
   "source": [
    "user_device_features.to_parquet(f\"users_device_features_{run}.pq\")"
   ]
  },
  {
   "cell_type": "code",
   "execution_count": 3,
   "id": "480c7842-e480-43bb-8a46-3f8f7806f536",
   "metadata": {},
   "outputs": [],
   "source": [
    "user_device_features = pd.read_parquet(f\"users_device_features_{run}.pq\")"
   ]
  },
  {
   "cell_type": "code",
   "execution_count": 4,
   "id": "f8cdd531-34d4-4dc7-84ea-dd0425f24033",
   "metadata": {},
   "outputs": [],
   "source": [
    "sparse_device = ss.csr_matrix(user_device_features.drop(columns=[\"client_id\"]).values)"
   ]
  },
  {
   "cell_type": "code",
   "execution_count": 5,
   "id": "d2afb16d-8ea6-490a-a19b-00058278a265",
   "metadata": {},
   "outputs": [],
   "source": [
    "if \"model\" in locals():\n",
    "    del model\n",
    "n_comp = 5\n",
    "# defining the LightFM model\n",
    "model = LightFM(loss='warp', random_state=21, no_components=n_comp)\n",
    "# fitting\n",
    "model.fit(sparse_device, epochs=20, num_threads=1)\n",
    "# saving embeddings\n",
    "user_emb_dev = model.user_embeddings"
   ]
  },
  {
   "cell_type": "code",
   "execution_count": 6,
   "id": "14d0d26b-abb7-401c-8078-82bee8435f32",
   "metadata": {},
   "outputs": [],
   "source": [
    "emb_dev = pd.DataFrame(user_emb_dev)\n",
    "for col in emb_dev.columns:\n",
    "    emb_dev = emb_dev.rename(columns={col: f\"col_{col}\"})"
   ]
  },
  {
   "cell_type": "code",
   "execution_count": 7,
   "id": "27377e96-4658-4252-9d46-9d104cc89c78",
   "metadata": {},
   "outputs": [],
   "source": [
    "\n",
    "emb_dev.to_parquet(f\"emb_devices_{n_comp}.pq\")"
   ]
  },
  {
   "cell_type": "code",
   "execution_count": 8,
   "id": "f65cd477-6cf6-473d-bdd8-47bf8a785cbf",
   "metadata": {},
   "outputs": [
    {
     "data": {
      "text/plain": [
       "array([[-0.15831123,  0.16300143,  0.08756991, -0.08848318, -0.0199209 ],\n",
       "       [-0.25290528, -0.50800145,  0.39204526, -0.37828234, -0.03308587],\n",
       "       [ 0.02619106,  0.13684411,  0.22933   , -0.06309661, -0.04911786],\n",
       "       ...,\n",
       "       [-0.10125699,  0.10553132,  0.06046237, -0.02471155,  0.01109862],\n",
       "       [-0.1900819 , -0.00957474,  0.04734597, -0.09362752,  0.14333741],\n",
       "       [-0.45053533,  0.60057545,  0.13223307, -0.10930066,  0.00075004]],\n",
       "      dtype=float32)"
      ]
     },
     "execution_count": 8,
     "metadata": {},
     "output_type": "execute_result"
    }
   ],
   "source": [
    "user_emb_dev = pd.read_parquet(\"dev_emb.pq\").values\n",
    "user_emb_dev"
   ]
  },
  {
   "cell_type": "code",
   "execution_count": 7,
   "id": "b0da8f6a-e3c3-406e-9c6b-b0824ec585a1",
   "metadata": {},
   "outputs": [],
   "source": [
    "umap_model = umap.UMAP(n_components=2, metric='euclidean', n_neighbors=30)"
   ]
  },
  {
   "cell_type": "code",
   "execution_count": null,
   "id": "ce4f7454-9eed-451f-8f9d-b5c1d3856a04",
   "metadata": {},
   "outputs": [],
   "source": [
    "embedding = umap_model.fit_transform(user_emb_dev)"
   ]
  },
  {
   "cell_type": "code",
   "execution_count": null,
   "id": "678f0af3-b3d5-4d69-a430-5ab78b884171",
   "metadata": {},
   "outputs": [],
   "source": [
    "if \"umap_model\" in locals():\n",
    "    del umap_model\n",
    "\n",
    "# defining the UMAP model\n",
    "umap_model = umap.UMAP(n_components=2, random_state=21, metric='euclidean', n_neighbors=30)\n",
    "\n",
    "# fitting\n",
    "embedding = umap_model.fit_transform(user_emb_dev)\n",
    "\n",
    "# plotting\n",
    "plt.scatter(embedding[:, 0], embedding[:, 1])\n",
    "plt.show()"
   ]
  },
  {
   "cell_type": "code",
   "execution_count": null,
   "id": "95d3b860-a4cd-4daa-8347-975d878f37b2",
   "metadata": {},
   "outputs": [],
   "source": []
  }
 ],
 "metadata": {
  "environment": {
   "kernel": "python3",
   "name": "common-cpu.m107",
   "type": "gcloud",
   "uri": "gcr.io/deeplearning-platform-release/base-cpu:m107"
  },
  "kernelspec": {
   "display_name": "Python 3",
   "language": "python",
   "name": "python3"
  },
  "language_info": {
   "codemirror_mode": {
    "name": "ipython",
    "version": 3
   },
   "file_extension": ".py",
   "mimetype": "text/x-python",
   "name": "python",
   "nbconvert_exporter": "python",
   "pygments_lexer": "ipython3",
   "version": "3.7.12"
  }
 },
 "nbformat": 4,
 "nbformat_minor": 5
}
