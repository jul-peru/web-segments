{
 "cells": [
  {
   "cell_type": "code",
   "execution_count": null,
   "id": "6e301e81-0fe9-48ee-a2f4-218cd18df694",
   "metadata": {},
   "outputs": [],
   "source": [
    "import pandas as pd\n",
    "import numpy as np\n",
    "# import prince\n",
    "# from lightfm import LightFM\n",
    "# from tqdm import tqdm\n",
    "import seaborn as sns\n",
    "import umap.umap_ as umap\n",
    "import matplotlib.pyplot as plt\n",
    "# import scipy.sparse as ss\n",
    "from datetime import datetime\n",
    "from sklearn.cluster import KMeans\n",
    "from scipy.stats import chi2_contingency\n",
    "import seaborn as sns"
   ]
  },
  {
   "cell_type": "code",
   "execution_count": null,
   "id": "66aa9387-1dc3-4327-903a-ade1062659e8",
   "metadata": {},
   "outputs": [],
   "source": [
    "from datetime import datetime\n",
    "from datetime import date\n",
    "date = date.today()\n",
    "period = \"AUG\"\n",
    "run = f\"{date}_{period}\"\n",
    "run"
   ]
  },
  {
   "cell_type": "code",
   "execution_count": null,
   "id": "183a8e27-7df9-4220-87b0-34b78ed68443",
   "metadata": {},
   "outputs": [],
   "source": [
    "def emb_prep(emb):\n",
    "    emb_short = emb[[\"client_id\", \"is_user\", \"hits\", \"hits_watches\", \"days_active\", \"cluster\"]].copy()\n",
    "    del emb\n",
    "    emb_short[\"hits_per_day\"] = round(emb_short[\"hits\"]/emb_short[\"days_active\"], 2)\n",
    "    emb_short[\"watches_hits_ratio\"] = round(emb_short[\"hits_watches\"] / emb_short[\"hits\"], 2)\n",
    "    return emb_short\n"
   ]
  },
  {
   "cell_type": "code",
   "execution_count": null,
   "id": "4ee5a771-15be-4265-854f-58898e41b3ec",
   "metadata": {},
   "outputs": [],
   "source": [
    "# user_embed_cat_num = pd.read_parquet(f\"{run}_embeddings_with_num.pq\")\n",
    "emb = pd.read_parquet(\"explore_short.pq\")"
   ]
  },
  {
   "cell_type": "code",
   "execution_count": null,
   "id": "930e4c02-7753-42c3-8aa9-853f57ee4ad6",
   "metadata": {},
   "outputs": [],
   "source": [
    "# features before embeddings\n",
    "\n",
    "devices_user = pd.read_parquet(\"users_device_features_2023-04-20_AUG (1).pq\")\n",
    "tags_user = pd.read_parquet(\"AUG_tags_per_user.pq\")\n",
    "pages_user = pd.read_parquet(\"3m_pages_features.pq\")\n",
    "events_user = pd.read_parquet(\"3m_events_features.pq\")\n",
    "\n"
   ]
  },
  {
   "cell_type": "code",
   "execution_count": null,
   "id": "2a15b5ff-d9ac-4a72-ac15-13c38d273db8",
   "metadata": {},
   "outputs": [],
   "source": [
    "emb = emb.drop(columns=[\"cluster\"]).rename(columns={\"cluster_6\": \"cluster\"})\n",
    "emb_short = emb_prep(emb)"
   ]
  },
  {
   "cell_type": "code",
   "execution_count": null,
   "id": "6347539e-f1e4-4509-88ae-e7401b8f8728",
   "metadata": {},
   "outputs": [],
   "source": [
    "clusters_sizes = emb_short.groupby([\"cluster\"]).client_id.count().reset_index()\n",
    "clusters_sizes = clusters_sizes.rename(columns={\"client_id\": \"cluster_size\"})\n",
    "clusters_sizes[\"size_ratio\"] = clusters_sizes[\"cluster_size\"]/clusters_sizes[\"cluster_size\"].sum()\n",
    "clusters_sizes"
   ]
  },
  {
   "cell_type": "code",
   "execution_count": null,
   "id": "1351b434-f08c-4ad9-ac58-db481fcf54ce",
   "metadata": {},
   "outputs": [],
   "source": [
    "activity_by_cluster = emb_short.groupby([\"cluster\"]).agg({\"hits\": np.median,\\\n",
    "                                           \"hits_watches\": np.median,\\\n",
    "                                           \"days_active\": np.median,\\\n",
    "                                           \"hits_per_day\": np.median,\\\n",
    "                                           \"watches_hits_ratio\": np.median})"
   ]
  },
  {
   "cell_type": "code",
   "execution_count": null,
   "id": "4cf2098c-8c4f-4359-9c40-36f8b1d94376",
   "metadata": {},
   "outputs": [],
   "source": [
    "activity_by_cluster"
   ]
  },
  {
   "cell_type": "code",
   "execution_count": null,
   "id": "33c7ff91-eebd-4665-91c1-c80998dd5cfb",
   "metadata": {},
   "outputs": [],
   "source": [
    "totals_df = pd.DataFrame(columns=activity_by_cluster.columns)\n",
    "value_list = list()\n",
    "for col in activity_by_cluster.columns:\n",
    "    value = np.median(emb_short[col])\n",
    "    value_list.append(value)\n",
    "\n",
    "totals_df = activity_by_cluster.copy()\n",
    "totals_df = totals_df.append(pd.DataFrame([value_list], \n",
    "     columns=activity_by_cluster.columns), \n",
    "     ignore_index=True)\n",
    "totals_df"
   ]
  },
  {
   "cell_type": "code",
   "execution_count": null,
   "id": "71cbf31b-6c35-4f06-aad7-6020f05a97a7",
   "metadata": {},
   "outputs": [],
   "source": [
    "hits_2 = emb_short[emb_short[\"cluster\"] == 1]['hits']\n",
    "hits_7 = emb_short[emb_short[\"cluster\"] == 4]['hits']\n",
    "totals = emb_short['hits']\n",
    "\n",
    "upper_clip = 300\n",
    "\n",
    "sns.set_theme()\n",
    "plt.figure(figsize=(12, 6), dpi=80)\n",
    "_, bins, _ = plt.hist(hits_2.clip(upper=upper_clip), bins=100, alpha=0.5, label='Casual browsers', weights=np.ones(hits_2.shape[0])/hits_2.shape[0])\n",
    "# plt.hist(hits_7.clip(upper=upper_clip), bins=bins, alpha=0.5, label='Logged buyers hits', weights=np.ones(hits_7.shape[0])/hits_7.shape[0])\n",
    "plt.hist(totals.clip(upper=upper_clip), bins=bins, alpha=0.5, label='Total', weights=np.ones(totals.shape[0])/totals.shape[0])\n",
    "plt.legend(loc='upper right', prop={'size': 15})\n",
    "plt.xlabel('Number of transactions', fontsize=10)\n",
    "plt.ylabel('Number of client_ids', fontsize=10)\n",
    "plt.title(\"Amount of transactions per period\", fontsize=15)\n",
    "\n",
    "plt.show()"
   ]
  },
  {
   "cell_type": "code",
   "execution_count": null,
   "id": "3cb5ac3e-dc31-4a0e-bc46-4c78889590dd",
   "metadata": {},
   "outputs": [],
   "source": []
  },
  {
   "cell_type": "code",
   "execution_count": null,
   "id": "a7f1105c-51f5-443b-895e-765bddf12da8",
   "metadata": {},
   "outputs": [],
   "source": [
    "emb_gr = emb_short.groupby([\"cluster\", \"is_user\"]).client_id.count().reset_index()\n",
    "\n",
    "clusters_users = pd.pivot_table(emb_gr, index=[\"cluster\"],\n",
    "                                 columns=[\"is_user\"], values=\"client_id\", fill_value=0)\\\n",
    "    .reset_index()\n",
    "\n",
    "clusters_users.columns = [\"cluster\", \"non_user\", \"user\"]\n",
    "clusters_users[\"user_ratio\"] = round(clusters_users[\"user\"]/(clusters_users[\"user\"] + clusters_users[\"non_user\"]), 2)\n",
    "\n",
    "clusters_users"
   ]
  },
  {
   "cell_type": "code",
   "execution_count": null,
   "id": "0bbc82d9-447e-4879-9a76-ef5b12440ac9",
   "metadata": {},
   "outputs": [],
   "source": [
    "device_type = devices_user[[\"client_id\", \"desktop\", \"mobile\", \"tablet\"]]"
   ]
  },
  {
   "cell_type": "code",
   "execution_count": null,
   "id": "46945fe6-75f0-41fc-9626-08e774d4957d",
   "metadata": {},
   "outputs": [],
   "source": [
    "# preparing needed columns\n",
    "##TODO make it into the function\n",
    "\n",
    "clusters_pages = emb_short.drop(columns=[\"is_user\", \"hits\", \"hits_watches\", \"days_active\", \"hits_per_day\", \"watches_hits_ratio\"])\\\n",
    "    .merge(pages_user, on=\"client_id\", how=\"inner\")\n",
    "T_clusters_pages = clusters_pages.groupby(\"cluster\").sum().T\n",
    "\n",
    "clusters_events = emb_short.drop(columns=[\"is_user\", \"hits\", \"hits_watches\", \"days_active\", \"hits_per_day\", \"watches_hits_ratio\"])\\\n",
    "    .merge(events_user, on=\"client_id\", how=\"outer\")\n",
    "T_clusters_events = clusters_events.groupby(\"cluster\").sum().T\n",
    "\n",
    "clusters_device_type = emb_short.drop(columns=[\"is_user\", \"hits\", \"hits_watches\", \"days_active\", \"hits_per_day\", \"watches_hits_ratio\"])\\\n",
    "    .merge(devices_user, on=\"client_id\", how=\"outer\")\n",
    "\n",
    "columns_os_mask = (~clusters_device_type.columns.str.contains(\"Android\"))\\\n",
    "                   & (~clusters_device_type.columns.str.contains(\"iOS\"))\\\n",
    "                   & (~clusters_device_type.columns.str.contains(\"OS\"))\\\n",
    "                   & (~clusters_device_type.columns.str.contains(\"FreeBSD\"))\\\n",
    "                   & (~clusters_device_type.columns.str.contains(\"Linux\"))\\\n",
    "                   & (~clusters_device_type.columns.str.contains(\"Macintosh\"))\\\n",
    "                   & (~clusters_device_type.columns.str.contains(\"Windows\"))\\\n",
    "                   & (~clusters_device_type.columns.str.contains(\"Tizen\"))\n",
    "\n",
    "T_clusters_device_type = clusters_device_type[[\"client_id\", \"cluster\", \"desktop\", \"mobile\", \"tablet\"]]\\\n",
    "    .groupby(\"cluster\").sum().T\n",
    "\n",
    "T_clusters_device_os = clusters_device_type.loc[:, (clusters_device_type.columns.str.contains(\"cluster\")) |\\\n",
    "    (~columns_os_mask\\\n",
    "    & (~clusters_device_type.columns.isin([\"desktop\", \"mobile\", \"tablet\", \"os_unknown\"])))]\\\n",
    "    .groupby(\"cluster\").sum().T\n",
    "\n",
    "T_clusters_device_brand = clusters_device_type.loc[:, columns_os_mask\\\n",
    "    & (~clusters_device_type.columns.isin([\"desktop\", \"mobile\", \"tablet\", \"os_unknown\"]))]\\\n",
    "    .groupby(\"cluster\").sum().T\n",
    "\n",
    "clusters_tags = emb_short.drop(columns=[\"is_user\", \"hits\", \"hits_watches\", \"days_active\", \"hits_per_day\", \"watches_hits_ratio\"])\\\n",
    "    .merge(tags_user, on=\"client_id\", how=\"outer\")\n",
    "T_clusters_tags = clusters_tags.groupby(\"cluster\").sum().T"
   ]
  },
  {
   "cell_type": "code",
   "execution_count": null,
   "id": "818a8a11-ff5c-4ef5-b693-17d556aab29d",
   "metadata": {},
   "outputs": [],
   "source": [
    "purchases = clusters_events[[\"cluster\", \"purchase\"]].copy()\n",
    "purchases[\"was_purch\"] = purchases[\"purchase\"]\n",
    "purchases.loc[purchases[\"was_purch\"] != 0, \"was_purch\"] = 1\n",
    "purchases"
   ]
  },
  {
   "cell_type": "code",
   "execution_count": null,
   "id": "af9be162-c891-4d9c-81cd-ca53b02cca39",
   "metadata": {},
   "outputs": [],
   "source": [
    "purchases.groupby([\"cluster\"]).agg({\"purchase\": [\"sum\", \"count\"], \"was_purch\": \"sum\"})"
   ]
  },
  {
   "cell_type": "code",
   "execution_count": null,
   "id": "aef3818b-c5af-46c8-b892-c04a2f1a11b0",
   "metadata": {},
   "outputs": [],
   "source": [
    "clusters_buying = T_clusters_events_ratio\\\n",
    "    .T[[\"add_payment_info\", \"add_shipping_info\", \"add_to_cart\", \"begin_checkout\", \"checkout_progress\", \"purchase\"]]\n",
    "clusters_buying"
   ]
  },
  {
   "cell_type": "code",
   "execution_count": null,
   "id": "10b11b1a-9e28-4d09-97fe-92f7bde93609",
   "metadata": {},
   "outputs": [],
   "source": [
    "clusters_buying_rat = clusters_buying[[\"purchase\"]].copy()\n",
    "\n",
    "for col in clusters_buying.columns:\n",
    "    clusters_buying_rat[f\"ratio_{col}\"] = clusters_buying[col]/clusters_buying[\"add_to_cart\"]\n",
    "clusters_buying_rat = clusters_buying_rat.drop(columns=[\"purchase\"])\n",
    "clusters_buying_rat_s = clusters_buying_rat.T.sort_values(by=\"cluster_0_rat\", ascending=False).T\n",
    "clusters_buying_rat_s"
   ]
  },
  {
   "cell_type": "code",
   "execution_count": null,
   "id": "d27a9005-cc7e-4aad-baef-18461bd64a4f",
   "metadata": {},
   "outputs": [],
   "source": []
  },
  {
   "cell_type": "code",
   "execution_count": null,
   "id": "12b27e4f-926d-4899-9ff1-691d37d1ba50",
   "metadata": {},
   "outputs": [],
   "source": [
    "# renaming the columns\n",
    "##TODO make it into the function\n",
    "\n",
    "i = 0\n",
    "for col in T_clusters_pages.columns:\n",
    "    T_clusters_pages = T_clusters_pages.rename(columns={col: f\"cluster_{i}\"})\n",
    "    i += 1\n",
    "\n",
    "i = 0\n",
    "for col in T_clusters_events.columns:\n",
    "    T_clusters_events = T_clusters_events.rename(columns={col: f\"cluster_{i}\"})\n",
    "    i += 1\n",
    "    \n",
    "i = 0\n",
    "for col in T_clusters_device_type.columns:\n",
    "    T_clusters_device_type = T_clusters_device_type.rename(columns={col: f\"cluster_{i}\"})\n",
    "    i += 1\n",
    "\n",
    "i = 0\n",
    "for col in T_clusters_device_os.columns:\n",
    "    T_clusters_device_os = T_clusters_device_os.rename(columns={col: f\"cluster_{i}\"})\n",
    "    i += 1\n",
    "\n",
    "i = 0\n",
    "for col in T_clusters_device_brand.columns:\n",
    "    T_clusters_device_brand = T_clusters_device_brand.rename(columns={col: f\"cluster_{i}\"})\n",
    "    i += 1\n",
    "    \n",
    "i = 0\n",
    "for col in T_clusters_tags.columns:\n",
    "    T_clusters_tags = T_clusters_tags.rename(columns={col: f\"cluster_{i}\"})\n",
    "    i += 1"
   ]
  },
  {
   "cell_type": "code",
   "execution_count": null,
   "id": "c9fc7678-3db3-41c8-b8e2-f641545e1b0b",
   "metadata": {},
   "outputs": [],
   "source": [
    "cl_size = list(emb_short.groupby([\"cluster\"]).client_id.count())\n",
    "cl_size.append(emb_short.groupby([\"cluster\"]).client_id.count().sum())"
   ]
  },
  {
   "cell_type": "code",
   "execution_count": null,
   "id": "047977b6-8178-4004-823e-6998a0e2ad1e",
   "metadata": {},
   "outputs": [],
   "source": [
    "if \"Total\" in T_clusters_tags.columns:\n",
    "    T_clusters_tags = T_clusters_tags.drop(columns=\"Total\")\n",
    "T_clusters_tags[\"Total\"] = T_clusters_tags.sum(axis=1)\n",
    "T_clusters_tags_ratio = T_clusters_tags.copy()\n",
    "i = 0\n",
    "for col in T_clusters_tags.columns:\n",
    "    T_clusters_tags_ratio[f\"{col}_rat\"] = T_clusters_tags_ratio[col]/cl_size[i]\n",
    "    T_clusters_tags_ratio = T_clusters_tags_ratio.drop(columns=[col])\n",
    "    i += 1"
   ]
  },
  {
   "cell_type": "code",
   "execution_count": null,
   "id": "38200024-77d1-41dc-a565-41694bb5adec",
   "metadata": {},
   "outputs": [],
   "source": [
    "T_clusters_tags_ratio.sort_values(by=\"cluster_0_rat\", ascending=False).head(30)"
   ]
  },
  {
   "cell_type": "code",
   "execution_count": null,
   "id": "5b77e05b-528d-41fe-9fa3-7f8bb57812ca",
   "metadata": {},
   "outputs": [],
   "source": [
    "if \"Total\" in T_clusters_events.columns:\n",
    "    T_clusters_events = T_clusters_events.drop(columns=\"Total\")\n",
    "T_clusters_events[\"Total\"] = T_clusters_events.sum(axis=1)\n",
    "T_clusters_events_ratio = T_clusters_events.copy()\n",
    "i = 0\n",
    "for col in T_clusters_events.columns:\n",
    "    T_clusters_events_ratio[f\"{col}_rat\"] = T_clusters_events_ratio[col]/cl_size[i]\n",
    "    T_clusters_events_ratio = T_clusters_events_ratio.drop(columns=[col])\n",
    "    i += 1"
   ]
  },
  {
   "cell_type": "code",
   "execution_count": null,
   "id": "768e01dc-756c-434e-8c24-22968d79e99f",
   "metadata": {},
   "outputs": [],
   "source": []
  },
  {
   "cell_type": "code",
   "execution_count": null,
   "id": "40fb2393-40d7-4000-ba38-79930f64b7c9",
   "metadata": {},
   "outputs": [],
   "source": [
    "T_clusters_events_ratio.sort_values(by=\"cluster_3_rat\", ascending=False).head(30)"
   ]
  },
  {
   "cell_type": "code",
   "execution_count": null,
   "id": "91398acb-15d1-4975-a42a-c0e4fc4ba2a4",
   "metadata": {},
   "outputs": [],
   "source": []
  },
  {
   "cell_type": "code",
   "execution_count": null,
   "id": "c489a711-baf9-4a99-94d8-7eefa41eff89",
   "metadata": {},
   "outputs": [],
   "source": [
    "if \"Total\" in T_clusters_pages.columns:\n",
    "    T_clusters_pages = T_clusters_pages.drop(columns=\"Total\")\n",
    "T_clusters_pages[\"Total\"] = T_clusters_pages.sum(axis=1)\n",
    "T_clusters_pages_ratio = T_clusters_pages.copy()\n",
    "i = 0\n",
    "for col in T_clusters_pages.columns:\n",
    "    T_clusters_pages_ratio[f\"{col}_rat\"] = T_clusters_pages_ratio[col]/cl_size[i]\n",
    "    T_clusters_pages_ratio = T_clusters_pages_ratio.drop(columns=[col])\n",
    "    i += 1"
   ]
  },
  {
   "cell_type": "code",
   "execution_count": null,
   "id": "96b02c5b-8fce-4d9f-a318-876bcd81e3af",
   "metadata": {},
   "outputs": [],
   "source": [
    "T_clusters_pages_ratio.sort_values(by=\"cluster_0_rat\", ascending=False).head(30)"
   ]
  },
  {
   "cell_type": "code",
   "execution_count": null,
   "id": "c0c164f4-a8fc-408f-ba34-80d0d1bf2b86",
   "metadata": {},
   "outputs": [],
   "source": [
    "if \"Total\" in T_clusters_device_type.columns:\n",
    "    T_clusters_device_type = T_clusters_device_type.drop(columns=\"Total\")\n",
    "T_clusters_device_type[\"Total\"] = T_clusters_device_type.sum(axis=1)\n",
    "T_clusters_device_type_ratio = T_clusters_device_type.copy()\n",
    "\n",
    "for col in T_clusters_device_type.columns:\n",
    "    T_clusters_device_type_ratio[f\"{col}_rat\"] = T_clusters_device_type_ratio[col]/T_clusters_device_type_ratio[col].sum()\n",
    "    T_clusters_device_type_ratio = T_clusters_device_type_ratio.drop(columns=[col])\n",
    "    "
   ]
  },
  {
   "cell_type": "code",
   "execution_count": null,
   "id": "29a80089-13a3-48f6-af89-88c7871f263d",
   "metadata": {},
   "outputs": [],
   "source": [
    "T_clusters_device_type_ratio"
   ]
  },
  {
   "cell_type": "code",
   "execution_count": null,
   "id": "6806a927-ec03-49a6-9853-c2e24180bd03",
   "metadata": {},
   "outputs": [],
   "source": [
    "if \"Total\" in T_clusters_device_brand.columns:\n",
    "    T_clusters_device_brand = T_clusters_device_brand.drop(columns=\"Total\")\n",
    "T_clusters_device_brand[\"Total\"] = T_clusters_device_brand.sum(axis=1)\n",
    "T_clusters_device_brand_ratio = T_clusters_device_brand.copy()\n",
    "for col in T_clusters_device_brand.columns:\n",
    "    T_clusters_device_brand_ratio[f\"{col}_rat\"] = T_clusters_device_brand_ratio[col]/T_clusters_device_brand_ratio[col].sum()\n",
    "    T_clusters_device_brand_ratio = T_clusters_device_brand_ratio.drop(columns=[col])"
   ]
  },
  {
   "cell_type": "code",
   "execution_count": null,
   "id": "a7aa7da2-69c0-4ff6-9364-2d8f0c631ab1",
   "metadata": {},
   "outputs": [],
   "source": [
    "T_clusters_device_brand_ratio.sort_values(by=\"cluster_5_rat\", ascending=False).head(30)"
   ]
  },
  {
   "cell_type": "markdown",
   "id": "8adccb35-d76c-40e2-9a9c-e62e01312b03",
   "metadata": {},
   "source": [
    "### RESEARCHING CLUSTER 5"
   ]
  },
  {
   "cell_type": "code",
   "execution_count": null,
   "id": "a8bec590-f590-4525-b836-31147ab158f0",
   "metadata": {},
   "outputs": [],
   "source": [
    "curious = emb_short[emb_short[\"cluster\"] == 0].reset_index(drop=True)\n",
    "curious"
   ]
  },
  {
   "cell_type": "code",
   "execution_count": null,
   "id": "f1c2aab7-c2e9-4370-b707-09fff0286fc0",
   "metadata": {},
   "outputs": [],
   "source": [
    "watches_pages = pages_user.filter(regex=\"client_id|watch\")"
   ]
  },
  {
   "cell_type": "code",
   "execution_count": null,
   "id": "f02e2dbc-00f6-4db5-9e88-b84cfe61bbb2",
   "metadata": {},
   "outputs": [],
   "source": [
    "curious_whatch_pages = curious.merge(watches_pages, on=\"client_id\", how=\"inner\")"
   ]
  },
  {
   "cell_type": "code",
   "execution_count": null,
   "id": "2cf9dc7f-e40e-4ddd-bdb7-29bd22974c28",
   "metadata": {},
   "outputs": [],
   "source": [
    "curious_whatch_pages"
   ]
  },
  {
   "cell_type": "code",
   "execution_count": null,
   "id": "28e5e882-0395-4eae-853c-2af0132aeb63",
   "metadata": {},
   "outputs": [],
   "source": [
    "curious_watch5 = curious_whatch_pages[[\"client_id\", \"is_user\", \"watch5-pro\", \"watch5\", \"watch5-strap\"]]"
   ]
  },
  {
   "cell_type": "code",
   "execution_count": null,
   "id": "6ae7c82a-e485-474a-bbd3-aaeeeebbdca4",
   "metadata": {},
   "outputs": [],
   "source": [
    "hits_user = curious[curious[\"is_user\"] == 1]['hits']\n",
    "hits_non = curious[curious[\"is_user\"] == 0]['hits']\n",
    "totals = curious['hits']\n",
    "\n",
    "upper_clip = 200\n",
    "\n",
    "sns.set_theme()\n",
    "plt.figure(figsize=(12, 4), dpi=80)\n",
    "_, bins, _ = plt.hist(hits_user.clip(upper=upper_clip), bins=50, alpha=0.5,\\\n",
    "                      label='Curious, logged', weights=np.ones(hits_user.shape[0])/hits_user.shape[0])\n",
    "plt.hist(hits_non.clip(upper=upper_clip), bins=bins, alpha=0.5,\\\n",
    "         label='Curious, non-logged', weights=np.ones(hits_non.shape[0])/hits_non.shape[0])\n",
    "# plt.hist(totals.clip(upper=upper_clip), bins=bins, alpha=0.5, label='Total', weights=np.ones(totals.shape[0])/totals.shape[0])\n",
    "plt.legend(loc='upper right', prop={'size': 15})\n",
    "plt.xlabel('Number of transactions', fontsize=10)\n",
    "plt.ylabel('% Number of client_ids', fontsize=10)\n",
    "plt.title(\"Amount of transactions per period\", fontsize=15)\n",
    "\n",
    "plt.show()"
   ]
  },
  {
   "cell_type": "code",
   "execution_count": null,
   "id": "8d5e3360-6e6d-4b53-a81c-eb5b666423fe",
   "metadata": {},
   "outputs": [],
   "source": [
    "activity_by_logged = curious.groupby([\"is_user\"])\\\n",
    "    .agg({\"hits\": np.median,\\\n",
    "          \"hits_watches\": np.median,\\\n",
    "          \"days_active\": np.median,\\\n",
    "          \"hits_per_day\": np.median,\\\n",
    "          \"watches_hits_ratio\": np.median})\n",
    "activity_by_logged"
   ]
  },
  {
   "cell_type": "code",
   "execution_count": null,
   "id": "d3eea226-c764-4647-89f3-6d9fcc3331ff",
   "metadata": {},
   "outputs": [],
   "source": [
    "pages_activity = curious_whatch_pages.drop(columns=[\"client_id\", \"is_user\"]).sum().reset_index()\n",
    "pages_activity.columns = [\"page\", \"hits\"]\n",
    "# pages_activity.sort_values(by=\"hits\", ascending=False)"
   ]
  },
  {
   "cell_type": "code",
   "execution_count": null,
   "id": "9c5f8779-3bef-4665-82c0-a62b87c053a7",
   "metadata": {},
   "outputs": [],
   "source": [
    "pages_activity[(pages_activity[\"page\"].str.contains(\"5\")) & ~(pages_activity[\"page\"].str.contains(\"pro\"))]"
   ]
  },
  {
   "cell_type": "code",
   "execution_count": null,
   "id": "a0a64259-0819-4397-b3a7-94ef616e15e2",
   "metadata": {},
   "outputs": [],
   "source": [
    "pages_activity[(pages_activity[\"page\"].str.contains(\"4\")) & ~(pages_activity[\"page\"].str.contains(\"pro\"))\\\n",
    "               & ~(pages_activity[\"page\"].str.contains(\"5\"))]"
   ]
  },
  {
   "cell_type": "code",
   "execution_count": null,
   "id": "345bfa6d-149b-415c-abec-ecd3b9c41065",
   "metadata": {},
   "outputs": [],
   "source": [
    "watch4_hits = pages_activity[(pages_activity[\"page\"].str.contains(\"4\")) & ~(pages_activity[\"page\"].str.contains(\"pro\"))\\\n",
    "               & ~(pages_activity[\"page\"].str.contains(\"5\"))][\"hits\"].sum()"
   ]
  },
  {
   "cell_type": "code",
   "execution_count": null,
   "id": "aa0d9b1c-14b5-44fb-a7da-56242dc6f457",
   "metadata": {},
   "outputs": [],
   "source": [
    "watch5_hits = pages_activity[(pages_activity[\"page\"].str.contains(\"5\"))\\\n",
    "                             & ~(pages_activity[\"page\"].str.contains(\"pro\"))][\"hits\"].sum()"
   ]
  },
  {
   "cell_type": "code",
   "execution_count": null,
   "id": "3ac4a862-0eba-4945-ad3c-0b15d991e5eb",
   "metadata": {},
   "outputs": [],
   "source": [
    "pages_activity[(pages_activity[\"page\"].str.contains(\"5\")) & (pages_activity[\"page\"].str.contains(\"pro\"))]"
   ]
  },
  {
   "cell_type": "code",
   "execution_count": null,
   "id": "82770ccb-de23-4836-86c3-cc63de5131d9",
   "metadata": {},
   "outputs": [],
   "source": [
    "pages_activity[(pages_activity[\"page\"].str.contains(\"4\")) & (pages_activity[\"page\"].str.contains(\"pro\"))\\\n",
    "               & ~(pages_activity[\"page\"].str.contains(\"5\"))]"
   ]
  },
  {
   "cell_type": "code",
   "execution_count": null,
   "id": "2bdbcf99-1eef-4134-bf9c-3fa76e35d419",
   "metadata": {},
   "outputs": [],
   "source": [
    "watch5_pro_hits = pages_activity[(pages_activity[\"page\"].str.contains(\"5\"))\\\n",
    "                                 & (pages_activity[\"page\"].str.contains(\"pro\"))][\"hits\"].sum()"
   ]
  },
  {
   "cell_type": "code",
   "execution_count": null,
   "id": "93fb8e9f-6eba-477b-a981-205af97568fd",
   "metadata": {},
   "outputs": [],
   "source": []
  },
  {
   "cell_type": "code",
   "execution_count": null,
   "id": "88504dbb-9038-406c-954d-d59c62923f67",
   "metadata": {},
   "outputs": [],
   "source": []
  },
  {
   "cell_type": "code",
   "execution_count": null,
   "id": "c1345b92-67ad-48b3-b9f3-75ba41d6777a",
   "metadata": {},
   "outputs": [],
   "source": [
    "decisive = emb_short[emb_short[\"cluster\"] == 3].reset_index(drop=True)\n",
    "decisive"
   ]
  },
  {
   "cell_type": "code",
   "execution_count": null,
   "id": "67103686-c092-4ae0-b42f-76cc8ac447b8",
   "metadata": {},
   "outputs": [],
   "source": []
  },
  {
   "cell_type": "code",
   "execution_count": null,
   "id": "2fd2dee8-5cac-4b2d-bb92-1e0c84fbf426",
   "metadata": {},
   "outputs": [],
   "source": [
    "decisive_whatch_pages = decisive.merge(watches_pages, on=\"client_id\", how=\"inner\")"
   ]
  },
  {
   "cell_type": "code",
   "execution_count": null,
   "id": "95823eb5-8d6d-4206-b25b-5ec1aa7f78ed",
   "metadata": {},
   "outputs": [],
   "source": [
    "hits_user = decisive[decisive[\"is_user\"] == 1]['hits']\n",
    "hits_non = decisive[decisive[\"is_user\"] == 0]['hits']\n",
    "totals = decisive['hits']\n",
    "\n",
    "upper_clip = 200\n",
    "\n",
    "sns.set_theme()\n",
    "plt.figure(figsize=(12, 4), dpi=80)\n",
    "_, bins, _ = plt.hist(hits_user.clip(upper=upper_clip), bins=50, alpha=0.5,\\\n",
    "                      label='decisive, logged', weights=np.ones(hits_user.shape[0])/hits_user.shape[0])\n",
    "plt.hist(hits_non.clip(upper=upper_clip), bins=bins, alpha=0.5,\\\n",
    "         label='decisive, non-logged', weights=np.ones(hits_non.shape[0])/hits_non.shape[0])\n",
    "# plt.hist(totals.clip(upper=upper_clip), bins=bins, alpha=0.5, label='Total', weights=np.ones(totals.shape[0])/totals.shape[0])\n",
    "plt.legend(loc='upper right', prop={'size': 15})\n",
    "plt.xlabel('Number of transactions', fontsize=10)\n",
    "plt.ylabel('% Number of client_ids', fontsize=10)\n",
    "plt.title(\"Amount of transactions per period\", fontsize=15)\n",
    "\n",
    "plt.show()"
   ]
  },
  {
   "cell_type": "code",
   "execution_count": null,
   "id": "560f4cde-a6ef-4dc9-a1d9-fa82400c5c30",
   "metadata": {},
   "outputs": [],
   "source": [
    "def pages_act(df):\n",
    "    \"\"\"\n",
    "    Making the total hits out of activities\n",
    "    \"\"\"\n",
    "    pages_activity = df.drop(columns=[\"client_id\", \"is_user\"]).sum().reset_index()\n",
    "    pages_activity.columns = [\"page\", \"hits\"]\n",
    "    pages_activity = pages_activity.sort_values(by=\"hits\", ascending=False)\n",
    "    \n",
    "    return pages_activity\n",
    "\n",
    "\n"
   ]
  },
  {
   "cell_type": "code",
   "execution_count": null,
   "id": "ce015a5e-b600-4020-a184-6e4483d9b5b5",
   "metadata": {},
   "outputs": [],
   "source": [
    "def watch_type(pages_activity):\n",
    "    \n",
    "    watch4_activity = pages_activity[(pages_activity[\"page\"].str.contains(\"4\")) & ~(pages_activity[\"page\"].str.contains(\"pro\"))\\\n",
    "                   & ~(pages_activity[\"page\"].str.contains(\"5\"))\\\n",
    "                                     & (pages_activity[\"page\"] != \"galaxy-watch4\")]\n",
    "    watch5_activity = pages_activity[(pages_activity[\"page\"].str.contains(\"5\"))\\\n",
    "                                 & ~(pages_activity[\"page\"].str.contains(\"pro\"))\\\n",
    "                                    & (pages_activity[\"page\"] != \"galaxy-watch5\")]\n",
    "    watch5_pro_activity = pages_activity[(pages_activity[\"page\"].str.contains(\"5\"))\\\n",
    "                                     & (pages_activity[\"page\"].str.contains(\"pro\"))]\n",
    "    \n",
    "    watch4_hits = watch4_activity[\"hits\"].sum()\n",
    "    watch5_hits = watch5_activity[\"hits\"].sum()\n",
    "    watch5_pro_hits = watch5_pro_activity[\"hits\"].sum()\n",
    "    print(f\"watch4 hits: {watch4_hits}\")\n",
    "    print(f\"watch5 hits: {watch5_hits}\")\n",
    "    print(f\"watch5 pro hits: {watch5_pro_hits}\")\n",
    "    \n",
    "    return watch4_activity, watch5_activity, watch5_pro_activity"
   ]
  },
  {
   "cell_type": "code",
   "execution_count": null,
   "id": "4b7d5278-8b26-4837-8c3b-bdeea4824bea",
   "metadata": {},
   "outputs": [],
   "source": [
    "pages_curious = pages_act(curious_whatch_pages)\n",
    "cur_watch4_activity, cur_watch5_activity, cur_watch5_pro_activity = watch_type(pages_curious)"
   ]
  },
  {
   "cell_type": "code",
   "execution_count": null,
   "id": "c665ebeb-9b15-4204-89c8-07b8804d05c0",
   "metadata": {},
   "outputs": [],
   "source": [
    "pages_dicisive = pages_act(decisive_whatch_pages)\n",
    "dic_watch4_activity, dic_watch5_activity, dic_watch5_pro_activity = watch_type(pages_dicisive)"
   ]
  },
  {
   "cell_type": "code",
   "execution_count": null,
   "id": "306719ed-2c7a-4294-ad58-d1e09f82b42c",
   "metadata": {},
   "outputs": [],
   "source": [
    "dic_watch4_activity"
   ]
  },
  {
   "cell_type": "code",
   "execution_count": null,
   "id": "4802f7c6-02d8-4ade-812d-6b0a162084e1",
   "metadata": {},
   "outputs": [],
   "source": [
    "bundle = emb_short[emb_short[\"cluster\"] == 4].reset_index(drop=True)"
   ]
  },
  {
   "cell_type": "code",
   "execution_count": null,
   "id": "cfb444b4-0254-4926-b9d4-f8e4b9ab8ad3",
   "metadata": {},
   "outputs": [],
   "source": [
    "hits_user = bundle[bundle[\"is_user\"] == 1]['hits']\n",
    "hits_non = bundle[bundle[\"is_user\"] == 0]['hits']\n",
    "totals = bundle['hits']\n",
    "\n",
    "upper_clip = 300\n",
    "\n",
    "sns.set_theme()\n",
    "plt.figure(figsize=(12, 4), dpi=80)\n",
    "_, bins, _ = plt.hist(hits_user.clip(upper=upper_clip), bins=50, alpha=0.5,\\\n",
    "                      label='bundle, logged', weights=np.ones(hits_user.shape[0])/hits_user.shape[0])\n",
    "plt.hist(hits_non.clip(upper=upper_clip), bins=bins, alpha=0.5,\\\n",
    "         label='bundle, non-logged', weights=np.ones(hits_non.shape[0])/hits_non.shape[0])\n",
    "# plt.hist(totals.clip(upper=upper_clip), bins=bins, alpha=0.5, label='Total', weights=np.ones(totals.shape[0])/totals.shape[0])\n",
    "plt.legend(loc='upper right', prop={'size': 15})\n",
    "plt.xlabel('Number of transactions', fontsize=10)\n",
    "plt.ylabel('% Number of client_ids', fontsize=10)\n",
    "plt.title(\"Amount of transactions per period\", fontsize=15)\n",
    "\n",
    "plt.show()"
   ]
  },
  {
   "cell_type": "code",
   "execution_count": null,
   "id": "2b48e18e-1f7d-474d-9b4f-e521234fae2b",
   "metadata": {},
   "outputs": [],
   "source": [
    "bundle_whatch_pages = bundle.merge(watches_pages, on=\"client_id\", how=\"inner\")\n",
    "pages_bundle = pages_act(bundle_whatch_pages)\n",
    "bun_watch4_activity, bun_watch5_activity, bun_watch5_pro_activity = watch_type(pages_bundle)"
   ]
  },
  {
   "cell_type": "code",
   "execution_count": null,
   "id": "d37b4fed-f8dd-400c-ba02-a9ac9ea7324f",
   "metadata": {},
   "outputs": [],
   "source": []
  },
  {
   "cell_type": "code",
   "execution_count": null,
   "id": "60fb991d-8923-4ebf-9e7f-dee0a8196b76",
   "metadata": {},
   "outputs": [],
   "source": [
    "besp = emb_short[emb_short[\"cluster\"] == 2].reset_index(drop=True)\n",
    "besp_whatch_pages = besp.merge(watches_pages, on=\"client_id\", how=\"inner\")\n",
    "pages_besp = pages_act(besp_whatch_pages)\n",
    "besp_watch4_activity, besp_watch5_activity, besp_watch5_pro_activity = watch_type(pages_besp)"
   ]
  },
  {
   "cell_type": "code",
   "execution_count": null,
   "id": "dd4ff9b7-93c8-4d76-a8b9-6c53f61f5ae7",
   "metadata": {},
   "outputs": [],
   "source": [
    "besp_watch4_activity"
   ]
  },
  {
   "cell_type": "code",
   "execution_count": null,
   "id": "58ff871e-7e3c-4bba-a609-1e5d434fa1c3",
   "metadata": {},
   "outputs": [],
   "source": [
    "besp_4 = besp_whatch_pages[[\"galaxy-watch4-classic\"]][\"galaxy-watch4-classic\"]"
   ]
  },
  {
   "cell_type": "code",
   "execution_count": null,
   "id": "355f1d04-2a4d-4e0b-a18e-235fde0028c2",
   "metadata": {},
   "outputs": [],
   "source": [
    "plt.hist(besp_4, bins=50, alpha=0.5,\\\n",
    "                      label='besp', weights=np.ones(besp_4.shape[0])/besp_4.shape[0])"
   ]
  },
  {
   "cell_type": "code",
   "execution_count": null,
   "id": "fff84535-0c9e-444a-86d6-f29a1510af18",
   "metadata": {},
   "outputs": [],
   "source": [
    "plt.boxplot(besp_4)\n",
    "plt.show()"
   ]
  },
  {
   "cell_type": "code",
   "execution_count": null,
   "id": "ff830bd4-3f8b-4962-bbf4-2c21962107de",
   "metadata": {},
   "outputs": [],
   "source": [
    "besp_4.reset_index().sort_values(by=\"galaxy-watch4-classic\")"
   ]
  },
  {
   "cell_type": "code",
   "execution_count": null,
   "id": "3ff00d6d-34a7-4579-94c6-f4a1d8ff4bf0",
   "metadata": {},
   "outputs": [],
   "source": [
    "besp_watch4_activity"
   ]
  },
  {
   "cell_type": "code",
   "execution_count": null,
   "id": "fb1a4812-0a97-4054-87bc-1ad97b13b693",
   "metadata": {},
   "outputs": [],
   "source": [
    "hits_user = besp[besp[\"is_user\"] == 1]['hits']\n",
    "hits_non = besp[besp[\"is_user\"] == 0]['hits']\n",
    "totals = besp['hits']\n",
    "\n",
    "upper_clip = 2000\n",
    "\n",
    "sns.set_theme()\n",
    "plt.figure(figsize=(12, 4), dpi=80)\n",
    "_, bins, _ = plt.hist(hits_user.clip(upper=upper_clip), bins=50, alpha=0.5,\\\n",
    "                      label='bespokers, logged', weights=np.ones(hits_user.shape[0])/hits_user.shape[0])\n",
    "plt.hist(hits_non.clip(upper=upper_clip), bins=bins, alpha=0.5,\\\n",
    "         label='bespokers, non-logged', weights=np.ones(hits_non.shape[0])/hits_non.shape[0])\n",
    "# plt.hist(totals.clip(upper=upper_clip), bins=bins, alpha=0.5, label='Total', weights=np.ones(totals.shape[0])/totals.shape[0])\n",
    "plt.legend(loc='upper right', prop={'size': 15})\n",
    "plt.xlabel('Number of transactions', fontsize=10)\n",
    "plt.ylabel('% Number of client_ids', fontsize=10)\n",
    "plt.title(\"Amount of transactions per period\", fontsize=15)\n",
    "\n",
    "plt.show()"
   ]
  },
  {
   "cell_type": "code",
   "execution_count": null,
   "id": "b5b1976f-a2aa-477e-a86a-b8ec23abcf66",
   "metadata": {},
   "outputs": [],
   "source": []
  },
  {
   "cell_type": "code",
   "execution_count": null,
   "id": "ca4c6e1c-29a1-42fb-ad29-2e6c0bf8427c",
   "metadata": {},
   "outputs": [],
   "source": [
    "loyal = emb_short[emb_short[\"cluster\"] == 5].reset_index(drop=True)\n",
    "loyal_whatch_pages = loyal.merge(watches_pages, on=\"client_id\", how=\"inner\")\n",
    "pages_loyal = pages_act(loyal_whatch_pages)\n",
    "loyal_watch4_activity, loyal_watch5_activity, loyal_watch5_pro_activity = watch_type(pages_loyal)"
   ]
  },
  {
   "cell_type": "code",
   "execution_count": null,
   "id": "3708971f-e29b-47c6-8bb6-1bcf8012c7ea",
   "metadata": {},
   "outputs": [],
   "source": [
    "hits_user = loyal[loyal[\"is_user\"] == 1]['hits']\n",
    "hits_non = loyal[loyal[\"is_user\"] == 0]['hits']\n",
    "totals = loyal['hits']\n",
    "\n",
    "upper_clip = 2000\n",
    "\n",
    "sns.set_theme()\n",
    "plt.figure(figsize=(12, 4), dpi=80)\n",
    "_, bins, _ = plt.hist(hits_user.clip(upper=upper_clip), bins=50, alpha=0.5,\\\n",
    "                      label='loyal, logged', weights=np.ones(hits_user.shape[0])/hits_user.shape[0])\n",
    "plt.hist(hits_non.clip(upper=upper_clip), bins=bins, alpha=0.5,\\\n",
    "         label='loyal, non-logged', weights=np.ones(hits_non.shape[0])/hits_non.shape[0])\n",
    "# plt.hist(totals.clip(upper=upper_clip), bins=bins, alpha=0.5, label='Total', weights=np.ones(totals.shape[0])/totals.shape[0])\n",
    "plt.legend(loc='upper right', prop={'size': 15})\n",
    "plt.xlabel('Number of transactions', fontsize=10)\n",
    "plt.ylabel('% Number of client_ids', fontsize=10)\n",
    "plt.title(\"Amount of transactions per period\", fontsize=15)\n",
    "\n",
    "plt.show()"
   ]
  },
  {
   "cell_type": "code",
   "execution_count": null,
   "id": "0b475ff2-d2bd-4bf3-bdde-1197fdc0247c",
   "metadata": {},
   "outputs": [],
   "source": [
    "round(pages_loyal[pages_loyal[\"page\"] == \"watchstudio\"].reset_index(drop=True)[\"hits\"][0]/loyal.shape[0], 2)"
   ]
  },
  {
   "cell_type": "code",
   "execution_count": null,
   "id": "8b190ecc-5192-4706-9f24-5923b11d5150",
   "metadata": {},
   "outputs": [],
   "source": [
    "round(pages_besp[pages_besp[\"page\"] == \"watchstudio\"].reset_index(drop=True)[\"hits\"][0]/besp.shape[0], 2)"
   ]
  },
  {
   "cell_type": "code",
   "execution_count": null,
   "id": "99906b76-98ca-4b3f-8b2f-ee6182b6a1a5",
   "metadata": {},
   "outputs": [],
   "source": [
    "round(pages_bundle[pages_bundle[\"page\"] == \"watchstudio\"].reset_index(drop=True)[\"hits\"][0]/bundle.shape[0], 2)"
   ]
  },
  {
   "cell_type": "code",
   "execution_count": null,
   "id": "1b70f784-a1c8-4708-8d89-8ec507860e0d",
   "metadata": {},
   "outputs": [],
   "source": [
    "round(pages_dicisive[pages_dicisive[\"page\"] == \"watchstudio\"].reset_index(drop=True)[\"hits\"][0]/decisive.shape[0], 2)"
   ]
  },
  {
   "cell_type": "code",
   "execution_count": null,
   "id": "284b8653-635e-4836-adeb-9b0ac405be5b",
   "metadata": {},
   "outputs": [],
   "source": [
    "round(pages_curious[pages_curious[\"page\"] == \"watchstudio\"].reset_index(drop=True)[\"hits\"][0]/curious.shape[0], 2)"
   ]
  },
  {
   "cell_type": "code",
   "execution_count": null,
   "id": "7d0bbed7-892b-43db-9e79-7fcd66f1d020",
   "metadata": {},
   "outputs": [],
   "source": [
    "how-to-use-the-galaxy-watch"
   ]
  },
  {
   "cell_type": "code",
   "execution_count": null,
   "id": "7ad8a4ea-2495-4378-a49e-4f4bf58a79da",
   "metadata": {},
   "outputs": [],
   "source": [
    "def page_invest(page_name):\n",
    "    print(f\"loyal interacting with {page_name}\", round(pages_loyal[pages_loyal[\"page\"] == page_name].reset_index(drop=True)[\"hits\"][0]/loyal.shape[0], 2))\n",
    "    print(f\"bespoke interacting with {page_name}\", round(pages_besp[pages_besp[\"page\"] == page_name].reset_index(drop=True)[\"hits\"][0]/besp.shape[0], 2))\n",
    "    print(f\"bundle interacting with {page_name}\", round(pages_bundle[pages_bundle[\"page\"] == page_name].reset_index(drop=True)[\"hits\"][0]/bundle.shape[0], 2))\n",
    "    print(f\"decisive interacting with {page_name}\", round(pages_dicisive[pages_dicisive[\"page\"] == page_name].reset_index(drop=True)[\"hits\"][0]/decisive.shape[0], 2))\n",
    "    print(f\"curious interacting with {page_name}\", round(pages_curious[pages_curious[\"page\"] == page_name].reset_index(drop=True)[\"hits\"][0]/curious.shape[0], 2))"
   ]
  },
  {
   "cell_type": "code",
   "execution_count": null,
   "id": "bc091ff9-4c72-425a-81e1-c45e92555ee7",
   "metadata": {},
   "outputs": [],
   "source": [
    "page_invest(\"how-to-use-the-galaxy-watch\")"
   ]
  },
  {
   "cell_type": "code",
   "execution_count": null,
   "id": "0bb6672c-7b7d-45c2-bebb-f7fcebbe4018",
   "metadata": {},
   "outputs": [],
   "source": [
    "def page_invest_part(page_name):\n",
    "    print(f\"loyal interacting with {page_name}\", round(pages_loyal[pages_loyal[\"page\"].str.contains(page_name)]\\\n",
    "                                                       [\"hits\"].sum()/loyal.shape[0], 2))\n",
    "    print(f\"bespoke interacting with {page_name}\", round(pages_besp[pages_besp[\"page\"].str.contains(page_name)]\\\n",
    "                                                         [\"hits\"].sum()/besp.shape[0], 2))\n",
    "    print(f\"bundle interacting with {page_name}\", round(pages_bundle[pages_bundle[\"page\"].str.contains(page_name)]\\\n",
    "                                                        [\"hits\"].sum()/bundle.shape[0], 2))\n",
    "    print(f\"decisive interacting with {page_name}\", round(pages_dicisive[pages_dicisive[\"page\"].str.contains(page_name)]\\\n",
    "                                                          [\"hits\"].sum()/decisive.shape[0], 2))\n",
    "    print(f\"curious interacting with {page_name}\", round(pages_curious[pages_curious[\"page\"].str.contains(page_name)]\\\n",
    "                                                         [\"hits\"].sum()/curious.shape[0], 2))"
   ]
  },
  {
   "cell_type": "code",
   "execution_count": null,
   "id": "e48a8ef6-4982-4d7a-b2ab-107d89c4ebef",
   "metadata": {},
   "outputs": [],
   "source": [
    "page_invest_part(\"strap\")"
   ]
  },
  {
   "cell_type": "code",
   "execution_count": null,
   "id": "234109bf-6c3c-4ff8-b56a-fd502f9e1e4d",
   "metadata": {},
   "outputs": [],
   "source": [
    "def tags_act(df, df_tags):\n",
    "    \n",
    "    tags = df.merge(df_tags, on=\"client_id\", how=\"inner\")\n",
    "    tags_activity = tags.drop(columns=[\"client_id\", \"is_user\", 'hits',\\\n",
    "                                       'hits_watches', 'hits_per_day',\\\n",
    "                                       'days_active', 'cluster', \"gnb:open\",\\\n",
    "                                       \"view more\", \"carousel:arrow:right\", \"login\", \"image click\"]).sum().reset_index()\n",
    "    tags_activity.columns = [\"page\", \"hits\"]\n",
    "    tags_activity = tags_activity.sort_values(by=\"hits\", ascending=False)\n",
    "    \n",
    "    return tags_activity"
   ]
  },
  {
   "cell_type": "code",
   "execution_count": null,
   "id": "0d4dd99e-73c2-4411-bdc9-7478b596e5be",
   "metadata": {},
   "outputs": [],
   "source": [
    "loyal_tag = tags_act(loyal, tags_user)\n",
    "besp_tag = tags_act(besp, tags_user)\n",
    "bundle_tag = tags_act(bundle, tags_user)\n",
    "decisive_tag = tags_act(decisive, tags_user)\n",
    "curious_tag = tags_act(curious, tags_user)"
   ]
  },
  {
   "cell_type": "code",
   "execution_count": null,
   "id": "122a50d2-dd92-48ed-8229-c2e2c078ef79",
   "metadata": {},
   "outputs": [],
   "source": [
    "def tags_invest(tag_name):\n",
    "    print(f\"loyal interacting with {tag_name}\", round(loyal_tag[loyal_tag[\"page\"] == tag_name].reset_index(drop=True)[\"hits\"][0]/loyal.shape[0], 2))\n",
    "    print(f\"bespoke interacting with {tag_name}\", round(besp_tag[besp_tag[\"page\"] == tag_name].reset_index(drop=True)[\"hits\"][0]/besp.shape[0], 2))\n",
    "    print(f\"bundle interacting with {tag_name}\", round(bundle_tag[bundle_tag[\"page\"] == tag_name].reset_index(drop=True)[\"hits\"][0]/bundle.shape[0], 2))\n",
    "    print(f\"decisive interacting with {tag_name}\", round(decisive_tag[decisive_tag[\"page\"] == tag_name].reset_index(drop=True)[\"hits\"][0]/decisive.shape[0], 2))\n",
    "    print(f\"curious interacting with {tag_name}\", round(curious_tag[curious_tag[\"page\"] == tag_name].reset_index(drop=True)[\"hits\"][0]/curious.shape[0], 2))"
   ]
  },
  {
   "cell_type": "code",
   "execution_count": null,
   "id": "2bf6b3e3-a1fd-478a-a6cd-f5157d1bb503",
   "metadata": {},
   "outputs": [],
   "source": [
    "def tags_invest_purch(tag_name):\n",
    "    print(f\"loyal interacting with {tag_name}\", round(loyal_tag[loyal_tag[\"page\"] == tag_name].reset_index(drop=True)[\"hits\"][0]/20648, 2))\n",
    "    print(f\"bespoke interacting with {tag_name}\", round(besp_tag[besp_tag[\"page\"] == tag_name].reset_index(drop=True)[\"hits\"][0]/865, 2))\n",
    "    print(f\"bundle interacting with {tag_name}\", round(bundle_tag[bundle_tag[\"page\"] == tag_name].reset_index(drop=True)[\"hits\"][0]/1714, 2))\n",
    "    print(f\"decisive interacting with {tag_name}\", round(decisive_tag[decisive_tag[\"page\"] == tag_name].reset_index(drop=True)[\"hits\"][0]/1367, 2))\n",
    "    print(f\"curious interacting with {tag_name}\", round(curious_tag[curious_tag[\"page\"] == tag_name].reset_index(drop=True)[\"hits\"][0]/4895, 2))"
   ]
  },
  {
   "cell_type": "code",
   "execution_count": null,
   "id": "1fe78f29-6aad-4a06-a7f5-c4ef67b311d5",
   "metadata": {},
   "outputs": [],
   "source": [
    "tags_invest_purch(\"pre-order\")"
   ]
  },
  {
   "cell_type": "code",
   "execution_count": null,
   "id": "ded1c8ae-eb0f-4b84-a99a-9175f10cb289",
   "metadata": {},
   "outputs": [],
   "source": [
    "tags_invest(\"pre-order\")"
   ]
  },
  {
   "cell_type": "code",
   "execution_count": null,
   "id": "96e3a6e1-8875-406a-af81-f32fb5cc4ece",
   "metadata": {},
   "outputs": [],
   "source": [
    "tags_invest(\"compare\")"
   ]
  },
  {
   "cell_type": "code",
   "execution_count": null,
   "id": "a50f0915-fc35-4e0c-97ef-1a8497e2269c",
   "metadata": {},
   "outputs": [],
   "source": [
    "tags_invest(\"sort:price ascending\")"
   ]
  },
  {
   "cell_type": "code",
   "execution_count": null,
   "id": "d08b0ac2-c077-4b4a-892a-abbea90c509b",
   "metadata": {},
   "outputs": [],
   "source": [
    "pages_bundle"
   ]
  },
  {
   "cell_type": "code",
   "execution_count": null,
   "id": "0e9c15e1-afd8-46ca-a580-e17a68854df3",
   "metadata": {},
   "outputs": [],
   "source": [
    "besp_tag.head(30)"
   ]
  },
  {
   "cell_type": "code",
   "execution_count": null,
   "id": "2e44470b-3bc3-416f-a547-bf9563226bb9",
   "metadata": {},
   "outputs": [],
   "source": [
    "curious_tag[curious_tag[\"page\"].str.contains(\"colour\")]"
   ]
  },
  {
   "cell_type": "code",
   "execution_count": null,
   "id": "b6631c1d-2f5d-4ace-a740-39bd0bdd43a1",
   "metadata": {},
   "outputs": [],
   "source": [
    "curious_loyal.head(30)"
   ]
  },
  {
   "cell_type": "code",
   "execution_count": null,
   "id": "68649c00-31ca-4e53-b707-33ae5142e20b",
   "metadata": {},
   "outputs": [],
   "source": [
    "tag_loyal.head(30)"
   ]
  },
  {
   "cell_type": "code",
   "execution_count": null,
   "id": "52ee8411-ba14-41b9-9840-d03c581b8aa1",
   "metadata": {},
   "outputs": [],
   "source": [
    "pages_besp"
   ]
  }
 ],
 "metadata": {
  "environment": {
   "kernel": "python3",
   "name": "common-cu110.m104",
   "type": "gcloud",
   "uri": "gcr.io/deeplearning-platform-release/base-cu110:m104"
  },
  "kernelspec": {
   "display_name": "Python 3",
   "language": "python",
   "name": "python3"
  },
  "language_info": {
   "codemirror_mode": {
    "name": "ipython",
    "version": 3
   },
   "file_extension": ".py",
   "mimetype": "text/x-python",
   "name": "python",
   "nbconvert_exporter": "python",
   "pygments_lexer": "ipython3",
   "version": "3.7.12"
  }
 },
 "nbformat": 4,
 "nbformat_minor": 5
}
